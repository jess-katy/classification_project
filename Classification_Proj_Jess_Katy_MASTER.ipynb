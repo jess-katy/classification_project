{
 "cells": [
  {
   "cell_type": "code",
   "execution_count": 1,
   "metadata": {},
   "outputs": [],
   "source": [
    "#MASTER_NOTEBOOK_CLASSIFICATION"
   ]
  },
  {
   "cell_type": "markdown",
   "metadata": {},
   "source": [
    "# Classification Project!"
   ]
  },
  {
   "cell_type": "markdown",
   "metadata": {},
   "source": [
    "Why are our customers churning?\n",
    "Some questions I have include:\n",
    "*\tCould the month in which they signed up influence churn? i.e. if a cohort is identified by tenure, is there a cohort or cohorts who have a higher rate of churn than other cohorts? (Plot the rate of churn on a line chart where x is the tenure and y is the rate of churn (customers churned/total customers))\n",
    "*\tAre there features that indicate a higher propensity to churn? like type of internet service, type of phone service, online security and backup, senior citizens, paying more than x% of customers with the same services, etc.?\n",
    "*\tIs there a price threshold for specific services where the likelihood of churn increases once price for those services goes past that point? If so, what is that point for what service(s)?\n",
    "*\tIf we looked at churn rate for month-to-month customers after the 12th month and that of 1-year contract customers after the 12th month, are those rates comparable?\n",
    "\n",
    "## Deliverables:\n",
    "1.\tI will also need a report (ipynb) answering the question, \"Why are our customers churning?\" I want to see the analysis you did to answer my questions and lead to your findings. Please clearly call out the questions and answers you are analyzing. E.g. If you find that month-to-month customers churn more, I won't be surprised, but I am not getting rid of that plan. The fact that they churn is not because they can, it's because they can and they are motivated to do so. I want some insight into why they are motivated to do so. I realize you will not be able to do a full causal experiment, but I hope to see some solid evidence of your conclusions.\n",
    "2.\tI will need you to deliver to me a csv with the customer_id, probability of churn, and the prediction of churn (1=churn, 0=not_churn). I would also like a single goolgle slide that illustrates how your model works, including the features being used, so that I can deliver this to the SLT when they come with questions about how these values were derived. Please make sure you include how likely your model is to give a high probability of churn when churn doesn't occur, to give a low probability of churn when churn occurs, and to accurately predict churn.\n",
    "3.\tFinally, our development team will need a .py file that will take in a new dataset, (in the exact same form of the one you acquired from telco_churn.customers) and perform all the transformations necessary to run the model you have developed on this new dataset to provide probabilities and predictions.\n"
   ]
  },
  {
   "cell_type": "markdown",
   "metadata": {},
   "source": [
    "# Acquisition\n",
    "Use the mysql connector to query telco_churn.customers. Assign the output of that query to the dataframe df. You want to include all the fields."
   ]
  },
  {
   "cell_type": "code",
   "execution_count": 1,
   "metadata": {},
   "outputs": [],
   "source": [
    "# ignore warnings\n",
    "import warnings\n",
    "warnings.filterwarnings(\"ignore\")\n",
    "\n",
    "import pandas as pd\n",
    "import numpy as np\n",
    "\n",
    "%matplotlib inline\n",
    "import matplotlib.pyplot as plt\n",
    "import seaborn as sns\n",
    "\n",
    "from scipy import stats\n",
    "from sklearn.preprocessing import LabelEncoder\n",
    "from sklearn.preprocessing import MinMaxScaler\n",
    "from sklearn.model_selection import train_test_split\n",
    "from sklearn.linear_model import LogisticRegression\n",
    "from sklearn.tree import DecisionTreeClassifier\n",
    "from sklearn.metrics import classification_report\n",
    "from sklearn.metrics import confusion_matrix\n",
    "from sklearn import tree"
   ]
  },
  {
   "cell_type": "code",
   "execution_count": 2,
   "metadata": {},
   "outputs": [],
   "source": [
    "path = './'\n",
    "df = pd.read_csv(path + \"telco_churn.csv\")"
   ]
  },
  {
   "cell_type": "markdown",
   "metadata": {},
   "source": [
    "Write a function, peekatdata(dataframe), that takes a dataframe as input and computes and returns the following:\n",
    "    *\tcreates dataframe object head_df (df of the first 5 rows) and prints contents to screen\n",
    "    *\tcreates dataframe object tail_df (df of the last 5 rows) and prints contents to screen\n",
    "    *\tcreates tuple object shape_tuple (tuple of (nrows, ncols)) and prints tuple to screen\n",
    "    *\tcreates dataframe object describe_df (summary statistics of all numeric variables) and prints contents to screen.\n",
    "    *\tprints to screen the information about a DataFrame including the index dtype and column dtypes, non-null values and memory usage.\n",
    "\n",
    "\n"
   ]
  },
  {
   "cell_type": "code",
   "execution_count": 3,
   "metadata": {},
   "outputs": [],
   "source": [
    "def peekatdata(df):\n",
    "    print(\"\\nRows & Columns:\\n\")\n",
    "    print(df.shape)\n",
    "    print(\"\\nColumn Info:\\n\")\n",
    "    print(df.info())\n",
    "    print(\"\\nFirst 5 rows:\\n\")\n",
    "    print(df.head())\n",
    "    print(\"\\nLast 5 rows:\\n\")\n",
    "    print(df.tail())\n",
    "    print(\"\\nMissing Values:\\n\")\n",
    "    missing_vals = df.columns[df.isnull().any()]\n",
    "    print(df.isnull().sum())\n",
    "    print(\"\\nSummary Stats:\\n\")\n",
    "    print(df.describe())"
   ]
  },
  {
   "cell_type": "code",
   "execution_count": 4,
   "metadata": {},
   "outputs": [
    {
     "name": "stdout",
     "output_type": "stream",
     "text": [
      "\n",
      "Rows & Columns:\n",
      "\n",
      "(7043, 27)\n",
      "\n",
      "Column Info:\n",
      "\n",
      "<class 'pandas.core.frame.DataFrame'>\n",
      "RangeIndex: 7043 entries, 0 to 7042\n",
      "Data columns (total 27 columns):\n",
      "customer_id                   7043 non-null object\n",
      "gender                        7043 non-null object\n",
      "senior_citizen                7043 non-null int64\n",
      "partner                       7043 non-null object\n",
      "dependents                    7043 non-null object\n",
      "tenure                        7043 non-null int64\n",
      "phone_service                 7043 non-null object\n",
      "multiple_lines                7043 non-null object\n",
      "internet_service_type_id      7043 non-null int64\n",
      "online_security               7043 non-null object\n",
      "online_backup                 7043 non-null object\n",
      "device_protection             7043 non-null object\n",
      "tech_support                  7043 non-null object\n",
      "streaming_tv                  7043 non-null object\n",
      "streaming_movies              7043 non-null object\n",
      "contract_type_id              7043 non-null int64\n",
      "paperless_billing             7043 non-null object\n",
      "payment_type_id               7043 non-null int64\n",
      "monthly_charges               7043 non-null float64\n",
      "total_charges                 7043 non-null object\n",
      "churn                         7043 non-null object\n",
      "contract_type_id.1            7043 non-null int64\n",
      "contract_type                 7043 non-null object\n",
      "internet_service_type_id.1    7043 non-null int64\n",
      "internet_service_type         7043 non-null object\n",
      "payment_type_id.1             7043 non-null int64\n",
      "payment_type                  7043 non-null object\n",
      "dtypes: float64(1), int64(8), object(18)\n",
      "memory usage: 1.5+ MB\n",
      "None\n",
      "\n",
      "First 5 rows:\n",
      "\n",
      "  customer_id  gender  senior_citizen partner dependents  tenure  \\\n",
      "0  0003-MKNFE    Male               0      No         No       9   \n",
      "1  0013-MHZWF  Female               0      No        Yes       9   \n",
      "2  0015-UOCOJ  Female               1      No         No       7   \n",
      "3  0023-HGHWL    Male               1      No         No       1   \n",
      "4  0032-PGELS  Female               0     Yes        Yes       1   \n",
      "\n",
      "  phone_service    multiple_lines  internet_service_type_id online_security  \\\n",
      "0           Yes               Yes                         1              No   \n",
      "1           Yes                No                         1              No   \n",
      "2           Yes                No                         1             Yes   \n",
      "3            No  No phone service                         1              No   \n",
      "4            No  No phone service                         1             Yes   \n",
      "\n",
      "             ...             payment_type_id monthly_charges total_charges  \\\n",
      "0            ...                           2            59.9         542.4   \n",
      "1            ...                           4            69.4        571.45   \n",
      "2            ...                           1            48.2        340.35   \n",
      "3            ...                           1            25.1          25.1   \n",
      "4            ...                           3            30.5          30.5   \n",
      "\n",
      "  churn contract_type_id.1   contract_type internet_service_type_id.1  \\\n",
      "0    No                  1  Month-to-month                          1   \n",
      "1    No                  1  Month-to-month                          1   \n",
      "2    No                  1  Month-to-month                          1   \n",
      "3   Yes                  1  Month-to-month                          1   \n",
      "4   Yes                  1  Month-to-month                          1   \n",
      "\n",
      "   internet_service_type  payment_type_id.1               payment_type  \n",
      "0                    DSL                  2               Mailed check  \n",
      "1                    DSL                  4    Credit card (automatic)  \n",
      "2                    DSL                  1           Electronic check  \n",
      "3                    DSL                  1           Electronic check  \n",
      "4                    DSL                  3  Bank transfer (automatic)  \n",
      "\n",
      "[5 rows x 27 columns]\n",
      "\n",
      "Last 5 rows:\n",
      "\n",
      "     customer_id  gender  senior_citizen partner dependents  tenure  \\\n",
      "7038  9950-MTGYX    Male               0     Yes        Yes      28   \n",
      "7039  9953-ZMKSM    Male               0      No         No      63   \n",
      "7040  9964-WBQDJ  Female               0     Yes         No      71   \n",
      "7041  9972-EWRJS  Female               0     Yes        Yes      67   \n",
      "7042  9975-GPKZU    Male               0     Yes        Yes      46   \n",
      "\n",
      "     phone_service multiple_lines  internet_service_type_id  \\\n",
      "7038           Yes             No                         3   \n",
      "7039           Yes            Yes                         3   \n",
      "7040           Yes            Yes                         3   \n",
      "7041           Yes             No                         3   \n",
      "7042           Yes             No                         3   \n",
      "\n",
      "          online_security            ...             payment_type_id  \\\n",
      "7038  No internet service            ...                           4   \n",
      "7039  No internet service            ...                           2   \n",
      "7040  No internet service            ...                           4   \n",
      "7041  No internet service            ...                           3   \n",
      "7042  No internet service            ...                           4   \n",
      "\n",
      "     monthly_charges total_charges churn contract_type_id.1  contract_type  \\\n",
      "7038           20.30        487.95    No                  3       Two year   \n",
      "7039           25.25        1559.3    No                  3       Two year   \n",
      "7040           24.40        1725.4    No                  3       Two year   \n",
      "7041           19.25        1372.9    No                  3       Two year   \n",
      "7042           19.75         856.5    No                  3       Two year   \n",
      "\n",
      "     internet_service_type_id.1  internet_service_type  payment_type_id.1  \\\n",
      "7038                          3                   None                  4   \n",
      "7039                          3                   None                  2   \n",
      "7040                          3                   None                  4   \n",
      "7041                          3                   None                  3   \n",
      "7042                          3                   None                  4   \n",
      "\n",
      "                   payment_type  \n",
      "7038    Credit card (automatic)  \n",
      "7039               Mailed check  \n",
      "7040    Credit card (automatic)  \n",
      "7041  Bank transfer (automatic)  \n",
      "7042    Credit card (automatic)  \n",
      "\n",
      "[5 rows x 27 columns]\n",
      "\n",
      "Missing Values:\n",
      "\n",
      "customer_id                   0\n",
      "gender                        0\n",
      "senior_citizen                0\n",
      "partner                       0\n",
      "dependents                    0\n",
      "tenure                        0\n",
      "phone_service                 0\n",
      "multiple_lines                0\n",
      "internet_service_type_id      0\n",
      "online_security               0\n",
      "online_backup                 0\n",
      "device_protection             0\n",
      "tech_support                  0\n",
      "streaming_tv                  0\n",
      "streaming_movies              0\n",
      "contract_type_id              0\n",
      "paperless_billing             0\n",
      "payment_type_id               0\n",
      "monthly_charges               0\n",
      "total_charges                 0\n",
      "churn                         0\n",
      "contract_type_id.1            0\n",
      "contract_type                 0\n",
      "internet_service_type_id.1    0\n",
      "internet_service_type         0\n",
      "payment_type_id.1             0\n",
      "payment_type                  0\n",
      "dtype: int64\n",
      "\n",
      "Summary Stats:\n",
      "\n",
      "       senior_citizen       tenure  internet_service_type_id  \\\n",
      "count     7043.000000  7043.000000               7043.000000   \n",
      "mean         0.162147    32.371149                  1.872923   \n",
      "std          0.368612    24.559481                  0.737796   \n",
      "min          0.000000     0.000000                  1.000000   \n",
      "25%          0.000000     9.000000                  1.000000   \n",
      "50%          0.000000    29.000000                  2.000000   \n",
      "75%          0.000000    55.000000                  2.000000   \n",
      "max          1.000000    72.000000                  3.000000   \n",
      "\n",
      "       contract_type_id  payment_type_id  monthly_charges  contract_type_id.1  \\\n",
      "count       7043.000000      7043.000000      7043.000000         7043.000000   \n",
      "mean           1.690473         2.315633        64.761692            1.690473   \n",
      "std            0.833755         1.148907        30.090047            0.833755   \n",
      "min            1.000000         1.000000        18.250000            1.000000   \n",
      "25%            1.000000         1.000000        35.500000            1.000000   \n",
      "50%            1.000000         2.000000        70.350000            1.000000   \n",
      "75%            2.000000         3.000000        89.850000            2.000000   \n",
      "max            3.000000         4.000000       118.750000            3.000000   \n",
      "\n",
      "       internet_service_type_id.1  payment_type_id.1  \n",
      "count                 7043.000000        7043.000000  \n",
      "mean                     1.872923           2.315633  \n",
      "std                      0.737796           1.148907  \n",
      "min                      1.000000           1.000000  \n",
      "25%                      1.000000           1.000000  \n",
      "50%                      2.000000           2.000000  \n",
      "75%                      2.000000           3.000000  \n",
      "max                      3.000000           4.000000  \n"
     ]
    }
   ],
   "source": [
    "peekatdata(df)"
   ]
  },
  {
   "cell_type": "markdown",
   "metadata": {},
   "source": [
    "# Data Prep\n",
    "# Question 1\n",
    "Write a function, df_value_counts(dataframe), that takes a dataframe as input and computes and returns the values by frequency for each variable. Use the rule of thumb for your logic on whether or not to use the bins argument. The function will use a for loop and an in statement.\n",
    "for col in df.columns: n = df[col].unique().shape[0] col_bins = min(n,10) print('%s:' % col) if df[col].dtype in ['int64','float64'] and n > 10: print(df[col].value_counts(bins=col_bins, sort=False)) else: print(df[col].value_counts()) print('\\n')"
   ]
  },
  {
   "cell_type": "code",
   "execution_count": 5,
   "metadata": {},
   "outputs": [],
   "source": [
    "def df_value_counts(df):\n",
    "    for col in df.columns: \n",
    "        n = df[col].unique().shape[0] \n",
    "        col_bins = min(n,10) \n",
    "        if df[col].dtype in ['int64','float64'] and n > 10:\n",
    "            print('%s:' % col)\n",
    "            print(df[col].value_counts(bins=col_bins, sort=False)) \n",
    "        else: \n",
    "            print(df[col].value_counts()) \n",
    "        print('\\n')"
   ]
  },
  {
   "cell_type": "code",
   "execution_count": 6,
   "metadata": {},
   "outputs": [
    {
     "name": "stdout",
     "output_type": "stream",
     "text": [
      "2725-TTRIQ    1\n",
      "8992-JQYUN    1\n",
      "3791-LGQCY    1\n",
      "5846-NEQVZ    1\n",
      "9094-AZPHK    1\n",
      "7779-LGOVN    1\n",
      "8734-DKSTZ    1\n",
      "2234-EOFPT    1\n",
      "6469-MRVET    1\n",
      "9101-BWFSS    1\n",
      "2603-HVKCG    1\n",
      "2789-HQBOU    1\n",
      "3904-UKFRE    1\n",
      "9979-RGMZT    1\n",
      "8468-FZTOE    1\n",
      "6838-YAUVY    1\n",
      "3892-NXAZG    1\n",
      "4049-ZPALD    1\n",
      "6440-DKQGE    1\n",
      "4807-IZYOZ    1\n",
      "8905-IAZPF    1\n",
      "9169-BSVIN    1\n",
      "0841-NULXI    1\n",
      "4940-KHCWD    1\n",
      "9046-JBFWA    1\n",
      "2209-XADXF    1\n",
      "2087-QAREY    1\n",
      "2137-DQMEV    1\n",
      "8644-XLFBW    1\n",
      "5522-JBWMO    1\n",
      "             ..\n",
      "5628-FCGYG    1\n",
      "2359-KLTEK    1\n",
      "0774-RMNUW    1\n",
      "6221-AVQYL    1\n",
      "0229-LFJAF    1\n",
      "1031-IIDEO    1\n",
      "5025-GOOKI    1\n",
      "6047-YHPVI    1\n",
      "7272-QDCKA    1\n",
      "7029-RPUAV    1\n",
      "8792-AOROI    1\n",
      "6990-YNRIO    1\n",
      "6368-NWMCE    1\n",
      "5339-PXDVH    1\n",
      "8267-KFGYD    1\n",
      "0193-ESZXP    1\n",
      "2580-ATZSQ    1\n",
      "0749-IRGQE    1\n",
      "6719-FGEDO    1\n",
      "2203-GHNWN    1\n",
      "4115-BNPJY    1\n",
      "1156-ZFYDO    1\n",
      "8259-NFJTV    1\n",
      "4484-GLZOU    1\n",
      "3951-NJCVI    1\n",
      "6876-ADESB    1\n",
      "8383-SGHJU    1\n",
      "7402-PWYJJ    1\n",
      "8851-RAGOV    1\n",
      "1336-EZFZY    1\n",
      "Name: customer_id, Length: 7043, dtype: int64\n",
      "\n",
      "\n",
      "Male      3555\n",
      "Female    3488\n",
      "Name: gender, dtype: int64\n",
      "\n",
      "\n",
      "0    5901\n",
      "1    1142\n",
      "Name: senior_citizen, dtype: int64\n",
      "\n",
      "\n",
      "No     3641\n",
      "Yes    3402\n",
      "Name: partner, dtype: int64\n",
      "\n",
      "\n",
      "No     4933\n",
      "Yes    2110\n",
      "Name: dependents, dtype: int64\n",
      "\n",
      "\n",
      "tenure:\n",
      "(-0.073, 7.2]    1612\n",
      "(7.2, 14.4]       759\n",
      "(14.4, 21.6]      570\n",
      "(21.6, 28.8]      556\n",
      "(28.8, 36.0]      545\n",
      "(36.0, 43.2]      444\n",
      "(43.2, 50.4]      452\n",
      "(50.4, 57.6]      495\n",
      "(57.6, 64.8]      501\n",
      "(64.8, 72.0]     1109\n",
      "Name: tenure, dtype: int64\n",
      "\n",
      "\n",
      "Yes    6361\n",
      "No      682\n",
      "Name: phone_service, dtype: int64\n",
      "\n",
      "\n",
      "No                  3390\n",
      "Yes                 2971\n",
      "No phone service     682\n",
      "Name: multiple_lines, dtype: int64\n",
      "\n",
      "\n",
      "2    3096\n",
      "1    2421\n",
      "3    1526\n",
      "Name: internet_service_type_id, dtype: int64\n",
      "\n",
      "\n",
      "No                     3498\n",
      "Yes                    2019\n",
      "No internet service    1526\n",
      "Name: online_security, dtype: int64\n",
      "\n",
      "\n",
      "No                     3088\n",
      "Yes                    2429\n",
      "No internet service    1526\n",
      "Name: online_backup, dtype: int64\n",
      "\n",
      "\n",
      "No                     3095\n",
      "Yes                    2422\n",
      "No internet service    1526\n",
      "Name: device_protection, dtype: int64\n",
      "\n",
      "\n",
      "No                     3473\n",
      "Yes                    2044\n",
      "No internet service    1526\n",
      "Name: tech_support, dtype: int64\n",
      "\n",
      "\n",
      "No                     2810\n",
      "Yes                    2707\n",
      "No internet service    1526\n",
      "Name: streaming_tv, dtype: int64\n",
      "\n",
      "\n",
      "No                     2785\n",
      "Yes                    2732\n",
      "No internet service    1526\n",
      "Name: streaming_movies, dtype: int64\n",
      "\n",
      "\n",
      "1    3875\n",
      "3    1695\n",
      "2    1473\n",
      "Name: contract_type_id, dtype: int64\n",
      "\n",
      "\n",
      "Yes    4171\n",
      "No     2872\n",
      "Name: paperless_billing, dtype: int64\n",
      "\n",
      "\n",
      "1    2365\n",
      "2    1612\n",
      "3    1544\n",
      "4    1522\n",
      "Name: payment_type_id, dtype: int64\n",
      "\n",
      "\n",
      "monthly_charges:\n",
      "(18.148999999999997, 28.3]    1606\n",
      "(28.3, 38.35]                  191\n",
      "(38.35, 48.4]                  365\n",
      "(48.4, 58.45]                  640\n",
      "(58.45, 68.5]                  474\n",
      "(68.5, 78.55]                  893\n",
      "(78.55, 88.6]                  953\n",
      "(88.6, 98.65]                  873\n",
      "(98.65, 108.7]                 754\n",
      "(108.7, 118.75]                294\n",
      "Name: monthly_charges, dtype: int64\n",
      "\n",
      "\n",
      "           11\n",
      "20.2       11\n",
      "19.75       9\n",
      "20.05       8\n",
      "19.65       8\n",
      "19.9        8\n",
      "19.55       7\n",
      "45.3        7\n",
      "20.15       6\n",
      "20.25       6\n",
      "19.45       6\n",
      "20.45       5\n",
      "20.3        5\n",
      "20.5        4\n",
      "19.85       4\n",
      "69.65       4\n",
      "19.3        4\n",
      "19.95       4\n",
      "50.15       4\n",
      "19.5        4\n",
      "20.4        4\n",
      "19.2        4\n",
      "69.9        4\n",
      "44          4\n",
      "70.6        4\n",
      "69.6        4\n",
      "74.7        4\n",
      "69.95       4\n",
      "20.35       4\n",
      "19.4        4\n",
      "           ..\n",
      "1709.15     1\n",
      "1529.2      1\n",
      "536.4       1\n",
      "196.15      1\n",
      "1970.5      1\n",
      "7848.5      1\n",
      "772.4       1\n",
      "210.75      1\n",
      "392.65      1\n",
      "156.1       1\n",
      "102.45      1\n",
      "2568.15     1\n",
      "201.7       1\n",
      "3420.5      1\n",
      "112.75      1\n",
      "202.15      1\n",
      "4433.3      1\n",
      "6688.1      1\n",
      "2768.65     1\n",
      "1524.85     1\n",
      "79.2        1\n",
      "159.15      1\n",
      "3415.25     1\n",
      "1291.3      1\n",
      "2724.25     1\n",
      "1131.5      1\n",
      "2602.9      1\n",
      "3958.2      1\n",
      "1422.1      1\n",
      "1601.5      1\n",
      "Name: total_charges, Length: 6531, dtype: int64\n",
      "\n",
      "\n",
      "No     5174\n",
      "Yes    1869\n",
      "Name: churn, dtype: int64\n",
      "\n",
      "\n",
      "1    3875\n",
      "3    1695\n",
      "2    1473\n",
      "Name: contract_type_id.1, dtype: int64\n",
      "\n",
      "\n",
      "Month-to-month    3875\n",
      "Two year          1695\n",
      "One year          1473\n",
      "Name: contract_type, dtype: int64\n",
      "\n",
      "\n",
      "2    3096\n",
      "1    2421\n",
      "3    1526\n",
      "Name: internet_service_type_id.1, dtype: int64\n",
      "\n",
      "\n",
      "Fiber optic    3096\n",
      "DSL            2421\n",
      "None           1526\n",
      "Name: internet_service_type, dtype: int64\n",
      "\n",
      "\n",
      "1    2365\n",
      "2    1612\n",
      "3    1544\n",
      "4    1522\n",
      "Name: payment_type_id.1, dtype: int64\n",
      "\n",
      "\n",
      "Electronic check             2365\n",
      "Mailed check                 1612\n",
      "Bank transfer (automatic)    1544\n",
      "Credit card (automatic)      1522\n",
      "Name: payment_type, dtype: int64\n",
      "\n",
      "\n"
     ]
    }
   ],
   "source": [
    "df_value_counts(df)"
   ]
  },
  {
   "cell_type": "markdown",
   "metadata": {},
   "source": [
    "# Question 2\n",
    "Missing Values:\n",
    "    *\tWrite a function, that returns a dataframe of the column name and the number of missing values and the percentage of missing values (missing records/total records) for each of the columns that have > 0 missing values.\n",
    "df.isnull().sum()\n",
    "    *\tDocument your takeaways. For each variable:\n",
    "    *\tshould you remove the observations with a missing value for that variable?\n",
    "    *\tshould you remove the variable altogether?\n",
    "    *\tis missing equivalent to 0 (or some other constant value) in the specific case of this variable?\n",
    "    *\tshould you replace the missing values with a value it is most likely to represent (e.g. Are the missing values a result of data integrity issues and should be replaced by the most likely value?)\n",
    "    *\tHandle the missing values in the way you recommended above."
   ]
  },
  {
   "cell_type": "code",
   "execution_count": 7,
   "metadata": {},
   "outputs": [],
   "source": [
    "def percent_missing(df):\n",
    "    missing_table = df.isnull().sum()/df.shape[0]*100\n",
    "    return missing_table"
   ]
  },
  {
   "cell_type": "code",
   "execution_count": 8,
   "metadata": {},
   "outputs": [
    {
     "data": {
      "text/plain": [
       "customer_id                   0.0\n",
       "gender                        0.0\n",
       "senior_citizen                0.0\n",
       "partner                       0.0\n",
       "dependents                    0.0\n",
       "tenure                        0.0\n",
       "phone_service                 0.0\n",
       "multiple_lines                0.0\n",
       "internet_service_type_id      0.0\n",
       "online_security               0.0\n",
       "online_backup                 0.0\n",
       "device_protection             0.0\n",
       "tech_support                  0.0\n",
       "streaming_tv                  0.0\n",
       "streaming_movies              0.0\n",
       "contract_type_id              0.0\n",
       "paperless_billing             0.0\n",
       "payment_type_id               0.0\n",
       "monthly_charges               0.0\n",
       "total_charges                 0.0\n",
       "churn                         0.0\n",
       "contract_type_id.1            0.0\n",
       "contract_type                 0.0\n",
       "internet_service_type_id.1    0.0\n",
       "internet_service_type         0.0\n",
       "payment_type_id.1             0.0\n",
       "payment_type                  0.0\n",
       "dtype: float64"
      ]
     },
     "execution_count": 8,
     "metadata": {},
     "output_type": "execute_result"
    }
   ],
   "source": [
    "percent_missing(df)"
   ]
  },
  {
   "cell_type": "code",
   "execution_count": 9,
   "metadata": {},
   "outputs": [
    {
     "data": {
      "text/html": [
       "<div>\n",
       "<style scoped>\n",
       "    .dataframe tbody tr th:only-of-type {\n",
       "        vertical-align: middle;\n",
       "    }\n",
       "\n",
       "    .dataframe tbody tr th {\n",
       "        vertical-align: top;\n",
       "    }\n",
       "\n",
       "    .dataframe thead th {\n",
       "        text-align: right;\n",
       "    }\n",
       "</style>\n",
       "<table border=\"1\" class=\"dataframe\">\n",
       "  <thead>\n",
       "    <tr style=\"text-align: right;\">\n",
       "      <th></th>\n",
       "      <th>customer_id</th>\n",
       "      <th>gender</th>\n",
       "      <th>senior_citizen</th>\n",
       "      <th>partner</th>\n",
       "      <th>dependents</th>\n",
       "      <th>tenure</th>\n",
       "      <th>phone_service</th>\n",
       "      <th>multiple_lines</th>\n",
       "      <th>internet_service_type_id</th>\n",
       "      <th>online_security</th>\n",
       "      <th>...</th>\n",
       "      <th>payment_type_id</th>\n",
       "      <th>monthly_charges</th>\n",
       "      <th>total_charges</th>\n",
       "      <th>churn</th>\n",
       "      <th>contract_type_id.1</th>\n",
       "      <th>contract_type</th>\n",
       "      <th>internet_service_type_id.1</th>\n",
       "      <th>internet_service_type</th>\n",
       "      <th>payment_type_id.1</th>\n",
       "      <th>payment_type</th>\n",
       "    </tr>\n",
       "  </thead>\n",
       "  <tbody>\n",
       "    <tr>\n",
       "      <th>0</th>\n",
       "      <td>0003-MKNFE</td>\n",
       "      <td>Male</td>\n",
       "      <td>0</td>\n",
       "      <td>No</td>\n",
       "      <td>No</td>\n",
       "      <td>9</td>\n",
       "      <td>Yes</td>\n",
       "      <td>Yes</td>\n",
       "      <td>1</td>\n",
       "      <td>No</td>\n",
       "      <td>...</td>\n",
       "      <td>2</td>\n",
       "      <td>59.9</td>\n",
       "      <td>542.40</td>\n",
       "      <td>No</td>\n",
       "      <td>1</td>\n",
       "      <td>Month-to-month</td>\n",
       "      <td>1</td>\n",
       "      <td>DSL</td>\n",
       "      <td>2</td>\n",
       "      <td>Mailed check</td>\n",
       "    </tr>\n",
       "    <tr>\n",
       "      <th>1</th>\n",
       "      <td>0013-MHZWF</td>\n",
       "      <td>Female</td>\n",
       "      <td>0</td>\n",
       "      <td>No</td>\n",
       "      <td>Yes</td>\n",
       "      <td>9</td>\n",
       "      <td>Yes</td>\n",
       "      <td>No</td>\n",
       "      <td>1</td>\n",
       "      <td>No</td>\n",
       "      <td>...</td>\n",
       "      <td>4</td>\n",
       "      <td>69.4</td>\n",
       "      <td>571.45</td>\n",
       "      <td>No</td>\n",
       "      <td>1</td>\n",
       "      <td>Month-to-month</td>\n",
       "      <td>1</td>\n",
       "      <td>DSL</td>\n",
       "      <td>4</td>\n",
       "      <td>Credit card (automatic)</td>\n",
       "    </tr>\n",
       "    <tr>\n",
       "      <th>2</th>\n",
       "      <td>0015-UOCOJ</td>\n",
       "      <td>Female</td>\n",
       "      <td>1</td>\n",
       "      <td>No</td>\n",
       "      <td>No</td>\n",
       "      <td>7</td>\n",
       "      <td>Yes</td>\n",
       "      <td>No</td>\n",
       "      <td>1</td>\n",
       "      <td>Yes</td>\n",
       "      <td>...</td>\n",
       "      <td>1</td>\n",
       "      <td>48.2</td>\n",
       "      <td>340.35</td>\n",
       "      <td>No</td>\n",
       "      <td>1</td>\n",
       "      <td>Month-to-month</td>\n",
       "      <td>1</td>\n",
       "      <td>DSL</td>\n",
       "      <td>1</td>\n",
       "      <td>Electronic check</td>\n",
       "    </tr>\n",
       "    <tr>\n",
       "      <th>3</th>\n",
       "      <td>0023-HGHWL</td>\n",
       "      <td>Male</td>\n",
       "      <td>1</td>\n",
       "      <td>No</td>\n",
       "      <td>No</td>\n",
       "      <td>1</td>\n",
       "      <td>No</td>\n",
       "      <td>No phone service</td>\n",
       "      <td>1</td>\n",
       "      <td>No</td>\n",
       "      <td>...</td>\n",
       "      <td>1</td>\n",
       "      <td>25.1</td>\n",
       "      <td>25.10</td>\n",
       "      <td>Yes</td>\n",
       "      <td>1</td>\n",
       "      <td>Month-to-month</td>\n",
       "      <td>1</td>\n",
       "      <td>DSL</td>\n",
       "      <td>1</td>\n",
       "      <td>Electronic check</td>\n",
       "    </tr>\n",
       "    <tr>\n",
       "      <th>4</th>\n",
       "      <td>0032-PGELS</td>\n",
       "      <td>Female</td>\n",
       "      <td>0</td>\n",
       "      <td>Yes</td>\n",
       "      <td>Yes</td>\n",
       "      <td>1</td>\n",
       "      <td>No</td>\n",
       "      <td>No phone service</td>\n",
       "      <td>1</td>\n",
       "      <td>Yes</td>\n",
       "      <td>...</td>\n",
       "      <td>3</td>\n",
       "      <td>30.5</td>\n",
       "      <td>30.50</td>\n",
       "      <td>Yes</td>\n",
       "      <td>1</td>\n",
       "      <td>Month-to-month</td>\n",
       "      <td>1</td>\n",
       "      <td>DSL</td>\n",
       "      <td>3</td>\n",
       "      <td>Bank transfer (automatic)</td>\n",
       "    </tr>\n",
       "  </tbody>\n",
       "</table>\n",
       "<p>5 rows × 27 columns</p>\n",
       "</div>"
      ],
      "text/plain": [
       "  customer_id  gender  senior_citizen partner dependents  tenure  \\\n",
       "0  0003-MKNFE    Male               0      No         No       9   \n",
       "1  0013-MHZWF  Female               0      No        Yes       9   \n",
       "2  0015-UOCOJ  Female               1      No         No       7   \n",
       "3  0023-HGHWL    Male               1      No         No       1   \n",
       "4  0032-PGELS  Female               0     Yes        Yes       1   \n",
       "\n",
       "  phone_service    multiple_lines  internet_service_type_id online_security  \\\n",
       "0           Yes               Yes                         1              No   \n",
       "1           Yes                No                         1              No   \n",
       "2           Yes                No                         1             Yes   \n",
       "3            No  No phone service                         1              No   \n",
       "4            No  No phone service                         1             Yes   \n",
       "\n",
       "             ...             payment_type_id monthly_charges total_charges  \\\n",
       "0            ...                           2            59.9        542.40   \n",
       "1            ...                           4            69.4        571.45   \n",
       "2            ...                           1            48.2        340.35   \n",
       "3            ...                           1            25.1         25.10   \n",
       "4            ...                           3            30.5         30.50   \n",
       "\n",
       "  churn contract_type_id.1   contract_type internet_service_type_id.1  \\\n",
       "0    No                  1  Month-to-month                          1   \n",
       "1    No                  1  Month-to-month                          1   \n",
       "2    No                  1  Month-to-month                          1   \n",
       "3   Yes                  1  Month-to-month                          1   \n",
       "4   Yes                  1  Month-to-month                          1   \n",
       "\n",
       "   internet_service_type  payment_type_id.1               payment_type  \n",
       "0                    DSL                  2               Mailed check  \n",
       "1                    DSL                  4    Credit card (automatic)  \n",
       "2                    DSL                  1           Electronic check  \n",
       "3                    DSL                  1           Electronic check  \n",
       "4                    DSL                  3  Bank transfer (automatic)  \n",
       "\n",
       "[5 rows x 27 columns]"
      ]
     },
     "execution_count": 9,
     "metadata": {},
     "output_type": "execute_result"
    }
   ],
   "source": [
    "df['total_charges'] = df['total_charges'].convert_objects(convert_numeric=True)\n",
    "df.total_charges.dropna(0, inplace=True)\n",
    "\n",
    "df.head()"
   ]
  },
  {
   "cell_type": "markdown",
   "metadata": {},
   "source": [
    "### Total charges was the only variable that had empty strings for 11 values. Those rows were dropped. Every other variable does not have issues with missing data."
   ]
  },
  {
   "cell_type": "markdown",
   "metadata": {},
   "source": [
    "# Question 3\n",
    "Transform churn such that \"yes\" = 1 and \"no\" = 0"
   ]
  },
  {
   "cell_type": "code",
   "execution_count": 10,
   "metadata": {},
   "outputs": [],
   "source": [
    "def make_binary(df):\n",
    "    df['churn'] == 'Yes'\n",
    "    (df['churn'] == 'Yes').astype(int)\n",
    "    df['churn'] = (df['churn'] == 'Yes').astype(int)\n",
    "    return(df.head())"
   ]
  },
  {
   "cell_type": "code",
   "execution_count": 11,
   "metadata": {},
   "outputs": [
    {
     "data": {
      "text/html": [
       "<div>\n",
       "<style scoped>\n",
       "    .dataframe tbody tr th:only-of-type {\n",
       "        vertical-align: middle;\n",
       "    }\n",
       "\n",
       "    .dataframe tbody tr th {\n",
       "        vertical-align: top;\n",
       "    }\n",
       "\n",
       "    .dataframe thead th {\n",
       "        text-align: right;\n",
       "    }\n",
       "</style>\n",
       "<table border=\"1\" class=\"dataframe\">\n",
       "  <thead>\n",
       "    <tr style=\"text-align: right;\">\n",
       "      <th></th>\n",
       "      <th>customer_id</th>\n",
       "      <th>gender</th>\n",
       "      <th>senior_citizen</th>\n",
       "      <th>partner</th>\n",
       "      <th>dependents</th>\n",
       "      <th>tenure</th>\n",
       "      <th>phone_service</th>\n",
       "      <th>multiple_lines</th>\n",
       "      <th>internet_service_type_id</th>\n",
       "      <th>online_security</th>\n",
       "      <th>...</th>\n",
       "      <th>payment_type_id</th>\n",
       "      <th>monthly_charges</th>\n",
       "      <th>total_charges</th>\n",
       "      <th>churn</th>\n",
       "      <th>contract_type_id.1</th>\n",
       "      <th>contract_type</th>\n",
       "      <th>internet_service_type_id.1</th>\n",
       "      <th>internet_service_type</th>\n",
       "      <th>payment_type_id.1</th>\n",
       "      <th>payment_type</th>\n",
       "    </tr>\n",
       "  </thead>\n",
       "  <tbody>\n",
       "    <tr>\n",
       "      <th>0</th>\n",
       "      <td>0003-MKNFE</td>\n",
       "      <td>Male</td>\n",
       "      <td>0</td>\n",
       "      <td>No</td>\n",
       "      <td>No</td>\n",
       "      <td>9</td>\n",
       "      <td>Yes</td>\n",
       "      <td>Yes</td>\n",
       "      <td>1</td>\n",
       "      <td>No</td>\n",
       "      <td>...</td>\n",
       "      <td>2</td>\n",
       "      <td>59.9</td>\n",
       "      <td>542.40</td>\n",
       "      <td>0</td>\n",
       "      <td>1</td>\n",
       "      <td>Month-to-month</td>\n",
       "      <td>1</td>\n",
       "      <td>DSL</td>\n",
       "      <td>2</td>\n",
       "      <td>Mailed check</td>\n",
       "    </tr>\n",
       "    <tr>\n",
       "      <th>1</th>\n",
       "      <td>0013-MHZWF</td>\n",
       "      <td>Female</td>\n",
       "      <td>0</td>\n",
       "      <td>No</td>\n",
       "      <td>Yes</td>\n",
       "      <td>9</td>\n",
       "      <td>Yes</td>\n",
       "      <td>No</td>\n",
       "      <td>1</td>\n",
       "      <td>No</td>\n",
       "      <td>...</td>\n",
       "      <td>4</td>\n",
       "      <td>69.4</td>\n",
       "      <td>571.45</td>\n",
       "      <td>0</td>\n",
       "      <td>1</td>\n",
       "      <td>Month-to-month</td>\n",
       "      <td>1</td>\n",
       "      <td>DSL</td>\n",
       "      <td>4</td>\n",
       "      <td>Credit card (automatic)</td>\n",
       "    </tr>\n",
       "    <tr>\n",
       "      <th>2</th>\n",
       "      <td>0015-UOCOJ</td>\n",
       "      <td>Female</td>\n",
       "      <td>1</td>\n",
       "      <td>No</td>\n",
       "      <td>No</td>\n",
       "      <td>7</td>\n",
       "      <td>Yes</td>\n",
       "      <td>No</td>\n",
       "      <td>1</td>\n",
       "      <td>Yes</td>\n",
       "      <td>...</td>\n",
       "      <td>1</td>\n",
       "      <td>48.2</td>\n",
       "      <td>340.35</td>\n",
       "      <td>0</td>\n",
       "      <td>1</td>\n",
       "      <td>Month-to-month</td>\n",
       "      <td>1</td>\n",
       "      <td>DSL</td>\n",
       "      <td>1</td>\n",
       "      <td>Electronic check</td>\n",
       "    </tr>\n",
       "    <tr>\n",
       "      <th>3</th>\n",
       "      <td>0023-HGHWL</td>\n",
       "      <td>Male</td>\n",
       "      <td>1</td>\n",
       "      <td>No</td>\n",
       "      <td>No</td>\n",
       "      <td>1</td>\n",
       "      <td>No</td>\n",
       "      <td>No phone service</td>\n",
       "      <td>1</td>\n",
       "      <td>No</td>\n",
       "      <td>...</td>\n",
       "      <td>1</td>\n",
       "      <td>25.1</td>\n",
       "      <td>25.10</td>\n",
       "      <td>1</td>\n",
       "      <td>1</td>\n",
       "      <td>Month-to-month</td>\n",
       "      <td>1</td>\n",
       "      <td>DSL</td>\n",
       "      <td>1</td>\n",
       "      <td>Electronic check</td>\n",
       "    </tr>\n",
       "    <tr>\n",
       "      <th>4</th>\n",
       "      <td>0032-PGELS</td>\n",
       "      <td>Female</td>\n",
       "      <td>0</td>\n",
       "      <td>Yes</td>\n",
       "      <td>Yes</td>\n",
       "      <td>1</td>\n",
       "      <td>No</td>\n",
       "      <td>No phone service</td>\n",
       "      <td>1</td>\n",
       "      <td>Yes</td>\n",
       "      <td>...</td>\n",
       "      <td>3</td>\n",
       "      <td>30.5</td>\n",
       "      <td>30.50</td>\n",
       "      <td>1</td>\n",
       "      <td>1</td>\n",
       "      <td>Month-to-month</td>\n",
       "      <td>1</td>\n",
       "      <td>DSL</td>\n",
       "      <td>3</td>\n",
       "      <td>Bank transfer (automatic)</td>\n",
       "    </tr>\n",
       "  </tbody>\n",
       "</table>\n",
       "<p>5 rows × 27 columns</p>\n",
       "</div>"
      ],
      "text/plain": [
       "  customer_id  gender  senior_citizen partner dependents  tenure  \\\n",
       "0  0003-MKNFE    Male               0      No         No       9   \n",
       "1  0013-MHZWF  Female               0      No        Yes       9   \n",
       "2  0015-UOCOJ  Female               1      No         No       7   \n",
       "3  0023-HGHWL    Male               1      No         No       1   \n",
       "4  0032-PGELS  Female               0     Yes        Yes       1   \n",
       "\n",
       "  phone_service    multiple_lines  internet_service_type_id online_security  \\\n",
       "0           Yes               Yes                         1              No   \n",
       "1           Yes                No                         1              No   \n",
       "2           Yes                No                         1             Yes   \n",
       "3            No  No phone service                         1              No   \n",
       "4            No  No phone service                         1             Yes   \n",
       "\n",
       "             ...             payment_type_id monthly_charges total_charges  \\\n",
       "0            ...                           2            59.9        542.40   \n",
       "1            ...                           4            69.4        571.45   \n",
       "2            ...                           1            48.2        340.35   \n",
       "3            ...                           1            25.1         25.10   \n",
       "4            ...                           3            30.5         30.50   \n",
       "\n",
       "  churn contract_type_id.1   contract_type internet_service_type_id.1  \\\n",
       "0     0                  1  Month-to-month                          1   \n",
       "1     0                  1  Month-to-month                          1   \n",
       "2     0                  1  Month-to-month                          1   \n",
       "3     1                  1  Month-to-month                          1   \n",
       "4     1                  1  Month-to-month                          1   \n",
       "\n",
       "   internet_service_type  payment_type_id.1               payment_type  \n",
       "0                    DSL                  2               Mailed check  \n",
       "1                    DSL                  4    Credit card (automatic)  \n",
       "2                    DSL                  1           Electronic check  \n",
       "3                    DSL                  1           Electronic check  \n",
       "4                    DSL                  3  Bank transfer (automatic)  \n",
       "\n",
       "[5 rows x 27 columns]"
      ]
     },
     "execution_count": 11,
     "metadata": {},
     "output_type": "execute_result"
    }
   ],
   "source": [
    "make_binary(df)"
   ]
  },
  {
   "cell_type": "markdown",
   "metadata": {},
   "source": [
    "# Question 4\n",
    "Compute a new feature, tenure_year, that is a result of translating tenure from months to years."
   ]
  },
  {
   "cell_type": "code",
   "execution_count": 12,
   "metadata": {},
   "outputs": [],
   "source": [
    "df = df.assign(tenure_year=df.tenure/12).round(2)"
   ]
  },
  {
   "cell_type": "code",
   "execution_count": 13,
   "metadata": {},
   "outputs": [
    {
     "data": {
      "text/html": [
       "<div>\n",
       "<style scoped>\n",
       "    .dataframe tbody tr th:only-of-type {\n",
       "        vertical-align: middle;\n",
       "    }\n",
       "\n",
       "    .dataframe tbody tr th {\n",
       "        vertical-align: top;\n",
       "    }\n",
       "\n",
       "    .dataframe thead th {\n",
       "        text-align: right;\n",
       "    }\n",
       "</style>\n",
       "<table border=\"1\" class=\"dataframe\">\n",
       "  <thead>\n",
       "    <tr style=\"text-align: right;\">\n",
       "      <th></th>\n",
       "      <th>customer_id</th>\n",
       "      <th>gender</th>\n",
       "      <th>senior_citizen</th>\n",
       "      <th>partner</th>\n",
       "      <th>dependents</th>\n",
       "      <th>tenure</th>\n",
       "      <th>phone_service</th>\n",
       "      <th>multiple_lines</th>\n",
       "      <th>internet_service_type_id</th>\n",
       "      <th>online_security</th>\n",
       "      <th>...</th>\n",
       "      <th>monthly_charges</th>\n",
       "      <th>total_charges</th>\n",
       "      <th>churn</th>\n",
       "      <th>contract_type_id.1</th>\n",
       "      <th>contract_type</th>\n",
       "      <th>internet_service_type_id.1</th>\n",
       "      <th>internet_service_type</th>\n",
       "      <th>payment_type_id.1</th>\n",
       "      <th>payment_type</th>\n",
       "      <th>tenure_year</th>\n",
       "    </tr>\n",
       "  </thead>\n",
       "  <tbody>\n",
       "    <tr>\n",
       "      <th>0</th>\n",
       "      <td>0003-MKNFE</td>\n",
       "      <td>Male</td>\n",
       "      <td>0</td>\n",
       "      <td>No</td>\n",
       "      <td>No</td>\n",
       "      <td>9</td>\n",
       "      <td>Yes</td>\n",
       "      <td>Yes</td>\n",
       "      <td>1</td>\n",
       "      <td>No</td>\n",
       "      <td>...</td>\n",
       "      <td>59.9</td>\n",
       "      <td>542.40</td>\n",
       "      <td>0</td>\n",
       "      <td>1</td>\n",
       "      <td>Month-to-month</td>\n",
       "      <td>1</td>\n",
       "      <td>DSL</td>\n",
       "      <td>2</td>\n",
       "      <td>Mailed check</td>\n",
       "      <td>0.75</td>\n",
       "    </tr>\n",
       "    <tr>\n",
       "      <th>1</th>\n",
       "      <td>0013-MHZWF</td>\n",
       "      <td>Female</td>\n",
       "      <td>0</td>\n",
       "      <td>No</td>\n",
       "      <td>Yes</td>\n",
       "      <td>9</td>\n",
       "      <td>Yes</td>\n",
       "      <td>No</td>\n",
       "      <td>1</td>\n",
       "      <td>No</td>\n",
       "      <td>...</td>\n",
       "      <td>69.4</td>\n",
       "      <td>571.45</td>\n",
       "      <td>0</td>\n",
       "      <td>1</td>\n",
       "      <td>Month-to-month</td>\n",
       "      <td>1</td>\n",
       "      <td>DSL</td>\n",
       "      <td>4</td>\n",
       "      <td>Credit card (automatic)</td>\n",
       "      <td>0.75</td>\n",
       "    </tr>\n",
       "    <tr>\n",
       "      <th>2</th>\n",
       "      <td>0015-UOCOJ</td>\n",
       "      <td>Female</td>\n",
       "      <td>1</td>\n",
       "      <td>No</td>\n",
       "      <td>No</td>\n",
       "      <td>7</td>\n",
       "      <td>Yes</td>\n",
       "      <td>No</td>\n",
       "      <td>1</td>\n",
       "      <td>Yes</td>\n",
       "      <td>...</td>\n",
       "      <td>48.2</td>\n",
       "      <td>340.35</td>\n",
       "      <td>0</td>\n",
       "      <td>1</td>\n",
       "      <td>Month-to-month</td>\n",
       "      <td>1</td>\n",
       "      <td>DSL</td>\n",
       "      <td>1</td>\n",
       "      <td>Electronic check</td>\n",
       "      <td>0.58</td>\n",
       "    </tr>\n",
       "    <tr>\n",
       "      <th>3</th>\n",
       "      <td>0023-HGHWL</td>\n",
       "      <td>Male</td>\n",
       "      <td>1</td>\n",
       "      <td>No</td>\n",
       "      <td>No</td>\n",
       "      <td>1</td>\n",
       "      <td>No</td>\n",
       "      <td>No phone service</td>\n",
       "      <td>1</td>\n",
       "      <td>No</td>\n",
       "      <td>...</td>\n",
       "      <td>25.1</td>\n",
       "      <td>25.10</td>\n",
       "      <td>1</td>\n",
       "      <td>1</td>\n",
       "      <td>Month-to-month</td>\n",
       "      <td>1</td>\n",
       "      <td>DSL</td>\n",
       "      <td>1</td>\n",
       "      <td>Electronic check</td>\n",
       "      <td>0.08</td>\n",
       "    </tr>\n",
       "    <tr>\n",
       "      <th>4</th>\n",
       "      <td>0032-PGELS</td>\n",
       "      <td>Female</td>\n",
       "      <td>0</td>\n",
       "      <td>Yes</td>\n",
       "      <td>Yes</td>\n",
       "      <td>1</td>\n",
       "      <td>No</td>\n",
       "      <td>No phone service</td>\n",
       "      <td>1</td>\n",
       "      <td>Yes</td>\n",
       "      <td>...</td>\n",
       "      <td>30.5</td>\n",
       "      <td>30.50</td>\n",
       "      <td>1</td>\n",
       "      <td>1</td>\n",
       "      <td>Month-to-month</td>\n",
       "      <td>1</td>\n",
       "      <td>DSL</td>\n",
       "      <td>3</td>\n",
       "      <td>Bank transfer (automatic)</td>\n",
       "      <td>0.08</td>\n",
       "    </tr>\n",
       "  </tbody>\n",
       "</table>\n",
       "<p>5 rows × 28 columns</p>\n",
       "</div>"
      ],
      "text/plain": [
       "  customer_id  gender  senior_citizen partner dependents  tenure  \\\n",
       "0  0003-MKNFE    Male               0      No         No       9   \n",
       "1  0013-MHZWF  Female               0      No        Yes       9   \n",
       "2  0015-UOCOJ  Female               1      No         No       7   \n",
       "3  0023-HGHWL    Male               1      No         No       1   \n",
       "4  0032-PGELS  Female               0     Yes        Yes       1   \n",
       "\n",
       "  phone_service    multiple_lines  internet_service_type_id online_security  \\\n",
       "0           Yes               Yes                         1              No   \n",
       "1           Yes                No                         1              No   \n",
       "2           Yes                No                         1             Yes   \n",
       "3            No  No phone service                         1              No   \n",
       "4            No  No phone service                         1             Yes   \n",
       "\n",
       "      ...      monthly_charges total_charges churn contract_type_id.1  \\\n",
       "0     ...                 59.9        542.40     0                  1   \n",
       "1     ...                 69.4        571.45     0                  1   \n",
       "2     ...                 48.2        340.35     0                  1   \n",
       "3     ...                 25.1         25.10     1                  1   \n",
       "4     ...                 30.5         30.50     1                  1   \n",
       "\n",
       "    contract_type  internet_service_type_id.1 internet_service_type  \\\n",
       "0  Month-to-month                           1                   DSL   \n",
       "1  Month-to-month                           1                   DSL   \n",
       "2  Month-to-month                           1                   DSL   \n",
       "3  Month-to-month                           1                   DSL   \n",
       "4  Month-to-month                           1                   DSL   \n",
       "\n",
       "   payment_type_id.1               payment_type  tenure_year  \n",
       "0                  2               Mailed check         0.75  \n",
       "1                  4    Credit card (automatic)         0.75  \n",
       "2                  1           Electronic check         0.58  \n",
       "3                  1           Electronic check         0.08  \n",
       "4                  3  Bank transfer (automatic)         0.08  \n",
       "\n",
       "[5 rows x 28 columns]"
      ]
     },
     "execution_count": 13,
     "metadata": {},
     "output_type": "execute_result"
    }
   ],
   "source": [
    "df.head()"
   ]
  },
  {
   "cell_type": "markdown",
   "metadata": {},
   "source": [
    "# Question 5\n",
    "Figure out a way to capture the information contained in phone_service and multiple_lines into a single variable of dtype int. Write a function that will transform the data and place in a new column named phone_id."
   ]
  },
  {
   "cell_type": "markdown",
   "metadata": {},
   "source": [
    "### Phone_service and multiple_lines columns are strings with 'Yes', 'No' or 'No phone service' values. Turn columns into 0 or 1 values. Then sum the two columns to make a new column, phone_id. "
   ]
  },
  {
   "cell_type": "code",
   "execution_count": 14,
   "metadata": {},
   "outputs": [
    {
     "data": {
      "text/html": [
       "<div>\n",
       "<style scoped>\n",
       "    .dataframe tbody tr th:only-of-type {\n",
       "        vertical-align: middle;\n",
       "    }\n",
       "\n",
       "    .dataframe tbody tr th {\n",
       "        vertical-align: top;\n",
       "    }\n",
       "\n",
       "    .dataframe thead th {\n",
       "        text-align: right;\n",
       "    }\n",
       "</style>\n",
       "<table border=\"1\" class=\"dataframe\">\n",
       "  <thead>\n",
       "    <tr style=\"text-align: right;\">\n",
       "      <th></th>\n",
       "      <th>phone_service</th>\n",
       "      <th>multiple_lines</th>\n",
       "    </tr>\n",
       "  </thead>\n",
       "  <tbody>\n",
       "    <tr>\n",
       "      <th>0</th>\n",
       "      <td>Yes</td>\n",
       "      <td>Yes</td>\n",
       "    </tr>\n",
       "    <tr>\n",
       "      <th>1</th>\n",
       "      <td>Yes</td>\n",
       "      <td>No</td>\n",
       "    </tr>\n",
       "    <tr>\n",
       "      <th>2</th>\n",
       "      <td>Yes</td>\n",
       "      <td>No</td>\n",
       "    </tr>\n",
       "    <tr>\n",
       "      <th>3</th>\n",
       "      <td>No</td>\n",
       "      <td>No phone service</td>\n",
       "    </tr>\n",
       "    <tr>\n",
       "      <th>4</th>\n",
       "      <td>No</td>\n",
       "      <td>No phone service</td>\n",
       "    </tr>\n",
       "  </tbody>\n",
       "</table>\n",
       "</div>"
      ],
      "text/plain": [
       "  phone_service    multiple_lines\n",
       "0           Yes               Yes\n",
       "1           Yes                No\n",
       "2           Yes                No\n",
       "3            No  No phone service\n",
       "4            No  No phone service"
      ]
     },
     "execution_count": 14,
     "metadata": {},
     "output_type": "execute_result"
    }
   ],
   "source": [
    "df[['phone_service','multiple_lines']].head()"
   ]
  },
  {
   "cell_type": "code",
   "execution_count": 15,
   "metadata": {},
   "outputs": [],
   "source": [
    "df = df.replace({'phone_service': {'Yes': 1, 'No': 0}})"
   ]
  },
  {
   "cell_type": "code",
   "execution_count": 16,
   "metadata": {},
   "outputs": [
    {
     "data": {
      "text/html": [
       "<div>\n",
       "<style scoped>\n",
       "    .dataframe tbody tr th:only-of-type {\n",
       "        vertical-align: middle;\n",
       "    }\n",
       "\n",
       "    .dataframe tbody tr th {\n",
       "        vertical-align: top;\n",
       "    }\n",
       "\n",
       "    .dataframe thead th {\n",
       "        text-align: right;\n",
       "    }\n",
       "</style>\n",
       "<table border=\"1\" class=\"dataframe\">\n",
       "  <thead>\n",
       "    <tr style=\"text-align: right;\">\n",
       "      <th></th>\n",
       "      <th>phone_service</th>\n",
       "    </tr>\n",
       "  </thead>\n",
       "  <tbody>\n",
       "    <tr>\n",
       "      <th>0</th>\n",
       "      <td>1</td>\n",
       "    </tr>\n",
       "    <tr>\n",
       "      <th>1</th>\n",
       "      <td>1</td>\n",
       "    </tr>\n",
       "    <tr>\n",
       "      <th>2</th>\n",
       "      <td>1</td>\n",
       "    </tr>\n",
       "    <tr>\n",
       "      <th>3</th>\n",
       "      <td>0</td>\n",
       "    </tr>\n",
       "    <tr>\n",
       "      <th>4</th>\n",
       "      <td>0</td>\n",
       "    </tr>\n",
       "  </tbody>\n",
       "</table>\n",
       "</div>"
      ],
      "text/plain": [
       "   phone_service\n",
       "0              1\n",
       "1              1\n",
       "2              1\n",
       "3              0\n",
       "4              0"
      ]
     },
     "execution_count": 16,
     "metadata": {},
     "output_type": "execute_result"
    }
   ],
   "source": [
    "df[['phone_service']].head()"
   ]
  },
  {
   "cell_type": "code",
   "execution_count": 17,
   "metadata": {},
   "outputs": [],
   "source": [
    "df = df.replace({'multiple_lines': {'Yes': 1, 'No': 0, 'No phone service': 0}})"
   ]
  },
  {
   "cell_type": "code",
   "execution_count": 18,
   "metadata": {},
   "outputs": [
    {
     "data": {
      "text/html": [
       "<div>\n",
       "<style scoped>\n",
       "    .dataframe tbody tr th:only-of-type {\n",
       "        vertical-align: middle;\n",
       "    }\n",
       "\n",
       "    .dataframe tbody tr th {\n",
       "        vertical-align: top;\n",
       "    }\n",
       "\n",
       "    .dataframe thead th {\n",
       "        text-align: right;\n",
       "    }\n",
       "</style>\n",
       "<table border=\"1\" class=\"dataframe\">\n",
       "  <thead>\n",
       "    <tr style=\"text-align: right;\">\n",
       "      <th></th>\n",
       "      <th>phone_service</th>\n",
       "      <th>multiple_lines</th>\n",
       "    </tr>\n",
       "  </thead>\n",
       "  <tbody>\n",
       "    <tr>\n",
       "      <th>0</th>\n",
       "      <td>1</td>\n",
       "      <td>1</td>\n",
       "    </tr>\n",
       "    <tr>\n",
       "      <th>1</th>\n",
       "      <td>1</td>\n",
       "      <td>0</td>\n",
       "    </tr>\n",
       "    <tr>\n",
       "      <th>2</th>\n",
       "      <td>1</td>\n",
       "      <td>0</td>\n",
       "    </tr>\n",
       "    <tr>\n",
       "      <th>3</th>\n",
       "      <td>0</td>\n",
       "      <td>0</td>\n",
       "    </tr>\n",
       "    <tr>\n",
       "      <th>4</th>\n",
       "      <td>0</td>\n",
       "      <td>0</td>\n",
       "    </tr>\n",
       "    <tr>\n",
       "      <th>5</th>\n",
       "      <td>1</td>\n",
       "      <td>0</td>\n",
       "    </tr>\n",
       "    <tr>\n",
       "      <th>6</th>\n",
       "      <td>0</td>\n",
       "      <td>0</td>\n",
       "    </tr>\n",
       "    <tr>\n",
       "      <th>7</th>\n",
       "      <td>1</td>\n",
       "      <td>0</td>\n",
       "    </tr>\n",
       "    <tr>\n",
       "      <th>8</th>\n",
       "      <td>1</td>\n",
       "      <td>1</td>\n",
       "    </tr>\n",
       "    <tr>\n",
       "      <th>9</th>\n",
       "      <td>1</td>\n",
       "      <td>1</td>\n",
       "    </tr>\n",
       "  </tbody>\n",
       "</table>\n",
       "</div>"
      ],
      "text/plain": [
       "   phone_service  multiple_lines\n",
       "0              1               1\n",
       "1              1               0\n",
       "2              1               0\n",
       "3              0               0\n",
       "4              0               0\n",
       "5              1               0\n",
       "6              0               0\n",
       "7              1               0\n",
       "8              1               1\n",
       "9              1               1"
      ]
     },
     "execution_count": 18,
     "metadata": {},
     "output_type": "execute_result"
    }
   ],
   "source": [
    "df[['phone_service','multiple_lines']].head(10)"
   ]
  },
  {
   "cell_type": "code",
   "execution_count": 19,
   "metadata": {},
   "outputs": [
    {
     "data": {
      "text/html": [
       "<div>\n",
       "<style scoped>\n",
       "    .dataframe tbody tr th:only-of-type {\n",
       "        vertical-align: middle;\n",
       "    }\n",
       "\n",
       "    .dataframe tbody tr th {\n",
       "        vertical-align: top;\n",
       "    }\n",
       "\n",
       "    .dataframe thead th {\n",
       "        text-align: right;\n",
       "    }\n",
       "</style>\n",
       "<table border=\"1\" class=\"dataframe\">\n",
       "  <thead>\n",
       "    <tr style=\"text-align: right;\">\n",
       "      <th></th>\n",
       "      <th>customer_id</th>\n",
       "      <th>gender</th>\n",
       "      <th>senior_citizen</th>\n",
       "      <th>partner</th>\n",
       "      <th>dependents</th>\n",
       "      <th>tenure</th>\n",
       "      <th>phone_service</th>\n",
       "      <th>multiple_lines</th>\n",
       "      <th>internet_service_type_id</th>\n",
       "      <th>online_security</th>\n",
       "      <th>...</th>\n",
       "      <th>monthly_charges</th>\n",
       "      <th>total_charges</th>\n",
       "      <th>churn</th>\n",
       "      <th>contract_type_id.1</th>\n",
       "      <th>contract_type</th>\n",
       "      <th>internet_service_type_id.1</th>\n",
       "      <th>internet_service_type</th>\n",
       "      <th>payment_type_id.1</th>\n",
       "      <th>payment_type</th>\n",
       "      <th>tenure_year</th>\n",
       "    </tr>\n",
       "  </thead>\n",
       "  <tbody>\n",
       "    <tr>\n",
       "      <th>0</th>\n",
       "      <td>0003-MKNFE</td>\n",
       "      <td>Male</td>\n",
       "      <td>0</td>\n",
       "      <td>No</td>\n",
       "      <td>No</td>\n",
       "      <td>9</td>\n",
       "      <td>1</td>\n",
       "      <td>1</td>\n",
       "      <td>1</td>\n",
       "      <td>No</td>\n",
       "      <td>...</td>\n",
       "      <td>59.9</td>\n",
       "      <td>542.40</td>\n",
       "      <td>0</td>\n",
       "      <td>1</td>\n",
       "      <td>Month-to-month</td>\n",
       "      <td>1</td>\n",
       "      <td>DSL</td>\n",
       "      <td>2</td>\n",
       "      <td>Mailed check</td>\n",
       "      <td>0.75</td>\n",
       "    </tr>\n",
       "    <tr>\n",
       "      <th>1</th>\n",
       "      <td>0013-MHZWF</td>\n",
       "      <td>Female</td>\n",
       "      <td>0</td>\n",
       "      <td>No</td>\n",
       "      <td>Yes</td>\n",
       "      <td>9</td>\n",
       "      <td>1</td>\n",
       "      <td>0</td>\n",
       "      <td>1</td>\n",
       "      <td>No</td>\n",
       "      <td>...</td>\n",
       "      <td>69.4</td>\n",
       "      <td>571.45</td>\n",
       "      <td>0</td>\n",
       "      <td>1</td>\n",
       "      <td>Month-to-month</td>\n",
       "      <td>1</td>\n",
       "      <td>DSL</td>\n",
       "      <td>4</td>\n",
       "      <td>Credit card (automatic)</td>\n",
       "      <td>0.75</td>\n",
       "    </tr>\n",
       "    <tr>\n",
       "      <th>2</th>\n",
       "      <td>0015-UOCOJ</td>\n",
       "      <td>Female</td>\n",
       "      <td>1</td>\n",
       "      <td>No</td>\n",
       "      <td>No</td>\n",
       "      <td>7</td>\n",
       "      <td>1</td>\n",
       "      <td>0</td>\n",
       "      <td>1</td>\n",
       "      <td>Yes</td>\n",
       "      <td>...</td>\n",
       "      <td>48.2</td>\n",
       "      <td>340.35</td>\n",
       "      <td>0</td>\n",
       "      <td>1</td>\n",
       "      <td>Month-to-month</td>\n",
       "      <td>1</td>\n",
       "      <td>DSL</td>\n",
       "      <td>1</td>\n",
       "      <td>Electronic check</td>\n",
       "      <td>0.58</td>\n",
       "    </tr>\n",
       "    <tr>\n",
       "      <th>3</th>\n",
       "      <td>0023-HGHWL</td>\n",
       "      <td>Male</td>\n",
       "      <td>1</td>\n",
       "      <td>No</td>\n",
       "      <td>No</td>\n",
       "      <td>1</td>\n",
       "      <td>0</td>\n",
       "      <td>0</td>\n",
       "      <td>1</td>\n",
       "      <td>No</td>\n",
       "      <td>...</td>\n",
       "      <td>25.1</td>\n",
       "      <td>25.10</td>\n",
       "      <td>1</td>\n",
       "      <td>1</td>\n",
       "      <td>Month-to-month</td>\n",
       "      <td>1</td>\n",
       "      <td>DSL</td>\n",
       "      <td>1</td>\n",
       "      <td>Electronic check</td>\n",
       "      <td>0.08</td>\n",
       "    </tr>\n",
       "    <tr>\n",
       "      <th>4</th>\n",
       "      <td>0032-PGELS</td>\n",
       "      <td>Female</td>\n",
       "      <td>0</td>\n",
       "      <td>Yes</td>\n",
       "      <td>Yes</td>\n",
       "      <td>1</td>\n",
       "      <td>0</td>\n",
       "      <td>0</td>\n",
       "      <td>1</td>\n",
       "      <td>Yes</td>\n",
       "      <td>...</td>\n",
       "      <td>30.5</td>\n",
       "      <td>30.50</td>\n",
       "      <td>1</td>\n",
       "      <td>1</td>\n",
       "      <td>Month-to-month</td>\n",
       "      <td>1</td>\n",
       "      <td>DSL</td>\n",
       "      <td>3</td>\n",
       "      <td>Bank transfer (automatic)</td>\n",
       "      <td>0.08</td>\n",
       "    </tr>\n",
       "  </tbody>\n",
       "</table>\n",
       "<p>5 rows × 28 columns</p>\n",
       "</div>"
      ],
      "text/plain": [
       "  customer_id  gender  senior_citizen partner dependents  tenure  \\\n",
       "0  0003-MKNFE    Male               0      No         No       9   \n",
       "1  0013-MHZWF  Female               0      No        Yes       9   \n",
       "2  0015-UOCOJ  Female               1      No         No       7   \n",
       "3  0023-HGHWL    Male               1      No         No       1   \n",
       "4  0032-PGELS  Female               0     Yes        Yes       1   \n",
       "\n",
       "   phone_service  multiple_lines  internet_service_type_id online_security  \\\n",
       "0              1               1                         1              No   \n",
       "1              1               0                         1              No   \n",
       "2              1               0                         1             Yes   \n",
       "3              0               0                         1              No   \n",
       "4              0               0                         1             Yes   \n",
       "\n",
       "      ...      monthly_charges total_charges churn contract_type_id.1  \\\n",
       "0     ...                 59.9        542.40     0                  1   \n",
       "1     ...                 69.4        571.45     0                  1   \n",
       "2     ...                 48.2        340.35     0                  1   \n",
       "3     ...                 25.1         25.10     1                  1   \n",
       "4     ...                 30.5         30.50     1                  1   \n",
       "\n",
       "    contract_type  internet_service_type_id.1 internet_service_type  \\\n",
       "0  Month-to-month                           1                   DSL   \n",
       "1  Month-to-month                           1                   DSL   \n",
       "2  Month-to-month                           1                   DSL   \n",
       "3  Month-to-month                           1                   DSL   \n",
       "4  Month-to-month                           1                   DSL   \n",
       "\n",
       "   payment_type_id.1               payment_type  tenure_year  \n",
       "0                  2               Mailed check         0.75  \n",
       "1                  4    Credit card (automatic)         0.75  \n",
       "2                  1           Electronic check         0.58  \n",
       "3                  1           Electronic check         0.08  \n",
       "4                  3  Bank transfer (automatic)         0.08  \n",
       "\n",
       "[5 rows x 28 columns]"
      ]
     },
     "execution_count": 19,
     "metadata": {},
     "output_type": "execute_result"
    }
   ],
   "source": [
    "df.head()"
   ]
  },
  {
   "cell_type": "code",
   "execution_count": 20,
   "metadata": {},
   "outputs": [],
   "source": [
    "df['phone_id'] = df['phone_service'].astype(int) + df['multiple_lines'].astype(int)"
   ]
  },
  {
   "cell_type": "code",
   "execution_count": 21,
   "metadata": {},
   "outputs": [
    {
     "data": {
      "text/plain": [
       "1    3390\n",
       "2    2971\n",
       "0     682\n",
       "Name: phone_id, dtype: int64"
      ]
     },
     "execution_count": 21,
     "metadata": {},
     "output_type": "execute_result"
    }
   ],
   "source": [
    "df['phone_id'].value_counts()"
   ]
  },
  {
   "cell_type": "code",
   "execution_count": 22,
   "metadata": {},
   "outputs": [
    {
     "name": "stdout",
     "output_type": "stream",
     "text": [
      "<class 'pandas.core.frame.DataFrame'>\n",
      "RangeIndex: 7043 entries, 0 to 7042\n",
      "Data columns (total 1 columns):\n",
      "phone_id    7043 non-null int64\n",
      "dtypes: int64(1)\n",
      "memory usage: 55.1 KB\n"
     ]
    }
   ],
   "source": [
    "df[['phone_id']].info()"
   ]
  },
  {
   "cell_type": "markdown",
   "metadata": {},
   "source": [
    "## New column, phone_id, created! \n",
    "## This column will require a key to understand it: 0 = No phone, 1 = 1 phone line, 2 = multiple phone lines."
   ]
  },
  {
   "cell_type": "markdown",
   "metadata": {},
   "source": [
    "# Question 6\n",
    "Figure out a way to capture the information contained in dependents and partner into a single variable of dtype int. Transform the data and place in a new column household_type_id in df_sql. Be sure you have documented your function and logic well."
   ]
  },
  {
   "cell_type": "code",
   "execution_count": 23,
   "metadata": {},
   "outputs": [
    {
     "data": {
      "text/plain": [
       "Index(['customer_id', 'gender', 'senior_citizen', 'partner', 'dependents',\n",
       "       'tenure', 'phone_service', 'multiple_lines', 'internet_service_type_id',\n",
       "       'online_security', 'online_backup', 'device_protection', 'tech_support',\n",
       "       'streaming_tv', 'streaming_movies', 'contract_type_id',\n",
       "       'paperless_billing', 'payment_type_id', 'monthly_charges',\n",
       "       'total_charges', 'churn', 'contract_type_id.1', 'contract_type',\n",
       "       'internet_service_type_id.1', 'internet_service_type',\n",
       "       'payment_type_id.1', 'payment_type', 'tenure_year', 'phone_id'],\n",
       "      dtype='object')"
      ]
     },
     "execution_count": 23,
     "metadata": {},
     "output_type": "execute_result"
    }
   ],
   "source": [
    "df.columns"
   ]
  },
  {
   "cell_type": "code",
   "execution_count": 24,
   "metadata": {
    "scrolled": true
   },
   "outputs": [
    {
     "data": {
      "text/html": [
       "<div>\n",
       "<style scoped>\n",
       "    .dataframe tbody tr th:only-of-type {\n",
       "        vertical-align: middle;\n",
       "    }\n",
       "\n",
       "    .dataframe tbody tr th {\n",
       "        vertical-align: top;\n",
       "    }\n",
       "\n",
       "    .dataframe thead th {\n",
       "        text-align: right;\n",
       "    }\n",
       "</style>\n",
       "<table border=\"1\" class=\"dataframe\">\n",
       "  <thead>\n",
       "    <tr style=\"text-align: right;\">\n",
       "      <th></th>\n",
       "      <th>partner</th>\n",
       "      <th>dependents</th>\n",
       "    </tr>\n",
       "  </thead>\n",
       "  <tbody>\n",
       "    <tr>\n",
       "      <th>0</th>\n",
       "      <td>No</td>\n",
       "      <td>No</td>\n",
       "    </tr>\n",
       "    <tr>\n",
       "      <th>1</th>\n",
       "      <td>No</td>\n",
       "      <td>Yes</td>\n",
       "    </tr>\n",
       "    <tr>\n",
       "      <th>2</th>\n",
       "      <td>No</td>\n",
       "      <td>No</td>\n",
       "    </tr>\n",
       "    <tr>\n",
       "      <th>3</th>\n",
       "      <td>No</td>\n",
       "      <td>No</td>\n",
       "    </tr>\n",
       "    <tr>\n",
       "      <th>4</th>\n",
       "      <td>Yes</td>\n",
       "      <td>Yes</td>\n",
       "    </tr>\n",
       "  </tbody>\n",
       "</table>\n",
       "</div>"
      ],
      "text/plain": [
       "  partner dependents\n",
       "0      No         No\n",
       "1      No        Yes\n",
       "2      No         No\n",
       "3      No         No\n",
       "4     Yes        Yes"
      ]
     },
     "execution_count": 24,
     "metadata": {},
     "output_type": "execute_result"
    }
   ],
   "source": [
    "df[['partner','dependents']].head()"
   ]
  },
  {
   "cell_type": "markdown",
   "metadata": {},
   "source": [
    "### Partner and dependents columns are strings with 'Yes' or 'No' values. Turn columns into numerical values. \n",
    "### 'Yes partner' = 1\n",
    "### 'No partner' = 0\n",
    "### 'No dependents' = 0\n",
    "### 'Yes dependents' = 2"
   ]
  },
  {
   "cell_type": "code",
   "execution_count": 25,
   "metadata": {},
   "outputs": [],
   "source": [
    "df = df.replace({'partner': {'Yes': 1, 'No': 0}})"
   ]
  },
  {
   "cell_type": "code",
   "execution_count": 26,
   "metadata": {},
   "outputs": [],
   "source": [
    "df = df.replace({'dependents': {'Yes': 2, 'No': 0}})"
   ]
  },
  {
   "cell_type": "code",
   "execution_count": 27,
   "metadata": {},
   "outputs": [
    {
     "data": {
      "text/html": [
       "<div>\n",
       "<style scoped>\n",
       "    .dataframe tbody tr th:only-of-type {\n",
       "        vertical-align: middle;\n",
       "    }\n",
       "\n",
       "    .dataframe tbody tr th {\n",
       "        vertical-align: top;\n",
       "    }\n",
       "\n",
       "    .dataframe thead th {\n",
       "        text-align: right;\n",
       "    }\n",
       "</style>\n",
       "<table border=\"1\" class=\"dataframe\">\n",
       "  <thead>\n",
       "    <tr style=\"text-align: right;\">\n",
       "      <th></th>\n",
       "      <th>customer_id</th>\n",
       "      <th>gender</th>\n",
       "      <th>senior_citizen</th>\n",
       "      <th>partner</th>\n",
       "      <th>dependents</th>\n",
       "      <th>tenure</th>\n",
       "      <th>phone_service</th>\n",
       "      <th>multiple_lines</th>\n",
       "      <th>internet_service_type_id</th>\n",
       "      <th>online_security</th>\n",
       "      <th>...</th>\n",
       "      <th>total_charges</th>\n",
       "      <th>churn</th>\n",
       "      <th>contract_type_id.1</th>\n",
       "      <th>contract_type</th>\n",
       "      <th>internet_service_type_id.1</th>\n",
       "      <th>internet_service_type</th>\n",
       "      <th>payment_type_id.1</th>\n",
       "      <th>payment_type</th>\n",
       "      <th>tenure_year</th>\n",
       "      <th>phone_id</th>\n",
       "    </tr>\n",
       "  </thead>\n",
       "  <tbody>\n",
       "    <tr>\n",
       "      <th>0</th>\n",
       "      <td>0003-MKNFE</td>\n",
       "      <td>Male</td>\n",
       "      <td>0</td>\n",
       "      <td>0</td>\n",
       "      <td>0</td>\n",
       "      <td>9</td>\n",
       "      <td>1</td>\n",
       "      <td>1</td>\n",
       "      <td>1</td>\n",
       "      <td>No</td>\n",
       "      <td>...</td>\n",
       "      <td>542.40</td>\n",
       "      <td>0</td>\n",
       "      <td>1</td>\n",
       "      <td>Month-to-month</td>\n",
       "      <td>1</td>\n",
       "      <td>DSL</td>\n",
       "      <td>2</td>\n",
       "      <td>Mailed check</td>\n",
       "      <td>0.75</td>\n",
       "      <td>2</td>\n",
       "    </tr>\n",
       "    <tr>\n",
       "      <th>1</th>\n",
       "      <td>0013-MHZWF</td>\n",
       "      <td>Female</td>\n",
       "      <td>0</td>\n",
       "      <td>0</td>\n",
       "      <td>2</td>\n",
       "      <td>9</td>\n",
       "      <td>1</td>\n",
       "      <td>0</td>\n",
       "      <td>1</td>\n",
       "      <td>No</td>\n",
       "      <td>...</td>\n",
       "      <td>571.45</td>\n",
       "      <td>0</td>\n",
       "      <td>1</td>\n",
       "      <td>Month-to-month</td>\n",
       "      <td>1</td>\n",
       "      <td>DSL</td>\n",
       "      <td>4</td>\n",
       "      <td>Credit card (automatic)</td>\n",
       "      <td>0.75</td>\n",
       "      <td>1</td>\n",
       "    </tr>\n",
       "    <tr>\n",
       "      <th>2</th>\n",
       "      <td>0015-UOCOJ</td>\n",
       "      <td>Female</td>\n",
       "      <td>1</td>\n",
       "      <td>0</td>\n",
       "      <td>0</td>\n",
       "      <td>7</td>\n",
       "      <td>1</td>\n",
       "      <td>0</td>\n",
       "      <td>1</td>\n",
       "      <td>Yes</td>\n",
       "      <td>...</td>\n",
       "      <td>340.35</td>\n",
       "      <td>0</td>\n",
       "      <td>1</td>\n",
       "      <td>Month-to-month</td>\n",
       "      <td>1</td>\n",
       "      <td>DSL</td>\n",
       "      <td>1</td>\n",
       "      <td>Electronic check</td>\n",
       "      <td>0.58</td>\n",
       "      <td>1</td>\n",
       "    </tr>\n",
       "    <tr>\n",
       "      <th>3</th>\n",
       "      <td>0023-HGHWL</td>\n",
       "      <td>Male</td>\n",
       "      <td>1</td>\n",
       "      <td>0</td>\n",
       "      <td>0</td>\n",
       "      <td>1</td>\n",
       "      <td>0</td>\n",
       "      <td>0</td>\n",
       "      <td>1</td>\n",
       "      <td>No</td>\n",
       "      <td>...</td>\n",
       "      <td>25.10</td>\n",
       "      <td>1</td>\n",
       "      <td>1</td>\n",
       "      <td>Month-to-month</td>\n",
       "      <td>1</td>\n",
       "      <td>DSL</td>\n",
       "      <td>1</td>\n",
       "      <td>Electronic check</td>\n",
       "      <td>0.08</td>\n",
       "      <td>0</td>\n",
       "    </tr>\n",
       "    <tr>\n",
       "      <th>4</th>\n",
       "      <td>0032-PGELS</td>\n",
       "      <td>Female</td>\n",
       "      <td>0</td>\n",
       "      <td>1</td>\n",
       "      <td>2</td>\n",
       "      <td>1</td>\n",
       "      <td>0</td>\n",
       "      <td>0</td>\n",
       "      <td>1</td>\n",
       "      <td>Yes</td>\n",
       "      <td>...</td>\n",
       "      <td>30.50</td>\n",
       "      <td>1</td>\n",
       "      <td>1</td>\n",
       "      <td>Month-to-month</td>\n",
       "      <td>1</td>\n",
       "      <td>DSL</td>\n",
       "      <td>3</td>\n",
       "      <td>Bank transfer (automatic)</td>\n",
       "      <td>0.08</td>\n",
       "      <td>0</td>\n",
       "    </tr>\n",
       "  </tbody>\n",
       "</table>\n",
       "<p>5 rows × 29 columns</p>\n",
       "</div>"
      ],
      "text/plain": [
       "  customer_id  gender  senior_citizen  partner  dependents  tenure  \\\n",
       "0  0003-MKNFE    Male               0        0           0       9   \n",
       "1  0013-MHZWF  Female               0        0           2       9   \n",
       "2  0015-UOCOJ  Female               1        0           0       7   \n",
       "3  0023-HGHWL    Male               1        0           0       1   \n",
       "4  0032-PGELS  Female               0        1           2       1   \n",
       "\n",
       "   phone_service  multiple_lines  internet_service_type_id online_security  \\\n",
       "0              1               1                         1              No   \n",
       "1              1               0                         1              No   \n",
       "2              1               0                         1             Yes   \n",
       "3              0               0                         1              No   \n",
       "4              0               0                         1             Yes   \n",
       "\n",
       "     ...    total_charges churn contract_type_id.1   contract_type  \\\n",
       "0    ...           542.40     0                  1  Month-to-month   \n",
       "1    ...           571.45     0                  1  Month-to-month   \n",
       "2    ...           340.35     0                  1  Month-to-month   \n",
       "3    ...            25.10     1                  1  Month-to-month   \n",
       "4    ...            30.50     1                  1  Month-to-month   \n",
       "\n",
       "  internet_service_type_id.1  internet_service_type payment_type_id.1  \\\n",
       "0                          1                    DSL                 2   \n",
       "1                          1                    DSL                 4   \n",
       "2                          1                    DSL                 1   \n",
       "3                          1                    DSL                 1   \n",
       "4                          1                    DSL                 3   \n",
       "\n",
       "                payment_type  tenure_year  phone_id  \n",
       "0               Mailed check         0.75         2  \n",
       "1    Credit card (automatic)         0.75         1  \n",
       "2           Electronic check         0.58         1  \n",
       "3           Electronic check         0.08         0  \n",
       "4  Bank transfer (automatic)         0.08         0  \n",
       "\n",
       "[5 rows x 29 columns]"
      ]
     },
     "execution_count": 27,
     "metadata": {},
     "output_type": "execute_result"
    }
   ],
   "source": [
    "df.head()"
   ]
  },
  {
   "cell_type": "markdown",
   "metadata": {},
   "source": [
    "### Sum the two columns and turn this into the new column called household_type_id. This household_type will require a KEY to understand it."
   ]
  },
  {
   "cell_type": "code",
   "execution_count": 28,
   "metadata": {},
   "outputs": [],
   "source": [
    "df['household_type_id'] = df['dependents'].astype(int) + df['partner'].astype(int)"
   ]
  },
  {
   "cell_type": "code",
   "execution_count": 29,
   "metadata": {},
   "outputs": [
    {
     "data": {
      "text/html": [
       "<div>\n",
       "<style scoped>\n",
       "    .dataframe tbody tr th:only-of-type {\n",
       "        vertical-align: middle;\n",
       "    }\n",
       "\n",
       "    .dataframe tbody tr th {\n",
       "        vertical-align: top;\n",
       "    }\n",
       "\n",
       "    .dataframe thead th {\n",
       "        text-align: right;\n",
       "    }\n",
       "</style>\n",
       "<table border=\"1\" class=\"dataframe\">\n",
       "  <thead>\n",
       "    <tr style=\"text-align: right;\">\n",
       "      <th></th>\n",
       "      <th>customer_id</th>\n",
       "      <th>gender</th>\n",
       "      <th>senior_citizen</th>\n",
       "      <th>partner</th>\n",
       "      <th>dependents</th>\n",
       "      <th>tenure</th>\n",
       "      <th>phone_service</th>\n",
       "      <th>multiple_lines</th>\n",
       "      <th>internet_service_type_id</th>\n",
       "      <th>online_security</th>\n",
       "      <th>...</th>\n",
       "      <th>churn</th>\n",
       "      <th>contract_type_id.1</th>\n",
       "      <th>contract_type</th>\n",
       "      <th>internet_service_type_id.1</th>\n",
       "      <th>internet_service_type</th>\n",
       "      <th>payment_type_id.1</th>\n",
       "      <th>payment_type</th>\n",
       "      <th>tenure_year</th>\n",
       "      <th>phone_id</th>\n",
       "      <th>household_type_id</th>\n",
       "    </tr>\n",
       "  </thead>\n",
       "  <tbody>\n",
       "    <tr>\n",
       "      <th>0</th>\n",
       "      <td>0003-MKNFE</td>\n",
       "      <td>Male</td>\n",
       "      <td>0</td>\n",
       "      <td>0</td>\n",
       "      <td>0</td>\n",
       "      <td>9</td>\n",
       "      <td>1</td>\n",
       "      <td>1</td>\n",
       "      <td>1</td>\n",
       "      <td>No</td>\n",
       "      <td>...</td>\n",
       "      <td>0</td>\n",
       "      <td>1</td>\n",
       "      <td>Month-to-month</td>\n",
       "      <td>1</td>\n",
       "      <td>DSL</td>\n",
       "      <td>2</td>\n",
       "      <td>Mailed check</td>\n",
       "      <td>0.75</td>\n",
       "      <td>2</td>\n",
       "      <td>0</td>\n",
       "    </tr>\n",
       "    <tr>\n",
       "      <th>1</th>\n",
       "      <td>0013-MHZWF</td>\n",
       "      <td>Female</td>\n",
       "      <td>0</td>\n",
       "      <td>0</td>\n",
       "      <td>2</td>\n",
       "      <td>9</td>\n",
       "      <td>1</td>\n",
       "      <td>0</td>\n",
       "      <td>1</td>\n",
       "      <td>No</td>\n",
       "      <td>...</td>\n",
       "      <td>0</td>\n",
       "      <td>1</td>\n",
       "      <td>Month-to-month</td>\n",
       "      <td>1</td>\n",
       "      <td>DSL</td>\n",
       "      <td>4</td>\n",
       "      <td>Credit card (automatic)</td>\n",
       "      <td>0.75</td>\n",
       "      <td>1</td>\n",
       "      <td>2</td>\n",
       "    </tr>\n",
       "    <tr>\n",
       "      <th>2</th>\n",
       "      <td>0015-UOCOJ</td>\n",
       "      <td>Female</td>\n",
       "      <td>1</td>\n",
       "      <td>0</td>\n",
       "      <td>0</td>\n",
       "      <td>7</td>\n",
       "      <td>1</td>\n",
       "      <td>0</td>\n",
       "      <td>1</td>\n",
       "      <td>Yes</td>\n",
       "      <td>...</td>\n",
       "      <td>0</td>\n",
       "      <td>1</td>\n",
       "      <td>Month-to-month</td>\n",
       "      <td>1</td>\n",
       "      <td>DSL</td>\n",
       "      <td>1</td>\n",
       "      <td>Electronic check</td>\n",
       "      <td>0.58</td>\n",
       "      <td>1</td>\n",
       "      <td>0</td>\n",
       "    </tr>\n",
       "    <tr>\n",
       "      <th>3</th>\n",
       "      <td>0023-HGHWL</td>\n",
       "      <td>Male</td>\n",
       "      <td>1</td>\n",
       "      <td>0</td>\n",
       "      <td>0</td>\n",
       "      <td>1</td>\n",
       "      <td>0</td>\n",
       "      <td>0</td>\n",
       "      <td>1</td>\n",
       "      <td>No</td>\n",
       "      <td>...</td>\n",
       "      <td>1</td>\n",
       "      <td>1</td>\n",
       "      <td>Month-to-month</td>\n",
       "      <td>1</td>\n",
       "      <td>DSL</td>\n",
       "      <td>1</td>\n",
       "      <td>Electronic check</td>\n",
       "      <td>0.08</td>\n",
       "      <td>0</td>\n",
       "      <td>0</td>\n",
       "    </tr>\n",
       "    <tr>\n",
       "      <th>4</th>\n",
       "      <td>0032-PGELS</td>\n",
       "      <td>Female</td>\n",
       "      <td>0</td>\n",
       "      <td>1</td>\n",
       "      <td>2</td>\n",
       "      <td>1</td>\n",
       "      <td>0</td>\n",
       "      <td>0</td>\n",
       "      <td>1</td>\n",
       "      <td>Yes</td>\n",
       "      <td>...</td>\n",
       "      <td>1</td>\n",
       "      <td>1</td>\n",
       "      <td>Month-to-month</td>\n",
       "      <td>1</td>\n",
       "      <td>DSL</td>\n",
       "      <td>3</td>\n",
       "      <td>Bank transfer (automatic)</td>\n",
       "      <td>0.08</td>\n",
       "      <td>0</td>\n",
       "      <td>3</td>\n",
       "    </tr>\n",
       "  </tbody>\n",
       "</table>\n",
       "<p>5 rows × 30 columns</p>\n",
       "</div>"
      ],
      "text/plain": [
       "  customer_id  gender  senior_citizen  partner  dependents  tenure  \\\n",
       "0  0003-MKNFE    Male               0        0           0       9   \n",
       "1  0013-MHZWF  Female               0        0           2       9   \n",
       "2  0015-UOCOJ  Female               1        0           0       7   \n",
       "3  0023-HGHWL    Male               1        0           0       1   \n",
       "4  0032-PGELS  Female               0        1           2       1   \n",
       "\n",
       "   phone_service  multiple_lines  internet_service_type_id online_security  \\\n",
       "0              1               1                         1              No   \n",
       "1              1               0                         1              No   \n",
       "2              1               0                         1             Yes   \n",
       "3              0               0                         1              No   \n",
       "4              0               0                         1             Yes   \n",
       "\n",
       "         ...         churn contract_type_id.1   contract_type  \\\n",
       "0        ...             0                  1  Month-to-month   \n",
       "1        ...             0                  1  Month-to-month   \n",
       "2        ...             0                  1  Month-to-month   \n",
       "3        ...             1                  1  Month-to-month   \n",
       "4        ...             1                  1  Month-to-month   \n",
       "\n",
       "  internet_service_type_id.1 internet_service_type  payment_type_id.1  \\\n",
       "0                          1                   DSL                  2   \n",
       "1                          1                   DSL                  4   \n",
       "2                          1                   DSL                  1   \n",
       "3                          1                   DSL                  1   \n",
       "4                          1                   DSL                  3   \n",
       "\n",
       "                payment_type  tenure_year  phone_id  household_type_id  \n",
       "0               Mailed check         0.75         2                  0  \n",
       "1    Credit card (automatic)         0.75         1                  2  \n",
       "2           Electronic check         0.58         1                  0  \n",
       "3           Electronic check         0.08         0                  0  \n",
       "4  Bank transfer (automatic)         0.08         0                  3  \n",
       "\n",
       "[5 rows x 30 columns]"
      ]
     },
     "execution_count": 29,
     "metadata": {},
     "output_type": "execute_result"
    }
   ],
   "source": [
    "df.head()"
   ]
  },
  {
   "cell_type": "code",
   "execution_count": 30,
   "metadata": {},
   "outputs": [
    {
     "name": "stdout",
     "output_type": "stream",
     "text": [
      "<class 'pandas.core.frame.DataFrame'>\n",
      "RangeIndex: 7043 entries, 0 to 7042\n",
      "Data columns (total 1 columns):\n",
      "household_type_id    7043 non-null int64\n",
      "dtypes: int64(1)\n",
      "memory usage: 55.1 KB\n"
     ]
    }
   ],
   "source": [
    "df[['household_type_id']].info()"
   ]
  },
  {
   "cell_type": "markdown",
   "metadata": {},
   "source": [
    "## New column, household_type_id created!"
   ]
  },
  {
   "cell_type": "markdown",
   "metadata": {},
   "source": [
    "### Household_type_id has 4 value types: \n",
    "### 0 = no partner & no dependents; 1 = Yes partner & No dependents; 2 = No partner and Yes dependents; 3 = Partner & Dependents"
   ]
  },
  {
   "cell_type": "markdown",
   "metadata": {},
   "source": [
    "## Question 7\n",
    "Figure out a way to capture the information contained in streaming_tv and streaming_movies into a single variable of dtype int. Transform the data and place in a new column streaming_services. "
   ]
  },
  {
   "cell_type": "code",
   "execution_count": 31,
   "metadata": {},
   "outputs": [
    {
     "data": {
      "text/plain": [
       "No                     2810\n",
       "Yes                    2707\n",
       "No internet service    1526\n",
       "Name: streaming_tv, dtype: int64"
      ]
     },
     "execution_count": 31,
     "metadata": {},
     "output_type": "execute_result"
    }
   ],
   "source": [
    "df['streaming_tv'].value_counts()"
   ]
  },
  {
   "cell_type": "code",
   "execution_count": 32,
   "metadata": {},
   "outputs": [
    {
     "data": {
      "text/plain": [
       "No                     2785\n",
       "Yes                    2732\n",
       "No internet service    1526\n",
       "Name: streaming_movies, dtype: int64"
      ]
     },
     "execution_count": 32,
     "metadata": {},
     "output_type": "execute_result"
    }
   ],
   "source": [
    "df['streaming_movies'].value_counts()"
   ]
  },
  {
   "cell_type": "markdown",
   "metadata": {},
   "source": [
    "### Streaming_tv and streaming_movies columns are strings with 'Yes', 'No' or 'No internet service' values. Turn columns into the following values:\n",
    "### 'No internet service' = 0 [BOTH COLUMNS]\n",
    "### 'No streaming tv' = 1\n",
    "### 'Yes streaming tv' = 2\n",
    "### 'No streaming movies' = 1\n",
    "### 'Yes streaming movies' = 3"
   ]
  },
  {
   "cell_type": "code",
   "execution_count": 33,
   "metadata": {},
   "outputs": [
    {
     "data": {
      "text/html": [
       "<div>\n",
       "<style scoped>\n",
       "    .dataframe tbody tr th:only-of-type {\n",
       "        vertical-align: middle;\n",
       "    }\n",
       "\n",
       "    .dataframe tbody tr th {\n",
       "        vertical-align: top;\n",
       "    }\n",
       "\n",
       "    .dataframe thead th {\n",
       "        text-align: right;\n",
       "    }\n",
       "</style>\n",
       "<table border=\"1\" class=\"dataframe\">\n",
       "  <thead>\n",
       "    <tr style=\"text-align: right;\">\n",
       "      <th></th>\n",
       "      <th>streaming_tv</th>\n",
       "      <th>streaming_movies</th>\n",
       "    </tr>\n",
       "  </thead>\n",
       "  <tbody>\n",
       "    <tr>\n",
       "      <th>0</th>\n",
       "      <td>No</td>\n",
       "      <td>Yes</td>\n",
       "    </tr>\n",
       "    <tr>\n",
       "      <th>1</th>\n",
       "      <td>Yes</td>\n",
       "      <td>Yes</td>\n",
       "    </tr>\n",
       "    <tr>\n",
       "      <th>2</th>\n",
       "      <td>No</td>\n",
       "      <td>No</td>\n",
       "    </tr>\n",
       "    <tr>\n",
       "      <th>3</th>\n",
       "      <td>No</td>\n",
       "      <td>No</td>\n",
       "    </tr>\n",
       "    <tr>\n",
       "      <th>4</th>\n",
       "      <td>No</td>\n",
       "      <td>No</td>\n",
       "    </tr>\n",
       "  </tbody>\n",
       "</table>\n",
       "</div>"
      ],
      "text/plain": [
       "  streaming_tv streaming_movies\n",
       "0           No              Yes\n",
       "1          Yes              Yes\n",
       "2           No               No\n",
       "3           No               No\n",
       "4           No               No"
      ]
     },
     "execution_count": 33,
     "metadata": {},
     "output_type": "execute_result"
    }
   ],
   "source": [
    "df[['streaming_tv','streaming_movies']].head()"
   ]
  },
  {
   "cell_type": "code",
   "execution_count": 34,
   "metadata": {},
   "outputs": [],
   "source": [
    "df = df.replace({'streaming_tv': {'Yes': 2, 'No': 1, 'No internet service': 0}})"
   ]
  },
  {
   "cell_type": "code",
   "execution_count": 35,
   "metadata": {},
   "outputs": [
    {
     "data": {
      "text/html": [
       "<div>\n",
       "<style scoped>\n",
       "    .dataframe tbody tr th:only-of-type {\n",
       "        vertical-align: middle;\n",
       "    }\n",
       "\n",
       "    .dataframe tbody tr th {\n",
       "        vertical-align: top;\n",
       "    }\n",
       "\n",
       "    .dataframe thead th {\n",
       "        text-align: right;\n",
       "    }\n",
       "</style>\n",
       "<table border=\"1\" class=\"dataframe\">\n",
       "  <thead>\n",
       "    <tr style=\"text-align: right;\">\n",
       "      <th></th>\n",
       "      <th>streaming_tv</th>\n",
       "    </tr>\n",
       "  </thead>\n",
       "  <tbody>\n",
       "    <tr>\n",
       "      <th>0</th>\n",
       "      <td>1</td>\n",
       "    </tr>\n",
       "    <tr>\n",
       "      <th>1</th>\n",
       "      <td>2</td>\n",
       "    </tr>\n",
       "    <tr>\n",
       "      <th>2</th>\n",
       "      <td>1</td>\n",
       "    </tr>\n",
       "    <tr>\n",
       "      <th>3</th>\n",
       "      <td>1</td>\n",
       "    </tr>\n",
       "    <tr>\n",
       "      <th>4</th>\n",
       "      <td>1</td>\n",
       "    </tr>\n",
       "  </tbody>\n",
       "</table>\n",
       "</div>"
      ],
      "text/plain": [
       "   streaming_tv\n",
       "0             1\n",
       "1             2\n",
       "2             1\n",
       "3             1\n",
       "4             1"
      ]
     },
     "execution_count": 35,
     "metadata": {},
     "output_type": "execute_result"
    }
   ],
   "source": [
    "df[['streaming_tv']].head()"
   ]
  },
  {
   "cell_type": "code",
   "execution_count": 36,
   "metadata": {},
   "outputs": [
    {
     "data": {
      "text/plain": [
       "0    Yes\n",
       "1    Yes\n",
       "2     No\n",
       "3     No\n",
       "4     No\n",
       "Name: streaming_movies, dtype: object"
      ]
     },
     "execution_count": 36,
     "metadata": {},
     "output_type": "execute_result"
    }
   ],
   "source": [
    "df['streaming_movies'].head()"
   ]
  },
  {
   "cell_type": "code",
   "execution_count": 37,
   "metadata": {},
   "outputs": [],
   "source": [
    "df = df.replace({'streaming_movies': {'Yes': 3, 'No': 1, 'No internet service': 0}})"
   ]
  },
  {
   "cell_type": "code",
   "execution_count": 38,
   "metadata": {},
   "outputs": [
    {
     "data": {
      "text/plain": [
       "1    2785\n",
       "3    2732\n",
       "0    1526\n",
       "Name: streaming_movies, dtype: int64"
      ]
     },
     "execution_count": 38,
     "metadata": {},
     "output_type": "execute_result"
    }
   ],
   "source": [
    "df['streaming_movies'].value_counts()"
   ]
  },
  {
   "cell_type": "code",
   "execution_count": 39,
   "metadata": {},
   "outputs": [
    {
     "data": {
      "text/plain": [
       "1    2810\n",
       "2    2707\n",
       "0    1526\n",
       "Name: streaming_tv, dtype: int64"
      ]
     },
     "execution_count": 39,
     "metadata": {},
     "output_type": "execute_result"
    }
   ],
   "source": [
    "df['streaming_tv'].value_counts()"
   ]
  },
  {
   "cell_type": "markdown",
   "metadata": {},
   "source": [
    "### Then sum the two columns to make a new column, streaming_services This column will require a key to understand it:\n",
    "### 0 = No internet connection\n",
    "### 2 = No streaming tv & No streaming movies\n",
    "### 3 = Yes streaming tv & No streaming movies\n",
    "### 4 = No streaming tv & Yes streaming movies\n",
    "### 5 = Yes streaming tv & Yes streaming movies"
   ]
  },
  {
   "cell_type": "code",
   "execution_count": 40,
   "metadata": {},
   "outputs": [],
   "source": [
    "df['streaming_services'] = df['streaming_tv'].astype(int) + df['streaming_movies'].astype(int)"
   ]
  },
  {
   "cell_type": "code",
   "execution_count": 41,
   "metadata": {},
   "outputs": [
    {
     "data": {
      "text/plain": [
       "0    4\n",
       "1    5\n",
       "2    2\n",
       "3    2\n",
       "4    2\n",
       "Name: streaming_services, dtype: int64"
      ]
     },
     "execution_count": 41,
     "metadata": {},
     "output_type": "execute_result"
    }
   ],
   "source": [
    "df['streaming_services'].head()"
   ]
  },
  {
   "cell_type": "code",
   "execution_count": 42,
   "metadata": {},
   "outputs": [
    {
     "name": "stdout",
     "output_type": "stream",
     "text": [
      "<class 'pandas.core.frame.DataFrame'>\n",
      "RangeIndex: 7043 entries, 0 to 7042\n",
      "Data columns (total 1 columns):\n",
      "streaming_services    7043 non-null int64\n",
      "dtypes: int64(1)\n",
      "memory usage: 55.1 KB\n"
     ]
    }
   ],
   "source": [
    "df[['streaming_services']].info()"
   ]
  },
  {
   "cell_type": "markdown",
   "metadata": {},
   "source": [
    "## New column, streaming_services, created!"
   ]
  },
  {
   "cell_type": "markdown",
   "metadata": {},
   "source": [
    "## Question 8\n",
    "Figure out a way to capture the information contained in online_security and online_backup into a single variable of dtype int. Transform the data and place in a new column online_security_backup in df_sql. Be sure you have documented your function and logic well."
   ]
  },
  {
   "cell_type": "code",
   "execution_count": 43,
   "metadata": {},
   "outputs": [
    {
     "data": {
      "text/plain": [
       "No                     3088\n",
       "Yes                    2429\n",
       "No internet service    1526\n",
       "Name: online_backup, dtype: int64"
      ]
     },
     "execution_count": 43,
     "metadata": {},
     "output_type": "execute_result"
    }
   ],
   "source": [
    "df['online_backup'].value_counts()"
   ]
  },
  {
   "cell_type": "code",
   "execution_count": 44,
   "metadata": {},
   "outputs": [
    {
     "data": {
      "text/plain": [
       "No                     3498\n",
       "Yes                    2019\n",
       "No internet service    1526\n",
       "Name: online_security, dtype: int64"
      ]
     },
     "execution_count": 44,
     "metadata": {},
     "output_type": "execute_result"
    }
   ],
   "source": [
    "df['online_security'].value_counts()"
   ]
  },
  {
   "cell_type": "markdown",
   "metadata": {},
   "source": [
    "### Online_security and online_backup columns are strings with 'Yes', 'No' or 'No internet service' values. Turn columns into the following values:\n",
    "### 'No internet service' = 0 [BOTH COLUMNS]\n",
    "### 'No online security' = 1\n",
    "### 'Yes online security' = 2\n",
    "### 'No online backup' = 1\n",
    "### 'Yes online backup' = 3"
   ]
  },
  {
   "cell_type": "code",
   "execution_count": 45,
   "metadata": {},
   "outputs": [
    {
     "data": {
      "text/html": [
       "<div>\n",
       "<style scoped>\n",
       "    .dataframe tbody tr th:only-of-type {\n",
       "        vertical-align: middle;\n",
       "    }\n",
       "\n",
       "    .dataframe tbody tr th {\n",
       "        vertical-align: top;\n",
       "    }\n",
       "\n",
       "    .dataframe thead th {\n",
       "        text-align: right;\n",
       "    }\n",
       "</style>\n",
       "<table border=\"1\" class=\"dataframe\">\n",
       "  <thead>\n",
       "    <tr style=\"text-align: right;\">\n",
       "      <th></th>\n",
       "      <th>online_security</th>\n",
       "      <th>online_backup</th>\n",
       "    </tr>\n",
       "  </thead>\n",
       "  <tbody>\n",
       "    <tr>\n",
       "      <th>0</th>\n",
       "      <td>No</td>\n",
       "      <td>No</td>\n",
       "    </tr>\n",
       "    <tr>\n",
       "      <th>1</th>\n",
       "      <td>No</td>\n",
       "      <td>No</td>\n",
       "    </tr>\n",
       "    <tr>\n",
       "      <th>2</th>\n",
       "      <td>Yes</td>\n",
       "      <td>No</td>\n",
       "    </tr>\n",
       "    <tr>\n",
       "      <th>3</th>\n",
       "      <td>No</td>\n",
       "      <td>No</td>\n",
       "    </tr>\n",
       "    <tr>\n",
       "      <th>4</th>\n",
       "      <td>Yes</td>\n",
       "      <td>No</td>\n",
       "    </tr>\n",
       "  </tbody>\n",
       "</table>\n",
       "</div>"
      ],
      "text/plain": [
       "  online_security online_backup\n",
       "0              No            No\n",
       "1              No            No\n",
       "2             Yes            No\n",
       "3              No            No\n",
       "4             Yes            No"
      ]
     },
     "execution_count": 45,
     "metadata": {},
     "output_type": "execute_result"
    }
   ],
   "source": [
    "df[['online_security','online_backup']].head()"
   ]
  },
  {
   "cell_type": "code",
   "execution_count": 46,
   "metadata": {},
   "outputs": [],
   "source": [
    "df = df.replace({'online_security': {'Yes': 2, 'No': 1, 'No internet service': 0}})"
   ]
  },
  {
   "cell_type": "code",
   "execution_count": 47,
   "metadata": {},
   "outputs": [
    {
     "data": {
      "text/html": [
       "<div>\n",
       "<style scoped>\n",
       "    .dataframe tbody tr th:only-of-type {\n",
       "        vertical-align: middle;\n",
       "    }\n",
       "\n",
       "    .dataframe tbody tr th {\n",
       "        vertical-align: top;\n",
       "    }\n",
       "\n",
       "    .dataframe thead th {\n",
       "        text-align: right;\n",
       "    }\n",
       "</style>\n",
       "<table border=\"1\" class=\"dataframe\">\n",
       "  <thead>\n",
       "    <tr style=\"text-align: right;\">\n",
       "      <th></th>\n",
       "      <th>online_security</th>\n",
       "    </tr>\n",
       "  </thead>\n",
       "  <tbody>\n",
       "    <tr>\n",
       "      <th>0</th>\n",
       "      <td>1</td>\n",
       "    </tr>\n",
       "    <tr>\n",
       "      <th>1</th>\n",
       "      <td>1</td>\n",
       "    </tr>\n",
       "    <tr>\n",
       "      <th>2</th>\n",
       "      <td>2</td>\n",
       "    </tr>\n",
       "    <tr>\n",
       "      <th>3</th>\n",
       "      <td>1</td>\n",
       "    </tr>\n",
       "    <tr>\n",
       "      <th>4</th>\n",
       "      <td>2</td>\n",
       "    </tr>\n",
       "  </tbody>\n",
       "</table>\n",
       "</div>"
      ],
      "text/plain": [
       "   online_security\n",
       "0                1\n",
       "1                1\n",
       "2                2\n",
       "3                1\n",
       "4                2"
      ]
     },
     "execution_count": 47,
     "metadata": {},
     "output_type": "execute_result"
    }
   ],
   "source": [
    "df[['online_security']].head()"
   ]
  },
  {
   "cell_type": "code",
   "execution_count": 48,
   "metadata": {},
   "outputs": [
    {
     "data": {
      "text/plain": [
       "0    No\n",
       "1    No\n",
       "2    No\n",
       "3    No\n",
       "4    No\n",
       "Name: online_backup, dtype: object"
      ]
     },
     "execution_count": 48,
     "metadata": {},
     "output_type": "execute_result"
    }
   ],
   "source": [
    "df['online_backup'].head()"
   ]
  },
  {
   "cell_type": "code",
   "execution_count": 49,
   "metadata": {},
   "outputs": [],
   "source": [
    "df = df.replace({'online_backup': {'Yes': 3, 'No': 1, 'No internet service': 0}})"
   ]
  },
  {
   "cell_type": "code",
   "execution_count": 50,
   "metadata": {},
   "outputs": [
    {
     "data": {
      "text/plain": [
       "1    3088\n",
       "3    2429\n",
       "0    1526\n",
       "Name: online_backup, dtype: int64"
      ]
     },
     "execution_count": 50,
     "metadata": {},
     "output_type": "execute_result"
    }
   ],
   "source": [
    "df['online_backup'].value_counts()"
   ]
  },
  {
   "cell_type": "code",
   "execution_count": 51,
   "metadata": {},
   "outputs": [
    {
     "data": {
      "text/plain": [
       "1    3498\n",
       "2    2019\n",
       "0    1526\n",
       "Name: online_security, dtype: int64"
      ]
     },
     "execution_count": 51,
     "metadata": {},
     "output_type": "execute_result"
    }
   ],
   "source": [
    "df['online_security'].value_counts()"
   ]
  },
  {
   "cell_type": "markdown",
   "metadata": {},
   "source": [
    "### Then sum the two columns to make a new column, online_security_backup This column will require a key to understand it:\n",
    "### 0 = No internet connection\n",
    "### 2 = No online security & No online backup\n",
    "### 3 = Yes online security & No online backup\n",
    "### 4 = No online security & Yes online backup\n",
    "### 5 = Yes online security & Yes online backup"
   ]
  },
  {
   "cell_type": "code",
   "execution_count": 52,
   "metadata": {},
   "outputs": [],
   "source": [
    "df['online_security_backup'] = df['online_security'].astype(int) + df['online_backup'].astype(int)"
   ]
  },
  {
   "cell_type": "code",
   "execution_count": 53,
   "metadata": {},
   "outputs": [
    {
     "data": {
      "text/plain": [
       "0    2\n",
       "1    2\n",
       "2    3\n",
       "3    2\n",
       "4    3\n",
       "Name: online_security_backup, dtype: int64"
      ]
     },
     "execution_count": 53,
     "metadata": {},
     "output_type": "execute_result"
    }
   ],
   "source": [
    "df['online_security_backup'].head()"
   ]
  },
  {
   "cell_type": "code",
   "execution_count": 54,
   "metadata": {},
   "outputs": [
    {
     "name": "stdout",
     "output_type": "stream",
     "text": [
      "<class 'pandas.core.frame.DataFrame'>\n",
      "RangeIndex: 7043 entries, 0 to 7042\n",
      "Data columns (total 1 columns):\n",
      "online_security_backup    7043 non-null int64\n",
      "dtypes: int64(1)\n",
      "memory usage: 55.1 KB\n"
     ]
    }
   ],
   "source": [
    "df[['online_security_backup']].info()"
   ]
  },
  {
   "cell_type": "markdown",
   "metadata": {},
   "source": [
    "### New column, online_security_backup, created!"
   ]
  },
  {
   "cell_type": "markdown",
   "metadata": {},
   "source": [
    "# Question 9\n",
    "Data Split\n",
    "   * Split data into train (70%) & test (30%) samples. You should end with 2 data frames: train_df and test_df"
   ]
  },
  {
   "cell_type": "code",
   "execution_count": 55,
   "metadata": {},
   "outputs": [
    {
     "data": {
      "text/html": [
       "<div>\n",
       "<style scoped>\n",
       "    .dataframe tbody tr th:only-of-type {\n",
       "        vertical-align: middle;\n",
       "    }\n",
       "\n",
       "    .dataframe tbody tr th {\n",
       "        vertical-align: top;\n",
       "    }\n",
       "\n",
       "    .dataframe thead th {\n",
       "        text-align: right;\n",
       "    }\n",
       "</style>\n",
       "<table border=\"1\" class=\"dataframe\">\n",
       "  <thead>\n",
       "    <tr style=\"text-align: right;\">\n",
       "      <th></th>\n",
       "      <th>customer_id</th>\n",
       "      <th>gender</th>\n",
       "      <th>senior_citizen</th>\n",
       "      <th>partner</th>\n",
       "      <th>dependents</th>\n",
       "      <th>tenure</th>\n",
       "      <th>phone_service</th>\n",
       "      <th>multiple_lines</th>\n",
       "      <th>internet_service_type_id</th>\n",
       "      <th>online_security</th>\n",
       "      <th>...</th>\n",
       "      <th>contract_type</th>\n",
       "      <th>internet_service_type_id.1</th>\n",
       "      <th>internet_service_type</th>\n",
       "      <th>payment_type_id.1</th>\n",
       "      <th>payment_type</th>\n",
       "      <th>tenure_year</th>\n",
       "      <th>phone_id</th>\n",
       "      <th>household_type_id</th>\n",
       "      <th>streaming_services</th>\n",
       "      <th>online_security_backup</th>\n",
       "    </tr>\n",
       "  </thead>\n",
       "  <tbody>\n",
       "    <tr>\n",
       "      <th>5358</th>\n",
       "      <td>6556-DBKZF</td>\n",
       "      <td>Female</td>\n",
       "      <td>0</td>\n",
       "      <td>1</td>\n",
       "      <td>2</td>\n",
       "      <td>71</td>\n",
       "      <td>1</td>\n",
       "      <td>0</td>\n",
       "      <td>2</td>\n",
       "      <td>1</td>\n",
       "      <td>...</td>\n",
       "      <td>Two year</td>\n",
       "      <td>2</td>\n",
       "      <td>Fiber optic</td>\n",
       "      <td>1</td>\n",
       "      <td>Electronic check</td>\n",
       "      <td>5.92</td>\n",
       "      <td>1</td>\n",
       "      <td>3</td>\n",
       "      <td>2</td>\n",
       "      <td>2</td>\n",
       "    </tr>\n",
       "    <tr>\n",
       "      <th>559</th>\n",
       "      <td>4537-DKTAL</td>\n",
       "      <td>Female</td>\n",
       "      <td>0</td>\n",
       "      <td>0</td>\n",
       "      <td>0</td>\n",
       "      <td>2</td>\n",
       "      <td>1</td>\n",
       "      <td>0</td>\n",
       "      <td>1</td>\n",
       "      <td>1</td>\n",
       "      <td>...</td>\n",
       "      <td>Month-to-month</td>\n",
       "      <td>1</td>\n",
       "      <td>DSL</td>\n",
       "      <td>1</td>\n",
       "      <td>Electronic check</td>\n",
       "      <td>0.17</td>\n",
       "      <td>1</td>\n",
       "      <td>0</td>\n",
       "      <td>2</td>\n",
       "      <td>2</td>\n",
       "    </tr>\n",
       "    <tr>\n",
       "      <th>189</th>\n",
       "      <td>1666-JZPZT</td>\n",
       "      <td>Male</td>\n",
       "      <td>0</td>\n",
       "      <td>0</td>\n",
       "      <td>0</td>\n",
       "      <td>27</td>\n",
       "      <td>1</td>\n",
       "      <td>1</td>\n",
       "      <td>1</td>\n",
       "      <td>1</td>\n",
       "      <td>...</td>\n",
       "      <td>Month-to-month</td>\n",
       "      <td>1</td>\n",
       "      <td>DSL</td>\n",
       "      <td>2</td>\n",
       "      <td>Mailed check</td>\n",
       "      <td>2.25</td>\n",
       "      <td>2</td>\n",
       "      <td>0</td>\n",
       "      <td>2</td>\n",
       "      <td>2</td>\n",
       "    </tr>\n",
       "    <tr>\n",
       "      <th>4027</th>\n",
       "      <td>7422-WNBTY</td>\n",
       "      <td>Male</td>\n",
       "      <td>0</td>\n",
       "      <td>1</td>\n",
       "      <td>0</td>\n",
       "      <td>33</td>\n",
       "      <td>1</td>\n",
       "      <td>1</td>\n",
       "      <td>2</td>\n",
       "      <td>1</td>\n",
       "      <td>...</td>\n",
       "      <td>Month-to-month</td>\n",
       "      <td>2</td>\n",
       "      <td>Fiber optic</td>\n",
       "      <td>1</td>\n",
       "      <td>Electronic check</td>\n",
       "      <td>2.75</td>\n",
       "      <td>2</td>\n",
       "      <td>1</td>\n",
       "      <td>4</td>\n",
       "      <td>4</td>\n",
       "    </tr>\n",
       "    <tr>\n",
       "      <th>1589</th>\n",
       "      <td>6478-HRRCZ</td>\n",
       "      <td>Male</td>\n",
       "      <td>0</td>\n",
       "      <td>1</td>\n",
       "      <td>0</td>\n",
       "      <td>32</td>\n",
       "      <td>1</td>\n",
       "      <td>0</td>\n",
       "      <td>1</td>\n",
       "      <td>2</td>\n",
       "      <td>...</td>\n",
       "      <td>One year</td>\n",
       "      <td>1</td>\n",
       "      <td>DSL</td>\n",
       "      <td>2</td>\n",
       "      <td>Mailed check</td>\n",
       "      <td>2.67</td>\n",
       "      <td>1</td>\n",
       "      <td>1</td>\n",
       "      <td>4</td>\n",
       "      <td>5</td>\n",
       "    </tr>\n",
       "  </tbody>\n",
       "</table>\n",
       "<p>5 rows × 32 columns</p>\n",
       "</div>"
      ],
      "text/plain": [
       "     customer_id  gender  senior_citizen  partner  dependents  tenure  \\\n",
       "5358  6556-DBKZF  Female               0        1           2      71   \n",
       "559   4537-DKTAL  Female               0        0           0       2   \n",
       "189   1666-JZPZT    Male               0        0           0      27   \n",
       "4027  7422-WNBTY    Male               0        1           0      33   \n",
       "1589  6478-HRRCZ    Male               0        1           0      32   \n",
       "\n",
       "      phone_service  multiple_lines  internet_service_type_id  \\\n",
       "5358              1               0                         2   \n",
       "559               1               0                         1   \n",
       "189               1               1                         1   \n",
       "4027              1               1                         2   \n",
       "1589              1               0                         1   \n",
       "\n",
       "      online_security           ...             contract_type  \\\n",
       "5358                1           ...                  Two year   \n",
       "559                 1           ...            Month-to-month   \n",
       "189                 1           ...            Month-to-month   \n",
       "4027                1           ...            Month-to-month   \n",
       "1589                2           ...                  One year   \n",
       "\n",
       "     internet_service_type_id.1 internet_service_type  payment_type_id.1  \\\n",
       "5358                          2           Fiber optic                  1   \n",
       "559                           1                   DSL                  1   \n",
       "189                           1                   DSL                  2   \n",
       "4027                          2           Fiber optic                  1   \n",
       "1589                          1                   DSL                  2   \n",
       "\n",
       "          payment_type  tenure_year phone_id  household_type_id  \\\n",
       "5358  Electronic check         5.92        1                  3   \n",
       "559   Electronic check         0.17        1                  0   \n",
       "189       Mailed check         2.25        2                  0   \n",
       "4027  Electronic check         2.75        2                  1   \n",
       "1589      Mailed check         2.67        1                  1   \n",
       "\n",
       "      streaming_services  online_security_backup  \n",
       "5358                   2                       2  \n",
       "559                    2                       2  \n",
       "189                    2                       2  \n",
       "4027                   4                       4  \n",
       "1589                   4                       5  \n",
       "\n",
       "[5 rows x 32 columns]"
      ]
     },
     "execution_count": 55,
     "metadata": {},
     "output_type": "execute_result"
    }
   ],
   "source": [
    "train_df, test_df = train_test_split(df, test_size = .30, random_state = 123, stratify = df[['churn']])\n",
    "\n",
    "train_df.head()"
   ]
  },
  {
   "cell_type": "markdown",
   "metadata": {},
   "source": [
    "# Question 10\n",
    "Variable Encoding\n",
    "   * write an encoder (fit and transform on train_df) for each non-numeric variable. Use that encoder object to transform on test_df"
   ]
  },
  {
   "cell_type": "code",
   "execution_count": 56,
   "metadata": {},
   "outputs": [],
   "source": [
    "def encode_data(df):\n",
    "    for col in df.drop(columns=(['customer_id', 'total_charges', 'monthly_charges'])):\n",
    "        encoder = LabelEncoder()\n",
    "        encoder.fit(df[col])\n",
    "        new_col = col + '_encode'\n",
    "        df[new_col] = encoder.transform(df[col])\n",
    "    return df\n",
    "\n",
    "train_df = encode_data(train_df)\n",
    "test_df = encode_data(test_df)"
   ]
  },
  {
   "cell_type": "markdown",
   "metadata": {},
   "source": [
    "# Question 11\n",
    "Numeric Scaling\n",
    "   * Fit a min_max_scaler to train_df. Transform monthly_charges and total_charges variables in train_df using the scaler. Then use the scaler object to transform test_df."
   ]
  },
  {
   "cell_type": "code",
   "execution_count": 57,
   "metadata": {},
   "outputs": [
    {
     "data": {
      "text/html": [
       "<div>\n",
       "<style scoped>\n",
       "    .dataframe tbody tr th:only-of-type {\n",
       "        vertical-align: middle;\n",
       "    }\n",
       "\n",
       "    .dataframe tbody tr th {\n",
       "        vertical-align: top;\n",
       "    }\n",
       "\n",
       "    .dataframe thead th {\n",
       "        text-align: right;\n",
       "    }\n",
       "</style>\n",
       "<table border=\"1\" class=\"dataframe\">\n",
       "  <thead>\n",
       "    <tr style=\"text-align: right;\">\n",
       "      <th></th>\n",
       "      <th>customer_id</th>\n",
       "      <th>gender</th>\n",
       "      <th>senior_citizen</th>\n",
       "      <th>partner</th>\n",
       "      <th>dependents</th>\n",
       "      <th>tenure</th>\n",
       "      <th>phone_service</th>\n",
       "      <th>multiple_lines</th>\n",
       "      <th>internet_service_type_id</th>\n",
       "      <th>online_security</th>\n",
       "      <th>...</th>\n",
       "      <th>contract_type_encode</th>\n",
       "      <th>internet_service_type_id.1_encode</th>\n",
       "      <th>internet_service_type_encode</th>\n",
       "      <th>payment_type_id.1_encode</th>\n",
       "      <th>payment_type_encode</th>\n",
       "      <th>tenure_year_encode</th>\n",
       "      <th>phone_id_encode</th>\n",
       "      <th>household_type_id_encode</th>\n",
       "      <th>streaming_services_encode</th>\n",
       "      <th>online_security_backup_encode</th>\n",
       "    </tr>\n",
       "  </thead>\n",
       "  <tbody>\n",
       "    <tr>\n",
       "      <th>5358</th>\n",
       "      <td>6556-DBKZF</td>\n",
       "      <td>Female</td>\n",
       "      <td>0</td>\n",
       "      <td>1</td>\n",
       "      <td>2</td>\n",
       "      <td>71</td>\n",
       "      <td>1</td>\n",
       "      <td>0</td>\n",
       "      <td>2</td>\n",
       "      <td>1</td>\n",
       "      <td>...</td>\n",
       "      <td>2</td>\n",
       "      <td>1</td>\n",
       "      <td>1</td>\n",
       "      <td>0</td>\n",
       "      <td>2</td>\n",
       "      <td>71</td>\n",
       "      <td>1</td>\n",
       "      <td>3</td>\n",
       "      <td>1</td>\n",
       "      <td>1</td>\n",
       "    </tr>\n",
       "    <tr>\n",
       "      <th>559</th>\n",
       "      <td>4537-DKTAL</td>\n",
       "      <td>Female</td>\n",
       "      <td>0</td>\n",
       "      <td>0</td>\n",
       "      <td>0</td>\n",
       "      <td>2</td>\n",
       "      <td>1</td>\n",
       "      <td>0</td>\n",
       "      <td>1</td>\n",
       "      <td>1</td>\n",
       "      <td>...</td>\n",
       "      <td>0</td>\n",
       "      <td>0</td>\n",
       "      <td>0</td>\n",
       "      <td>0</td>\n",
       "      <td>2</td>\n",
       "      <td>2</td>\n",
       "      <td>1</td>\n",
       "      <td>0</td>\n",
       "      <td>1</td>\n",
       "      <td>1</td>\n",
       "    </tr>\n",
       "    <tr>\n",
       "      <th>189</th>\n",
       "      <td>1666-JZPZT</td>\n",
       "      <td>Male</td>\n",
       "      <td>0</td>\n",
       "      <td>0</td>\n",
       "      <td>0</td>\n",
       "      <td>27</td>\n",
       "      <td>1</td>\n",
       "      <td>1</td>\n",
       "      <td>1</td>\n",
       "      <td>1</td>\n",
       "      <td>...</td>\n",
       "      <td>0</td>\n",
       "      <td>0</td>\n",
       "      <td>0</td>\n",
       "      <td>1</td>\n",
       "      <td>3</td>\n",
       "      <td>27</td>\n",
       "      <td>2</td>\n",
       "      <td>0</td>\n",
       "      <td>1</td>\n",
       "      <td>1</td>\n",
       "    </tr>\n",
       "    <tr>\n",
       "      <th>4027</th>\n",
       "      <td>7422-WNBTY</td>\n",
       "      <td>Male</td>\n",
       "      <td>0</td>\n",
       "      <td>1</td>\n",
       "      <td>0</td>\n",
       "      <td>33</td>\n",
       "      <td>1</td>\n",
       "      <td>1</td>\n",
       "      <td>2</td>\n",
       "      <td>1</td>\n",
       "      <td>...</td>\n",
       "      <td>0</td>\n",
       "      <td>1</td>\n",
       "      <td>1</td>\n",
       "      <td>0</td>\n",
       "      <td>2</td>\n",
       "      <td>33</td>\n",
       "      <td>2</td>\n",
       "      <td>1</td>\n",
       "      <td>3</td>\n",
       "      <td>3</td>\n",
       "    </tr>\n",
       "    <tr>\n",
       "      <th>1589</th>\n",
       "      <td>6478-HRRCZ</td>\n",
       "      <td>Male</td>\n",
       "      <td>0</td>\n",
       "      <td>1</td>\n",
       "      <td>0</td>\n",
       "      <td>32</td>\n",
       "      <td>1</td>\n",
       "      <td>0</td>\n",
       "      <td>1</td>\n",
       "      <td>2</td>\n",
       "      <td>...</td>\n",
       "      <td>1</td>\n",
       "      <td>0</td>\n",
       "      <td>0</td>\n",
       "      <td>1</td>\n",
       "      <td>3</td>\n",
       "      <td>32</td>\n",
       "      <td>1</td>\n",
       "      <td>1</td>\n",
       "      <td>3</td>\n",
       "      <td>4</td>\n",
       "    </tr>\n",
       "  </tbody>\n",
       "</table>\n",
       "<p>5 rows × 61 columns</p>\n",
       "</div>"
      ],
      "text/plain": [
       "     customer_id  gender  senior_citizen  partner  dependents  tenure  \\\n",
       "5358  6556-DBKZF  Female               0        1           2      71   \n",
       "559   4537-DKTAL  Female               0        0           0       2   \n",
       "189   1666-JZPZT    Male               0        0           0      27   \n",
       "4027  7422-WNBTY    Male               0        1           0      33   \n",
       "1589  6478-HRRCZ    Male               0        1           0      32   \n",
       "\n",
       "      phone_service  multiple_lines  internet_service_type_id  \\\n",
       "5358              1               0                         2   \n",
       "559               1               0                         1   \n",
       "189               1               1                         1   \n",
       "4027              1               1                         2   \n",
       "1589              1               0                         1   \n",
       "\n",
       "      online_security              ...                contract_type_encode  \\\n",
       "5358                1              ...                                   2   \n",
       "559                 1              ...                                   0   \n",
       "189                 1              ...                                   0   \n",
       "4027                1              ...                                   0   \n",
       "1589                2              ...                                   1   \n",
       "\n",
       "     internet_service_type_id.1_encode internet_service_type_encode  \\\n",
       "5358                                 1                            1   \n",
       "559                                  0                            0   \n",
       "189                                  0                            0   \n",
       "4027                                 1                            1   \n",
       "1589                                 0                            0   \n",
       "\n",
       "      payment_type_id.1_encode  payment_type_encode  tenure_year_encode  \\\n",
       "5358                         0                    2                  71   \n",
       "559                          0                    2                   2   \n",
       "189                          1                    3                  27   \n",
       "4027                         0                    2                  33   \n",
       "1589                         1                    3                  32   \n",
       "\n",
       "     phone_id_encode  household_type_id_encode  streaming_services_encode  \\\n",
       "5358               1                         3                          1   \n",
       "559                1                         0                          1   \n",
       "189                2                         0                          1   \n",
       "4027               2                         1                          3   \n",
       "1589               1                         1                          3   \n",
       "\n",
       "      online_security_backup_encode  \n",
       "5358                              1  \n",
       "559                               1  \n",
       "189                               1  \n",
       "4027                              3  \n",
       "1589                              4  \n",
       "\n",
       "[5 rows x 61 columns]"
      ]
     },
     "execution_count": 57,
     "metadata": {},
     "output_type": "execute_result"
    }
   ],
   "source": [
    "scaler = MinMaxScaler()\n",
    "scaler.fit(train_df[['monthly_charges', 'total_charges']])\n",
    "\n",
    "train_df[['monthly_charges', 'total_charges']] = scaler.transform(train_df[['monthly_charges', 'total_charges']])\n",
    "test_df[['monthly_charges', 'total_charges']] = scaler.transform(test_df[['monthly_charges', 'total_charges']])\n",
    "\n",
    "train_df.head()"
   ]
  },
  {
   "cell_type": "markdown",
   "metadata": {},
   "source": [
    "## Data Exploration\n",
    "### Deliverable\n",
    "I will also need a report (ipynb) answering the question, \"Why are our customers churning?\" I want to see the analysis you did to answer my questions and lead to your findings. Please clearly call out the questions and answers you are analyzing. E.g. If you find that month-to-month customers churn more, I won't be surprised, but I am not getting rid of that plan. The fact that they churn is not because they can, it's because they can and they are motivated to do so. I want some insight intowhy they are motivated to do so. I realize you will not be able to do a full causal experiment, but I hope to see some solid evidence of your conclusions.\n",
    "7.\tHow much of monthly_charges can be explained by internet_service_type + phone service type (0, 1, or multiple lines). State your hypotheses and your conclusion clearly.\n",
    "8.\tCreate visualizations exploring the interactions of variables (independent with independent and independent with dependent). The goal is to identify features that are related to churn, identify any data integrity issues, understand 'how the data works', e.g. we may find that all who have online services also have device protection. In that case, we don't need both of those. (The visualizations done in your analysis for questions 1-5 count towards the requirements below)\n",
    "•\tEach independent variable (except for customer_id) must be visualized in at least two plots, and at least 1 of those compares the independent variable with the dependent variable.\n",
    "•\tFor each plot where x and y are independent variables, add a third dimension (where possible), of churn represented by color.\n",
    "•\tUse subplots when plotting the same type of chart but with different variables.\n",
    "•\tAdjust the axes as necessary to extract information from the visualizations (adjusting the x & y limits, setting the scale where needed, etc.)\n",
    "•\tAdd annotations to at least 5 plots with a key takeaway from that plot.\n",
    "•\tUse plots from matplotlib, pandas and seaborn.\n",
    "•\tUse each of the following:\n",
    "•\tsns.heatmap\n",
    "•\tpd.crosstab (with color)\n",
    "•\tpd.scatter_matrix\n",
    "•\tsns.barplot\n",
    "•\tsns.swarmplot\n",
    "•\tsns.pairplot\n",
    "•\tsns.jointplot\n",
    "•\tsns.relplot or plt.scatter\n",
    "•\tsns.distplot or plt.hist\n",
    "•\tsns.boxplot\n",
    "•\tplt.plot\n",
    "•\tUse at least one more type of plot that is not included in the list above.\n",
    "9.\tWhat can you say about each variable's relationship to churn, based on your initial exploration? If there appears to be some sort of interaction or correlation, assume there is no causal relationship and brainstorm (and document) ideas on reasons there could be correlation.\n",
    "•\tphone_id\n",
    "•\tinternet_service_type_id\n",
    "•\tonline_security_backup\n",
    "•\tdevice_protection\n",
    "•\ttech_support\n",
    "•\tcontract_type_id\n",
    "•\tsenior_citizen\n",
    "•\ttenure\n",
    "•\ttenure_year\n",
    "•\tmonthly_charges\n",
    "•\ttotal_charges\n",
    "•\tpayment_type_id\n",
    "•\tpaperless_billing\n",
    "•\tcontract_type_id\n",
    "•\tgender\n",
    "10.\tSummarize your conclusions, provide clear answers to the specific questions, and summarize any takeaways/action plan from the work above."
   ]
  },
  {
   "cell_type": "markdown",
   "metadata": {},
   "source": [
    "# Data Exploration\n",
    "## Question 1\n",
    "Could the month in which they signed up influence churn? i.e. if a cohort is identified by tenure, is there a cohort or cohorts who have a higher rate of churn than other cohorts? (Plot the rate of churn on a line chart where x is the tenure and y is the rate of churn (customers churned/total customers)). "
   ]
  },
  {
   "cell_type": "markdown",
   "metadata": {},
   "source": [
    "## The distribution of the rate of churn is larger on the very beginning and end of tenure. This means that people who just signed up and people who are at the end of a contract ending at 72 months are the most likely to churn."
   ]
  },
  {
   "cell_type": "code",
   "execution_count": 58,
   "metadata": {},
   "outputs": [
    {
     "data": {
      "text/html": [
       "<div>\n",
       "<style scoped>\n",
       "    .dataframe tbody tr th:only-of-type {\n",
       "        vertical-align: middle;\n",
       "    }\n",
       "\n",
       "    .dataframe tbody tr th {\n",
       "        vertical-align: top;\n",
       "    }\n",
       "\n",
       "    .dataframe thead th {\n",
       "        text-align: right;\n",
       "    }\n",
       "</style>\n",
       "<table border=\"1\" class=\"dataframe\">\n",
       "  <thead>\n",
       "    <tr style=\"text-align: right;\">\n",
       "      <th></th>\n",
       "      <th>customer_id</th>\n",
       "      <th>gender</th>\n",
       "      <th>senior_citizen</th>\n",
       "      <th>partner</th>\n",
       "      <th>dependents</th>\n",
       "      <th>tenure</th>\n",
       "      <th>phone_service</th>\n",
       "      <th>multiple_lines</th>\n",
       "      <th>internet_service_type_id</th>\n",
       "      <th>online_security</th>\n",
       "      <th>...</th>\n",
       "      <th>contract_type</th>\n",
       "      <th>internet_service_type_id.1</th>\n",
       "      <th>internet_service_type</th>\n",
       "      <th>payment_type_id.1</th>\n",
       "      <th>payment_type</th>\n",
       "      <th>tenure_year</th>\n",
       "      <th>phone_id</th>\n",
       "      <th>household_type_id</th>\n",
       "      <th>streaming_services</th>\n",
       "      <th>online_security_backup</th>\n",
       "    </tr>\n",
       "  </thead>\n",
       "  <tbody>\n",
       "    <tr>\n",
       "      <th>0</th>\n",
       "      <td>0003-MKNFE</td>\n",
       "      <td>Male</td>\n",
       "      <td>0</td>\n",
       "      <td>0</td>\n",
       "      <td>0</td>\n",
       "      <td>9</td>\n",
       "      <td>1</td>\n",
       "      <td>1</td>\n",
       "      <td>1</td>\n",
       "      <td>1</td>\n",
       "      <td>...</td>\n",
       "      <td>Month-to-month</td>\n",
       "      <td>1</td>\n",
       "      <td>DSL</td>\n",
       "      <td>2</td>\n",
       "      <td>Mailed check</td>\n",
       "      <td>0.75</td>\n",
       "      <td>2</td>\n",
       "      <td>0</td>\n",
       "      <td>4</td>\n",
       "      <td>2</td>\n",
       "    </tr>\n",
       "    <tr>\n",
       "      <th>1</th>\n",
       "      <td>0013-MHZWF</td>\n",
       "      <td>Female</td>\n",
       "      <td>0</td>\n",
       "      <td>0</td>\n",
       "      <td>2</td>\n",
       "      <td>9</td>\n",
       "      <td>1</td>\n",
       "      <td>0</td>\n",
       "      <td>1</td>\n",
       "      <td>1</td>\n",
       "      <td>...</td>\n",
       "      <td>Month-to-month</td>\n",
       "      <td>1</td>\n",
       "      <td>DSL</td>\n",
       "      <td>4</td>\n",
       "      <td>Credit card (automatic)</td>\n",
       "      <td>0.75</td>\n",
       "      <td>1</td>\n",
       "      <td>2</td>\n",
       "      <td>5</td>\n",
       "      <td>2</td>\n",
       "    </tr>\n",
       "    <tr>\n",
       "      <th>2</th>\n",
       "      <td>0015-UOCOJ</td>\n",
       "      <td>Female</td>\n",
       "      <td>1</td>\n",
       "      <td>0</td>\n",
       "      <td>0</td>\n",
       "      <td>7</td>\n",
       "      <td>1</td>\n",
       "      <td>0</td>\n",
       "      <td>1</td>\n",
       "      <td>2</td>\n",
       "      <td>...</td>\n",
       "      <td>Month-to-month</td>\n",
       "      <td>1</td>\n",
       "      <td>DSL</td>\n",
       "      <td>1</td>\n",
       "      <td>Electronic check</td>\n",
       "      <td>0.58</td>\n",
       "      <td>1</td>\n",
       "      <td>0</td>\n",
       "      <td>2</td>\n",
       "      <td>3</td>\n",
       "    </tr>\n",
       "    <tr>\n",
       "      <th>3</th>\n",
       "      <td>0023-HGHWL</td>\n",
       "      <td>Male</td>\n",
       "      <td>1</td>\n",
       "      <td>0</td>\n",
       "      <td>0</td>\n",
       "      <td>1</td>\n",
       "      <td>0</td>\n",
       "      <td>0</td>\n",
       "      <td>1</td>\n",
       "      <td>1</td>\n",
       "      <td>...</td>\n",
       "      <td>Month-to-month</td>\n",
       "      <td>1</td>\n",
       "      <td>DSL</td>\n",
       "      <td>1</td>\n",
       "      <td>Electronic check</td>\n",
       "      <td>0.08</td>\n",
       "      <td>0</td>\n",
       "      <td>0</td>\n",
       "      <td>2</td>\n",
       "      <td>2</td>\n",
       "    </tr>\n",
       "    <tr>\n",
       "      <th>4</th>\n",
       "      <td>0032-PGELS</td>\n",
       "      <td>Female</td>\n",
       "      <td>0</td>\n",
       "      <td>1</td>\n",
       "      <td>2</td>\n",
       "      <td>1</td>\n",
       "      <td>0</td>\n",
       "      <td>0</td>\n",
       "      <td>1</td>\n",
       "      <td>2</td>\n",
       "      <td>...</td>\n",
       "      <td>Month-to-month</td>\n",
       "      <td>1</td>\n",
       "      <td>DSL</td>\n",
       "      <td>3</td>\n",
       "      <td>Bank transfer (automatic)</td>\n",
       "      <td>0.08</td>\n",
       "      <td>0</td>\n",
       "      <td>3</td>\n",
       "      <td>2</td>\n",
       "      <td>3</td>\n",
       "    </tr>\n",
       "  </tbody>\n",
       "</table>\n",
       "<p>5 rows × 32 columns</p>\n",
       "</div>"
      ],
      "text/plain": [
       "  customer_id  gender  senior_citizen  partner  dependents  tenure  \\\n",
       "0  0003-MKNFE    Male               0        0           0       9   \n",
       "1  0013-MHZWF  Female               0        0           2       9   \n",
       "2  0015-UOCOJ  Female               1        0           0       7   \n",
       "3  0023-HGHWL    Male               1        0           0       1   \n",
       "4  0032-PGELS  Female               0        1           2       1   \n",
       "\n",
       "   phone_service  multiple_lines  internet_service_type_id  online_security  \\\n",
       "0              1               1                         1                1   \n",
       "1              1               0                         1                1   \n",
       "2              1               0                         1                2   \n",
       "3              0               0                         1                1   \n",
       "4              0               0                         1                2   \n",
       "\n",
       "            ...             contract_type internet_service_type_id.1  \\\n",
       "0           ...            Month-to-month                          1   \n",
       "1           ...            Month-to-month                          1   \n",
       "2           ...            Month-to-month                          1   \n",
       "3           ...            Month-to-month                          1   \n",
       "4           ...            Month-to-month                          1   \n",
       "\n",
       "  internet_service_type  payment_type_id.1               payment_type  \\\n",
       "0                   DSL                  2               Mailed check   \n",
       "1                   DSL                  4    Credit card (automatic)   \n",
       "2                   DSL                  1           Electronic check   \n",
       "3                   DSL                  1           Electronic check   \n",
       "4                   DSL                  3  Bank transfer (automatic)   \n",
       "\n",
       "   tenure_year phone_id  household_type_id  streaming_services  \\\n",
       "0         0.75        2                  0                   4   \n",
       "1         0.75        1                  2                   5   \n",
       "2         0.58        1                  0                   2   \n",
       "3         0.08        0                  0                   2   \n",
       "4         0.08        0                  3                   2   \n",
       "\n",
       "   online_security_backup  \n",
       "0                       2  \n",
       "1                       2  \n",
       "2                       3  \n",
       "3                       2  \n",
       "4                       3  \n",
       "\n",
       "[5 rows x 32 columns]"
      ]
     },
     "execution_count": 58,
     "metadata": {},
     "output_type": "execute_result"
    }
   ],
   "source": [
    "df.head()"
   ]
  },
  {
   "cell_type": "code",
   "execution_count": 59,
   "metadata": {},
   "outputs": [
    {
     "data": {
      "text/plain": [
       "Index(['customer_id', 'gender', 'senior_citizen', 'partner', 'dependents',\n",
       "       'tenure', 'phone_service', 'multiple_lines', 'internet_service_type_id',\n",
       "       'online_security', 'online_backup', 'device_protection', 'tech_support',\n",
       "       'streaming_tv', 'streaming_movies', 'contract_type_id',\n",
       "       'paperless_billing', 'payment_type_id', 'monthly_charges',\n",
       "       'total_charges', 'churn', 'contract_type_id.1', 'contract_type',\n",
       "       'internet_service_type_id.1', 'internet_service_type',\n",
       "       'payment_type_id.1', 'payment_type', 'tenure_year', 'phone_id',\n",
       "       'household_type_id', 'streaming_services', 'online_security_backup'],\n",
       "      dtype='object')"
      ]
     },
     "execution_count": 59,
     "metadata": {},
     "output_type": "execute_result"
    }
   ],
   "source": [
    "df.columns\n"
   ]
  },
  {
   "cell_type": "code",
   "execution_count": 60,
   "metadata": {},
   "outputs": [
    {
     "data": {
      "text/html": [
       "<div>\n",
       "<style scoped>\n",
       "    .dataframe tbody tr th:only-of-type {\n",
       "        vertical-align: middle;\n",
       "    }\n",
       "\n",
       "    .dataframe tbody tr th {\n",
       "        vertical-align: top;\n",
       "    }\n",
       "\n",
       "    .dataframe thead th {\n",
       "        text-align: right;\n",
       "    }\n",
       "</style>\n",
       "<table border=\"1\" class=\"dataframe\">\n",
       "  <thead>\n",
       "    <tr style=\"text-align: right;\">\n",
       "      <th></th>\n",
       "      <th>senior_citizen</th>\n",
       "      <th>partner</th>\n",
       "      <th>dependents</th>\n",
       "      <th>tenure</th>\n",
       "      <th>phone_service</th>\n",
       "      <th>multiple_lines</th>\n",
       "      <th>internet_service_type_id</th>\n",
       "      <th>online_security</th>\n",
       "      <th>online_backup</th>\n",
       "      <th>streaming_tv</th>\n",
       "      <th>...</th>\n",
       "      <th>total_charges</th>\n",
       "      <th>churn</th>\n",
       "      <th>contract_type_id.1</th>\n",
       "      <th>internet_service_type_id.1</th>\n",
       "      <th>payment_type_id.1</th>\n",
       "      <th>tenure_year</th>\n",
       "      <th>phone_id</th>\n",
       "      <th>household_type_id</th>\n",
       "      <th>streaming_services</th>\n",
       "      <th>online_security_backup</th>\n",
       "    </tr>\n",
       "  </thead>\n",
       "  <tbody>\n",
       "    <tr>\n",
       "      <th>count</th>\n",
       "      <td>7043.000000</td>\n",
       "      <td>7043.000000</td>\n",
       "      <td>7043.000000</td>\n",
       "      <td>7043.000000</td>\n",
       "      <td>7043.000000</td>\n",
       "      <td>7043.000000</td>\n",
       "      <td>7043.000000</td>\n",
       "      <td>7043.000000</td>\n",
       "      <td>7043.000000</td>\n",
       "      <td>7043.000000</td>\n",
       "      <td>...</td>\n",
       "      <td>7032.000000</td>\n",
       "      <td>7043.000000</td>\n",
       "      <td>7043.000000</td>\n",
       "      <td>7043.000000</td>\n",
       "      <td>7043.000000</td>\n",
       "      <td>7043.000000</td>\n",
       "      <td>7043.000000</td>\n",
       "      <td>7043.000000</td>\n",
       "      <td>7043.000000</td>\n",
       "      <td>7043.000000</td>\n",
       "    </tr>\n",
       "    <tr>\n",
       "      <th>mean</th>\n",
       "      <td>0.162147</td>\n",
       "      <td>0.483033</td>\n",
       "      <td>0.599176</td>\n",
       "      <td>32.371149</td>\n",
       "      <td>0.903166</td>\n",
       "      <td>0.421837</td>\n",
       "      <td>1.872923</td>\n",
       "      <td>1.069999</td>\n",
       "      <td>1.473094</td>\n",
       "      <td>1.167684</td>\n",
       "      <td>...</td>\n",
       "      <td>2283.300441</td>\n",
       "      <td>0.265370</td>\n",
       "      <td>1.690473</td>\n",
       "      <td>1.872923</td>\n",
       "      <td>2.315633</td>\n",
       "      <td>2.697402</td>\n",
       "      <td>1.325004</td>\n",
       "      <td>1.082209</td>\n",
       "      <td>2.726821</td>\n",
       "      <td>2.543092</td>\n",
       "    </tr>\n",
       "    <tr>\n",
       "      <th>std</th>\n",
       "      <td>0.368612</td>\n",
       "      <td>0.499748</td>\n",
       "      <td>0.916220</td>\n",
       "      <td>24.559481</td>\n",
       "      <td>0.295752</td>\n",
       "      <td>0.493888</td>\n",
       "      <td>0.737796</td>\n",
       "      <td>0.706051</td>\n",
       "      <td>1.171568</td>\n",
       "      <td>0.756958</td>\n",
       "      <td>...</td>\n",
       "      <td>2266.771362</td>\n",
       "      <td>0.441561</td>\n",
       "      <td>0.833755</td>\n",
       "      <td>0.737796</td>\n",
       "      <td>1.148907</td>\n",
       "      <td>2.046968</td>\n",
       "      <td>0.642730</td>\n",
       "      <td>1.226274</td>\n",
       "      <td>1.837568</td>\n",
       "      <td>1.696417</td>\n",
       "    </tr>\n",
       "    <tr>\n",
       "      <th>min</th>\n",
       "      <td>0.000000</td>\n",
       "      <td>0.000000</td>\n",
       "      <td>0.000000</td>\n",
       "      <td>0.000000</td>\n",
       "      <td>0.000000</td>\n",
       "      <td>0.000000</td>\n",
       "      <td>1.000000</td>\n",
       "      <td>0.000000</td>\n",
       "      <td>0.000000</td>\n",
       "      <td>0.000000</td>\n",
       "      <td>...</td>\n",
       "      <td>18.800000</td>\n",
       "      <td>0.000000</td>\n",
       "      <td>1.000000</td>\n",
       "      <td>1.000000</td>\n",
       "      <td>1.000000</td>\n",
       "      <td>0.000000</td>\n",
       "      <td>0.000000</td>\n",
       "      <td>0.000000</td>\n",
       "      <td>0.000000</td>\n",
       "      <td>0.000000</td>\n",
       "    </tr>\n",
       "    <tr>\n",
       "      <th>25%</th>\n",
       "      <td>0.000000</td>\n",
       "      <td>0.000000</td>\n",
       "      <td>0.000000</td>\n",
       "      <td>9.000000</td>\n",
       "      <td>1.000000</td>\n",
       "      <td>0.000000</td>\n",
       "      <td>1.000000</td>\n",
       "      <td>1.000000</td>\n",
       "      <td>1.000000</td>\n",
       "      <td>1.000000</td>\n",
       "      <td>...</td>\n",
       "      <td>401.450000</td>\n",
       "      <td>0.000000</td>\n",
       "      <td>1.000000</td>\n",
       "      <td>1.000000</td>\n",
       "      <td>1.000000</td>\n",
       "      <td>0.750000</td>\n",
       "      <td>1.000000</td>\n",
       "      <td>0.000000</td>\n",
       "      <td>2.000000</td>\n",
       "      <td>2.000000</td>\n",
       "    </tr>\n",
       "    <tr>\n",
       "      <th>50%</th>\n",
       "      <td>0.000000</td>\n",
       "      <td>0.000000</td>\n",
       "      <td>0.000000</td>\n",
       "      <td>29.000000</td>\n",
       "      <td>1.000000</td>\n",
       "      <td>0.000000</td>\n",
       "      <td>2.000000</td>\n",
       "      <td>1.000000</td>\n",
       "      <td>1.000000</td>\n",
       "      <td>1.000000</td>\n",
       "      <td>...</td>\n",
       "      <td>1397.475000</td>\n",
       "      <td>0.000000</td>\n",
       "      <td>1.000000</td>\n",
       "      <td>2.000000</td>\n",
       "      <td>2.000000</td>\n",
       "      <td>2.420000</td>\n",
       "      <td>1.000000</td>\n",
       "      <td>1.000000</td>\n",
       "      <td>2.000000</td>\n",
       "      <td>2.000000</td>\n",
       "    </tr>\n",
       "    <tr>\n",
       "      <th>75%</th>\n",
       "      <td>0.000000</td>\n",
       "      <td>1.000000</td>\n",
       "      <td>2.000000</td>\n",
       "      <td>55.000000</td>\n",
       "      <td>1.000000</td>\n",
       "      <td>1.000000</td>\n",
       "      <td>2.000000</td>\n",
       "      <td>2.000000</td>\n",
       "      <td>3.000000</td>\n",
       "      <td>2.000000</td>\n",
       "      <td>...</td>\n",
       "      <td>3794.737500</td>\n",
       "      <td>1.000000</td>\n",
       "      <td>2.000000</td>\n",
       "      <td>2.000000</td>\n",
       "      <td>3.000000</td>\n",
       "      <td>4.580000</td>\n",
       "      <td>2.000000</td>\n",
       "      <td>2.000000</td>\n",
       "      <td>5.000000</td>\n",
       "      <td>4.000000</td>\n",
       "    </tr>\n",
       "    <tr>\n",
       "      <th>max</th>\n",
       "      <td>1.000000</td>\n",
       "      <td>1.000000</td>\n",
       "      <td>2.000000</td>\n",
       "      <td>72.000000</td>\n",
       "      <td>1.000000</td>\n",
       "      <td>1.000000</td>\n",
       "      <td>3.000000</td>\n",
       "      <td>2.000000</td>\n",
       "      <td>3.000000</td>\n",
       "      <td>2.000000</td>\n",
       "      <td>...</td>\n",
       "      <td>8684.800000</td>\n",
       "      <td>1.000000</td>\n",
       "      <td>3.000000</td>\n",
       "      <td>3.000000</td>\n",
       "      <td>4.000000</td>\n",
       "      <td>6.000000</td>\n",
       "      <td>2.000000</td>\n",
       "      <td>3.000000</td>\n",
       "      <td>5.000000</td>\n",
       "      <td>5.000000</td>\n",
       "    </tr>\n",
       "  </tbody>\n",
       "</table>\n",
       "<p>8 rows × 24 columns</p>\n",
       "</div>"
      ],
      "text/plain": [
       "       senior_citizen      partner   dependents       tenure  phone_service  \\\n",
       "count     7043.000000  7043.000000  7043.000000  7043.000000    7043.000000   \n",
       "mean         0.162147     0.483033     0.599176    32.371149       0.903166   \n",
       "std          0.368612     0.499748     0.916220    24.559481       0.295752   \n",
       "min          0.000000     0.000000     0.000000     0.000000       0.000000   \n",
       "25%          0.000000     0.000000     0.000000     9.000000       1.000000   \n",
       "50%          0.000000     0.000000     0.000000    29.000000       1.000000   \n",
       "75%          0.000000     1.000000     2.000000    55.000000       1.000000   \n",
       "max          1.000000     1.000000     2.000000    72.000000       1.000000   \n",
       "\n",
       "       multiple_lines  internet_service_type_id  online_security  \\\n",
       "count     7043.000000               7043.000000      7043.000000   \n",
       "mean         0.421837                  1.872923         1.069999   \n",
       "std          0.493888                  0.737796         0.706051   \n",
       "min          0.000000                  1.000000         0.000000   \n",
       "25%          0.000000                  1.000000         1.000000   \n",
       "50%          0.000000                  2.000000         1.000000   \n",
       "75%          1.000000                  2.000000         2.000000   \n",
       "max          1.000000                  3.000000         2.000000   \n",
       "\n",
       "       online_backup  streaming_tv           ...            total_charges  \\\n",
       "count    7043.000000   7043.000000           ...              7032.000000   \n",
       "mean        1.473094      1.167684           ...              2283.300441   \n",
       "std         1.171568      0.756958           ...              2266.771362   \n",
       "min         0.000000      0.000000           ...                18.800000   \n",
       "25%         1.000000      1.000000           ...               401.450000   \n",
       "50%         1.000000      1.000000           ...              1397.475000   \n",
       "75%         3.000000      2.000000           ...              3794.737500   \n",
       "max         3.000000      2.000000           ...              8684.800000   \n",
       "\n",
       "             churn  contract_type_id.1  internet_service_type_id.1  \\\n",
       "count  7043.000000         7043.000000                 7043.000000   \n",
       "mean      0.265370            1.690473                    1.872923   \n",
       "std       0.441561            0.833755                    0.737796   \n",
       "min       0.000000            1.000000                    1.000000   \n",
       "25%       0.000000            1.000000                    1.000000   \n",
       "50%       0.000000            1.000000                    2.000000   \n",
       "75%       1.000000            2.000000                    2.000000   \n",
       "max       1.000000            3.000000                    3.000000   \n",
       "\n",
       "       payment_type_id.1  tenure_year     phone_id  household_type_id  \\\n",
       "count        7043.000000  7043.000000  7043.000000        7043.000000   \n",
       "mean            2.315633     2.697402     1.325004           1.082209   \n",
       "std             1.148907     2.046968     0.642730           1.226274   \n",
       "min             1.000000     0.000000     0.000000           0.000000   \n",
       "25%             1.000000     0.750000     1.000000           0.000000   \n",
       "50%             2.000000     2.420000     1.000000           1.000000   \n",
       "75%             3.000000     4.580000     2.000000           2.000000   \n",
       "max             4.000000     6.000000     2.000000           3.000000   \n",
       "\n",
       "       streaming_services  online_security_backup  \n",
       "count         7043.000000             7043.000000  \n",
       "mean             2.726821                2.543092  \n",
       "std              1.837568                1.696417  \n",
       "min              0.000000                0.000000  \n",
       "25%              2.000000                2.000000  \n",
       "50%              2.000000                2.000000  \n",
       "75%              5.000000                4.000000  \n",
       "max              5.000000                5.000000  \n",
       "\n",
       "[8 rows x 24 columns]"
      ]
     },
     "execution_count": 60,
     "metadata": {},
     "output_type": "execute_result"
    }
   ],
   "source": [
    "df.describe()"
   ]
  },
  {
   "cell_type": "code",
   "execution_count": 61,
   "metadata": {},
   "outputs": [],
   "source": [
    "df['cumsum_churn'] = df.churn.cumsum()"
   ]
  },
  {
   "cell_type": "code",
   "execution_count": 62,
   "metadata": {},
   "outputs": [
    {
     "data": {
      "text/html": [
       "<div>\n",
       "<style scoped>\n",
       "    .dataframe tbody tr th:only-of-type {\n",
       "        vertical-align: middle;\n",
       "    }\n",
       "\n",
       "    .dataframe tbody tr th {\n",
       "        vertical-align: top;\n",
       "    }\n",
       "\n",
       "    .dataframe thead th {\n",
       "        text-align: right;\n",
       "    }\n",
       "</style>\n",
       "<table border=\"1\" class=\"dataframe\">\n",
       "  <thead>\n",
       "    <tr style=\"text-align: right;\">\n",
       "      <th></th>\n",
       "      <th>cumsum_churn</th>\n",
       "    </tr>\n",
       "  </thead>\n",
       "  <tbody>\n",
       "    <tr>\n",
       "      <th>0</th>\n",
       "      <td>0</td>\n",
       "    </tr>\n",
       "    <tr>\n",
       "      <th>1</th>\n",
       "      <td>0</td>\n",
       "    </tr>\n",
       "    <tr>\n",
       "      <th>2</th>\n",
       "      <td>0</td>\n",
       "    </tr>\n",
       "    <tr>\n",
       "      <th>3</th>\n",
       "      <td>1</td>\n",
       "    </tr>\n",
       "    <tr>\n",
       "      <th>4</th>\n",
       "      <td>2</td>\n",
       "    </tr>\n",
       "  </tbody>\n",
       "</table>\n",
       "</div>"
      ],
      "text/plain": [
       "   cumsum_churn\n",
       "0             0\n",
       "1             0\n",
       "2             0\n",
       "3             1\n",
       "4             2"
      ]
     },
     "execution_count": 62,
     "metadata": {},
     "output_type": "execute_result"
    }
   ],
   "source": [
    "df[['cumsum_churn']].head()"
   ]
  },
  {
   "cell_type": "code",
   "execution_count": 63,
   "metadata": {},
   "outputs": [],
   "source": [
    "df['rate_churn'] = df.cumsum_churn/df.churn.count()"
   ]
  },
  {
   "cell_type": "code",
   "execution_count": 64,
   "metadata": {},
   "outputs": [
    {
     "data": {
      "text/html": [
       "<div>\n",
       "<style scoped>\n",
       "    .dataframe tbody tr th:only-of-type {\n",
       "        vertical-align: middle;\n",
       "    }\n",
       "\n",
       "    .dataframe tbody tr th {\n",
       "        vertical-align: top;\n",
       "    }\n",
       "\n",
       "    .dataframe thead th {\n",
       "        text-align: right;\n",
       "    }\n",
       "</style>\n",
       "<table border=\"1\" class=\"dataframe\">\n",
       "  <thead>\n",
       "    <tr style=\"text-align: right;\">\n",
       "      <th></th>\n",
       "      <th>rate_churn</th>\n",
       "    </tr>\n",
       "  </thead>\n",
       "  <tbody>\n",
       "    <tr>\n",
       "      <th>7033</th>\n",
       "      <td>0.26537</td>\n",
       "    </tr>\n",
       "    <tr>\n",
       "      <th>7034</th>\n",
       "      <td>0.26537</td>\n",
       "    </tr>\n",
       "    <tr>\n",
       "      <th>7035</th>\n",
       "      <td>0.26537</td>\n",
       "    </tr>\n",
       "    <tr>\n",
       "      <th>7036</th>\n",
       "      <td>0.26537</td>\n",
       "    </tr>\n",
       "    <tr>\n",
       "      <th>7037</th>\n",
       "      <td>0.26537</td>\n",
       "    </tr>\n",
       "    <tr>\n",
       "      <th>7038</th>\n",
       "      <td>0.26537</td>\n",
       "    </tr>\n",
       "    <tr>\n",
       "      <th>7039</th>\n",
       "      <td>0.26537</td>\n",
       "    </tr>\n",
       "    <tr>\n",
       "      <th>7040</th>\n",
       "      <td>0.26537</td>\n",
       "    </tr>\n",
       "    <tr>\n",
       "      <th>7041</th>\n",
       "      <td>0.26537</td>\n",
       "    </tr>\n",
       "    <tr>\n",
       "      <th>7042</th>\n",
       "      <td>0.26537</td>\n",
       "    </tr>\n",
       "  </tbody>\n",
       "</table>\n",
       "</div>"
      ],
      "text/plain": [
       "      rate_churn\n",
       "7033     0.26537\n",
       "7034     0.26537\n",
       "7035     0.26537\n",
       "7036     0.26537\n",
       "7037     0.26537\n",
       "7038     0.26537\n",
       "7039     0.26537\n",
       "7040     0.26537\n",
       "7041     0.26537\n",
       "7042     0.26537"
      ]
     },
     "execution_count": 64,
     "metadata": {},
     "output_type": "execute_result"
    }
   ],
   "source": [
    "df[['rate_churn']].tail(10)"
   ]
  },
  {
   "cell_type": "code",
   "execution_count": 65,
   "metadata": {},
   "outputs": [
    {
     "data": {
      "text/plain": [
       "<matplotlib.axes._subplots.AxesSubplot at 0x1071125c0>"
      ]
     },
     "execution_count": 65,
     "metadata": {},
     "output_type": "execute_result"
    },
    {
     "data": {
      "image/png": "[encoded data removed]",
      "text/plain": [
       "<Figure size 432x288 with 1 Axes>"
      ]
     },
     "metadata": {
      "needs_background": "light"
     },
     "output_type": "display_data"
    }
   ],
   "source": [
    "df.rate_churn.plot()"
   ]
  },
  {
   "cell_type": "code",
   "execution_count": 66,
   "metadata": {},
   "outputs": [
    {
     "data": {
      "text/plain": [
       "<seaborn.axisgrid.JointGrid at 0x1a1c5b3c88>"
      ]
     },
     "execution_count": 66,
     "metadata": {},
     "output_type": "execute_result"
    },
    {
     "data": {
      "image/png": "[encoded data removed]",
      "text/plain": [
       "<Figure size 432x432 with 3 Axes>"
      ]
     },
     "metadata": {
      "needs_background": "light"
     },
     "output_type": "display_data"
    }
   ],
   "source": [
    "sns.jointplot(x=df.tenure, y=df.rate_churn, data=df)"
   ]
  },
  {
   "cell_type": "markdown",
   "metadata": {},
   "source": [
    "## Question 2\n",
    "Are there features that indicate a higher propensity to churn? like type of internet service, type of phone service, online security and backup, senior citizens, paying more than x% of customers with the same services, etc.? "
   ]
  },
  {
   "cell_type": "code",
   "execution_count": 67,
   "metadata": {},
   "outputs": [
    {
     "data": {
      "text/html": [
       "<div>\n",
       "<style scoped>\n",
       "    .dataframe tbody tr th:only-of-type {\n",
       "        vertical-align: middle;\n",
       "    }\n",
       "\n",
       "    .dataframe tbody tr th {\n",
       "        vertical-align: top;\n",
       "    }\n",
       "\n",
       "    .dataframe thead th {\n",
       "        text-align: right;\n",
       "    }\n",
       "</style>\n",
       "<table border=\"1\" class=\"dataframe\">\n",
       "  <thead>\n",
       "    <tr style=\"text-align: right;\">\n",
       "      <th></th>\n",
       "      <th>internet_service_type_id</th>\n",
       "      <th>internet_service_type</th>\n",
       "      <th>internet_service_type_id.1</th>\n",
       "    </tr>\n",
       "  </thead>\n",
       "  <tbody>\n",
       "    <tr>\n",
       "      <th>0</th>\n",
       "      <td>1</td>\n",
       "      <td>DSL</td>\n",
       "      <td>1</td>\n",
       "    </tr>\n",
       "    <tr>\n",
       "      <th>1</th>\n",
       "      <td>1</td>\n",
       "      <td>DSL</td>\n",
       "      <td>1</td>\n",
       "    </tr>\n",
       "    <tr>\n",
       "      <th>2</th>\n",
       "      <td>1</td>\n",
       "      <td>DSL</td>\n",
       "      <td>1</td>\n",
       "    </tr>\n",
       "    <tr>\n",
       "      <th>3</th>\n",
       "      <td>1</td>\n",
       "      <td>DSL</td>\n",
       "      <td>1</td>\n",
       "    </tr>\n",
       "    <tr>\n",
       "      <th>4</th>\n",
       "      <td>1</td>\n",
       "      <td>DSL</td>\n",
       "      <td>1</td>\n",
       "    </tr>\n",
       "    <tr>\n",
       "      <th>5</th>\n",
       "      <td>1</td>\n",
       "      <td>DSL</td>\n",
       "      <td>1</td>\n",
       "    </tr>\n",
       "    <tr>\n",
       "      <th>6</th>\n",
       "      <td>1</td>\n",
       "      <td>DSL</td>\n",
       "      <td>1</td>\n",
       "    </tr>\n",
       "    <tr>\n",
       "      <th>7</th>\n",
       "      <td>1</td>\n",
       "      <td>DSL</td>\n",
       "      <td>1</td>\n",
       "    </tr>\n",
       "    <tr>\n",
       "      <th>8</th>\n",
       "      <td>1</td>\n",
       "      <td>DSL</td>\n",
       "      <td>1</td>\n",
       "    </tr>\n",
       "    <tr>\n",
       "      <th>9</th>\n",
       "      <td>1</td>\n",
       "      <td>DSL</td>\n",
       "      <td>1</td>\n",
       "    </tr>\n",
       "  </tbody>\n",
       "</table>\n",
       "</div>"
      ],
      "text/plain": [
       "   internet_service_type_id internet_service_type  internet_service_type_id.1\n",
       "0                         1                   DSL                           1\n",
       "1                         1                   DSL                           1\n",
       "2                         1                   DSL                           1\n",
       "3                         1                   DSL                           1\n",
       "4                         1                   DSL                           1\n",
       "5                         1                   DSL                           1\n",
       "6                         1                   DSL                           1\n",
       "7                         1                   DSL                           1\n",
       "8                         1                   DSL                           1\n",
       "9                         1                   DSL                           1"
      ]
     },
     "execution_count": 67,
     "metadata": {},
     "output_type": "execute_result"
    }
   ],
   "source": [
    "df[['internet_service_type_id','internet_service_type','internet_service_type_id.1']].head(10)"
   ]
  },
  {
   "cell_type": "code",
   "execution_count": 68,
   "metadata": {},
   "outputs": [
    {
     "data": {
      "text/plain": [
       "Index(['customer_id', 'gender', 'senior_citizen', 'partner', 'dependents',\n",
       "       'tenure', 'phone_service', 'multiple_lines', 'internet_service_type_id',\n",
       "       'online_security', 'online_backup', 'device_protection', 'tech_support',\n",
       "       'streaming_tv', 'streaming_movies', 'contract_type_id',\n",
       "       'paperless_billing', 'payment_type_id', 'monthly_charges',\n",
       "       'total_charges', 'churn', 'contract_type_id.1', 'contract_type',\n",
       "       'internet_service_type_id.1', 'internet_service_type',\n",
       "       'payment_type_id.1', 'payment_type', 'tenure_year', 'phone_id',\n",
       "       'household_type_id', 'streaming_services', 'online_security_backup',\n",
       "       'cumsum_churn', 'rate_churn'],\n",
       "      dtype='object')"
      ]
     },
     "execution_count": 68,
     "metadata": {},
     "output_type": "execute_result"
    }
   ],
   "source": [
    "df.columns"
   ]
  },
  {
   "cell_type": "code",
   "execution_count": 69,
   "metadata": {},
   "outputs": [
    {
     "name": "stdout",
     "output_type": "stream",
     "text": [
      "payment_type  Bank transfer (automatic)  Credit card (automatic)  \\\n",
      "churn                                                              \n",
      "0                              0.186207                 0.182353   \n",
      "1                              0.037728                 0.033469   \n",
      "All                            0.223935                 0.215822   \n",
      "\n",
      "payment_type  Electronic check  Mailed check       All  \n",
      "churn                                                   \n",
      "0                     0.180933      0.185193  0.734686  \n",
      "1                     0.153955      0.040162  0.265314  \n",
      "All                   0.334888      0.225355  1.000000  \n",
      "tenure_year       0.0      0.08      0.17      0.25      0.33      0.42  \\\n",
      "churn                                                                     \n",
      "0            0.001826  0.031440  0.015822  0.016227  0.012576  0.008925   \n",
      "1            0.000000  0.053144  0.016836  0.012982  0.011968  0.008316   \n",
      "All          0.001826  0.084584  0.032657  0.029209  0.024544  0.017241   \n",
      "\n",
      "tenure_year       0.5      0.58      0.67      0.75    ...         5.33  \\\n",
      "churn                                                  ...                \n",
      "0            0.010548  0.011156  0.012373  0.011156    ...     0.011359   \n",
      "1            0.005680  0.006694  0.006085  0.006491    ...     0.000811   \n",
      "All          0.016227  0.017850  0.018458  0.017647    ...     0.012170   \n",
      "\n",
      "tenure_year      5.42       5.5      5.58      5.67      5.75      5.83  \\\n",
      "churn                                                                     \n",
      "0            0.007911  0.009736  0.012982  0.013590  0.010751  0.014199   \n",
      "1            0.001420  0.001623  0.001217  0.001623  0.001623  0.001826   \n",
      "All          0.009331  0.011359  0.014199  0.015213  0.012373  0.016024   \n",
      "\n",
      "tenure_year      5.92       6.0       All  \n",
      "churn                                      \n",
      "0            0.021501  0.049899  0.734686  \n",
      "1            0.000811  0.000609  0.265314  \n",
      "All          0.022312  0.050507  1.000000  \n",
      "\n",
      "[3 rows x 74 columns]\n",
      "internet_service_type       DSL  Fiber optic      None       All\n",
      "churn                                                           \n",
      "0                      0.279513     0.254767  0.200406  0.734686\n",
      "1                      0.065923     0.182759  0.016633  0.265314\n",
      "All                    0.345436     0.437525  0.217039  1.000000\n",
      "phone_id         0         1         2       All\n",
      "churn                                           \n",
      "0         0.071805  0.365517  0.297363  0.734686\n",
      "1         0.024949  0.121907  0.118458  0.265314\n",
      "All       0.096755  0.487424  0.415822  1.000000\n",
      "household_type_id         0         1         2         3       All\n",
      "churn                                                              \n",
      "0                  0.308114  0.174848  0.041785  0.209939  0.734686\n",
      "1                  0.161460  0.056998  0.010751  0.036105  0.265314\n",
      "All                0.469574  0.231846  0.052535  0.246045  1.000000\n",
      "streaming_services         0         2         3         4         5       All\n",
      "churn                                                                         \n",
      "0                   0.200406  0.190264  0.075254  0.075862  0.192901  0.734686\n",
      "1                   0.016633  0.098783  0.032454  0.036308  0.081136  0.265314\n",
      "All                 0.217039  0.289047  0.107708  0.112170  0.274037  1.000000\n",
      "online_security_backup         0         2         3         4         5  \\\n",
      "churn                                                                      \n",
      "0                       0.200406  0.162677  0.105680  0.124949  0.140974   \n",
      "1                       0.016633  0.149290  0.025152  0.057201  0.017039   \n",
      "All                     0.217039  0.311968  0.130832  0.182150  0.158012   \n",
      "\n",
      "online_security_backup       All  \n",
      "churn                             \n",
      "0                       0.734686  \n",
      "1                       0.265314  \n",
      "All                     1.000000  \n",
      "device_protection        No  No internet service       Yes       All\n",
      "churn                                                               \n",
      "0                  0.271400             0.200406  0.262880  0.734686\n",
      "1                  0.169980             0.016633  0.078702  0.265314\n",
      "All                0.441379             0.217039  0.341582  1.000000\n",
      "tech_support        No  No internet service       Yes       All\n",
      "churn                                                          \n",
      "0             0.290669             0.200406  0.243611  0.734686\n",
      "1             0.204868             0.016633  0.043813  0.265314\n",
      "All           0.495538             0.217039  0.287424  1.000000\n",
      "contract_type_id         1         2         3       All\n",
      "churn                                                   \n",
      "0                 0.315619  0.189655  0.229412  0.734686\n",
      "1                 0.233469  0.025152  0.006694  0.265314\n",
      "All               0.549087  0.214807  0.236105  1.000000\n"
     ]
    }
   ],
   "source": [
    "features = ['payment_type', 'tenure_year', 'internet_service_type', 'phone_id','household_type_id', 'streaming_services', 'online_security_backup','device_protection', 'tech_support','contract_type_id']\n",
    "\n",
    "for element in features:\n",
    "    print(pd.crosstab(train_df.churn, train_df[element], margins=True, normalize=True))"
   ]
  },
  {
   "cell_type": "code",
   "execution_count": 70,
   "metadata": {},
   "outputs": [
    {
     "data": {
      "text/html": [
       "<style  type=\"text/css\" >\n",
       "    #T_38d4e4b2_5651_11e9_9186_b8e85649363crow0_col0 {\n",
       "            background-color:  #df171d;\n",
       "        }    #T_38d4e4b2_5651_11e9_9186_b8e85649363crow0_col1 {\n",
       "            background-color:  #fecf6b;\n",
       "        }    #T_38d4e4b2_5651_11e9_9186_b8e85649363crow0_col2 {\n",
       "            background-color:  #a80026;\n",
       "        }    #T_38d4e4b2_5651_11e9_9186_b8e85649363crow0_col3 {\n",
       "            background-color:  #f94828;\n",
       "        }    #T_38d4e4b2_5651_11e9_9186_b8e85649363crow1_col0 {\n",
       "            background-color:  #ffffcc;\n",
       "        }    #T_38d4e4b2_5651_11e9_9186_b8e85649363crow1_col1 {\n",
       "            background-color:  #ffffcc;\n",
       "        }    #T_38d4e4b2_5651_11e9_9186_b8e85649363crow1_col2 {\n",
       "            background-color:  #ffffcc;\n",
       "        }    #T_38d4e4b2_5651_11e9_9186_b8e85649363crow1_col3 {\n",
       "            background-color:  #ffffcc;\n",
       "        }    #T_38d4e4b2_5651_11e9_9186_b8e85649363crow2_col0 {\n",
       "            background-color:  #800026;\n",
       "        }    #T_38d4e4b2_5651_11e9_9186_b8e85649363crow2_col1 {\n",
       "            background-color:  #800026;\n",
       "        }    #T_38d4e4b2_5651_11e9_9186_b8e85649363crow2_col2 {\n",
       "            background-color:  #800026;\n",
       "        }    #T_38d4e4b2_5651_11e9_9186_b8e85649363crow2_col3 {\n",
       "            background-color:  #800026;\n",
       "        }</style>  \n",
       "<table id=\"T_38d4e4b2_5651_11e9_9186_b8e85649363c\" > \n",
       "<thead>    <tr> \n",
       "        <th class=\"index_name level0\" >internet_service_type</th> \n",
       "        <th class=\"col_heading level0 col0\" >DSL</th> \n",
       "        <th class=\"col_heading level0 col1\" >Fiber optic</th> \n",
       "        <th class=\"col_heading level0 col2\" >None</th> \n",
       "        <th class=\"col_heading level0 col3\" >All</th> \n",
       "    </tr>    <tr> \n",
       "        <th class=\"index_name level0\" >churn</th> \n",
       "        <th class=\"blank\" ></th> \n",
       "        <th class=\"blank\" ></th> \n",
       "        <th class=\"blank\" ></th> \n",
       "        <th class=\"blank\" ></th> \n",
       "    </tr></thead> \n",
       "<tbody>    <tr> \n",
       "        <th id=\"T_38d4e4b2_5651_11e9_9186_b8e85649363clevel0_row0\" class=\"row_heading level0 row0\" >0</th> \n",
       "        <td id=\"T_38d4e4b2_5651_11e9_9186_b8e85649363crow0_col0\" class=\"data row0 col0\" >0.279513</td> \n",
       "        <td id=\"T_38d4e4b2_5651_11e9_9186_b8e85649363crow0_col1\" class=\"data row0 col1\" >0.254767</td> \n",
       "        <td id=\"T_38d4e4b2_5651_11e9_9186_b8e85649363crow0_col2\" class=\"data row0 col2\" >0.200406</td> \n",
       "        <td id=\"T_38d4e4b2_5651_11e9_9186_b8e85649363crow0_col3\" class=\"data row0 col3\" >0.734686</td> \n",
       "    </tr>    <tr> \n",
       "        <th id=\"T_38d4e4b2_5651_11e9_9186_b8e85649363clevel0_row1\" class=\"row_heading level0 row1\" >1</th> \n",
       "        <td id=\"T_38d4e4b2_5651_11e9_9186_b8e85649363crow1_col0\" class=\"data row1 col0\" >0.0659229</td> \n",
       "        <td id=\"T_38d4e4b2_5651_11e9_9186_b8e85649363crow1_col1\" class=\"data row1 col1\" >0.182759</td> \n",
       "        <td id=\"T_38d4e4b2_5651_11e9_9186_b8e85649363crow1_col2\" class=\"data row1 col2\" >0.0166329</td> \n",
       "        <td id=\"T_38d4e4b2_5651_11e9_9186_b8e85649363crow1_col3\" class=\"data row1 col3\" >0.265314</td> \n",
       "    </tr>    <tr> \n",
       "        <th id=\"T_38d4e4b2_5651_11e9_9186_b8e85649363clevel0_row2\" class=\"row_heading level0 row2\" >All</th> \n",
       "        <td id=\"T_38d4e4b2_5651_11e9_9186_b8e85649363crow2_col0\" class=\"data row2 col0\" >0.345436</td> \n",
       "        <td id=\"T_38d4e4b2_5651_11e9_9186_b8e85649363crow2_col1\" class=\"data row2 col1\" >0.437525</td> \n",
       "        <td id=\"T_38d4e4b2_5651_11e9_9186_b8e85649363crow2_col2\" class=\"data row2 col2\" >0.217039</td> \n",
       "        <td id=\"T_38d4e4b2_5651_11e9_9186_b8e85649363crow2_col3\" class=\"data row2 col3\" >1</td> \n",
       "    </tr></tbody> \n",
       "</table> "
      ],
      "text/plain": [
       "<pandas.io.formats.style.Styler at 0x1a1cc8bf98>"
      ]
     },
     "execution_count": 70,
     "metadata": {},
     "output_type": "execute_result"
    }
   ],
   "source": [
    "pd.crosstab(train_df.churn, train_df.internet_service_type, margins=True, normalize=True).style.background_gradient(cmap='YlOrRd')\n"
   ]
  },
  {
   "cell_type": "code",
   "execution_count": 71,
   "metadata": {},
   "outputs": [
    {
     "data": {
      "text/html": [
       "<style  type=\"text/css\" >\n",
       "    #T_38e19694_5651_11e9_9186_b8e85649363crow0_col0 {\n",
       "            background-color:  #fd953f;\n",
       "        }    #T_38e19694_5651_11e9_9186_b8e85649363crow0_col1 {\n",
       "            background-color:  #f23924;\n",
       "        }    #T_38e19694_5651_11e9_9186_b8e85649363crow0_col2 {\n",
       "            background-color:  #e41c1d;\n",
       "        }    #T_38e19694_5651_11e9_9186_b8e85649363crow0_col3 {\n",
       "            background-color:  #cb0a22;\n",
       "        }    #T_38e19694_5651_11e9_9186_b8e85649363crow0_col4 {\n",
       "            background-color:  #f94828;\n",
       "        }    #T_38e19694_5651_11e9_9186_b8e85649363crow1_col0 {\n",
       "            background-color:  #ffffcc;\n",
       "        }    #T_38e19694_5651_11e9_9186_b8e85649363crow1_col1 {\n",
       "            background-color:  #ffffcc;\n",
       "        }    #T_38e19694_5651_11e9_9186_b8e85649363crow1_col2 {\n",
       "            background-color:  #ffffcc;\n",
       "        }    #T_38e19694_5651_11e9_9186_b8e85649363crow1_col3 {\n",
       "            background-color:  #ffffcc;\n",
       "        }    #T_38e19694_5651_11e9_9186_b8e85649363crow1_col4 {\n",
       "            background-color:  #ffffcc;\n",
       "        }    #T_38e19694_5651_11e9_9186_b8e85649363crow2_col0 {\n",
       "            background-color:  #800026;\n",
       "        }    #T_38e19694_5651_11e9_9186_b8e85649363crow2_col1 {\n",
       "            background-color:  #800026;\n",
       "        }    #T_38e19694_5651_11e9_9186_b8e85649363crow2_col2 {\n",
       "            background-color:  #800026;\n",
       "        }    #T_38e19694_5651_11e9_9186_b8e85649363crow2_col3 {\n",
       "            background-color:  #800026;\n",
       "        }    #T_38e19694_5651_11e9_9186_b8e85649363crow2_col4 {\n",
       "            background-color:  #800026;\n",
       "        }</style>  \n",
       "<table id=\"T_38e19694_5651_11e9_9186_b8e85649363c\" > \n",
       "<thead>    <tr> \n",
       "        <th class=\"index_name level0\" >household_type_id</th> \n",
       "        <th class=\"col_heading level0 col0\" >0</th> \n",
       "        <th class=\"col_heading level0 col1\" >1</th> \n",
       "        <th class=\"col_heading level0 col2\" >2</th> \n",
       "        <th class=\"col_heading level0 col3\" >3</th> \n",
       "        <th class=\"col_heading level0 col4\" >All</th> \n",
       "    </tr>    <tr> \n",
       "        <th class=\"index_name level0\" >churn</th> \n",
       "        <th class=\"blank\" ></th> \n",
       "        <th class=\"blank\" ></th> \n",
       "        <th class=\"blank\" ></th> \n",
       "        <th class=\"blank\" ></th> \n",
       "        <th class=\"blank\" ></th> \n",
       "    </tr></thead> \n",
       "<tbody>    <tr> \n",
       "        <th id=\"T_38e19694_5651_11e9_9186_b8e85649363clevel0_row0\" class=\"row_heading level0 row0\" >0</th> \n",
       "        <td id=\"T_38e19694_5651_11e9_9186_b8e85649363crow0_col0\" class=\"data row0 col0\" >0.308114</td> \n",
       "        <td id=\"T_38e19694_5651_11e9_9186_b8e85649363crow0_col1\" class=\"data row0 col1\" >0.174848</td> \n",
       "        <td id=\"T_38e19694_5651_11e9_9186_b8e85649363crow0_col2\" class=\"data row0 col2\" >0.041785</td> \n",
       "        <td id=\"T_38e19694_5651_11e9_9186_b8e85649363crow0_col3\" class=\"data row0 col3\" >0.209939</td> \n",
       "        <td id=\"T_38e19694_5651_11e9_9186_b8e85649363crow0_col4\" class=\"data row0 col4\" >0.734686</td> \n",
       "    </tr>    <tr> \n",
       "        <th id=\"T_38e19694_5651_11e9_9186_b8e85649363clevel0_row1\" class=\"row_heading level0 row1\" >1</th> \n",
       "        <td id=\"T_38e19694_5651_11e9_9186_b8e85649363crow1_col0\" class=\"data row1 col0\" >0.16146</td> \n",
       "        <td id=\"T_38e19694_5651_11e9_9186_b8e85649363crow1_col1\" class=\"data row1 col1\" >0.056998</td> \n",
       "        <td id=\"T_38e19694_5651_11e9_9186_b8e85649363crow1_col2\" class=\"data row1 col2\" >0.0107505</td> \n",
       "        <td id=\"T_38e19694_5651_11e9_9186_b8e85649363crow1_col3\" class=\"data row1 col3\" >0.0361055</td> \n",
       "        <td id=\"T_38e19694_5651_11e9_9186_b8e85649363crow1_col4\" class=\"data row1 col4\" >0.265314</td> \n",
       "    </tr>    <tr> \n",
       "        <th id=\"T_38e19694_5651_11e9_9186_b8e85649363clevel0_row2\" class=\"row_heading level0 row2\" >All</th> \n",
       "        <td id=\"T_38e19694_5651_11e9_9186_b8e85649363crow2_col0\" class=\"data row2 col0\" >0.469574</td> \n",
       "        <td id=\"T_38e19694_5651_11e9_9186_b8e85649363crow2_col1\" class=\"data row2 col1\" >0.231846</td> \n",
       "        <td id=\"T_38e19694_5651_11e9_9186_b8e85649363crow2_col2\" class=\"data row2 col2\" >0.0525355</td> \n",
       "        <td id=\"T_38e19694_5651_11e9_9186_b8e85649363crow2_col3\" class=\"data row2 col3\" >0.246045</td> \n",
       "        <td id=\"T_38e19694_5651_11e9_9186_b8e85649363crow2_col4\" class=\"data row2 col4\" >1</td> \n",
       "    </tr></tbody> \n",
       "</table> "
      ],
      "text/plain": [
       "<pandas.io.formats.style.Styler at 0x1a1cc34828>"
      ]
     },
     "execution_count": 71,
     "metadata": {},
     "output_type": "execute_result"
    }
   ],
   "source": [
    "pd.crosstab(train_df.churn, train_df.household_type_id, margins=True, normalize=True).style.background_gradient(cmap='YlOrRd')"
   ]
  },
  {
   "cell_type": "code",
   "execution_count": 72,
   "metadata": {},
   "outputs": [
    {
     "data": {
      "text/html": [
       "<style  type=\"text/css\" >\n",
       "    #T_38ee5906_5651_11e9_9186_b8e85649363crow0_col0 {\n",
       "            background-color:  #f64227;\n",
       "        }    #T_38ee5906_5651_11e9_9186_b8e85649363crow0_col1 {\n",
       "            background-color:  #f43d25;\n",
       "        }    #T_38ee5906_5651_11e9_9186_b8e85649363crow0_col2 {\n",
       "            background-color:  #fc592d;\n",
       "        }    #T_38ee5906_5651_11e9_9186_b8e85649363crow0_col3 {\n",
       "            background-color:  #f94828;\n",
       "        }    #T_38ee5906_5651_11e9_9186_b8e85649363crow1_col0 {\n",
       "            background-color:  #ffffcc;\n",
       "        }    #T_38ee5906_5651_11e9_9186_b8e85649363crow1_col1 {\n",
       "            background-color:  #ffffcc;\n",
       "        }    #T_38ee5906_5651_11e9_9186_b8e85649363crow1_col2 {\n",
       "            background-color:  #ffffcc;\n",
       "        }    #T_38ee5906_5651_11e9_9186_b8e85649363crow1_col3 {\n",
       "            background-color:  #ffffcc;\n",
       "        }    #T_38ee5906_5651_11e9_9186_b8e85649363crow2_col0 {\n",
       "            background-color:  #800026;\n",
       "        }    #T_38ee5906_5651_11e9_9186_b8e85649363crow2_col1 {\n",
       "            background-color:  #800026;\n",
       "        }    #T_38ee5906_5651_11e9_9186_b8e85649363crow2_col2 {\n",
       "            background-color:  #800026;\n",
       "        }    #T_38ee5906_5651_11e9_9186_b8e85649363crow2_col3 {\n",
       "            background-color:  #800026;\n",
       "        }</style>  \n",
       "<table id=\"T_38ee5906_5651_11e9_9186_b8e85649363c\" > \n",
       "<thead>    <tr> \n",
       "        <th class=\"index_name level0\" >phone_id</th> \n",
       "        <th class=\"col_heading level0 col0\" >0</th> \n",
       "        <th class=\"col_heading level0 col1\" >1</th> \n",
       "        <th class=\"col_heading level0 col2\" >2</th> \n",
       "        <th class=\"col_heading level0 col3\" >All</th> \n",
       "    </tr>    <tr> \n",
       "        <th class=\"index_name level0\" >churn</th> \n",
       "        <th class=\"blank\" ></th> \n",
       "        <th class=\"blank\" ></th> \n",
       "        <th class=\"blank\" ></th> \n",
       "        <th class=\"blank\" ></th> \n",
       "    </tr></thead> \n",
       "<tbody>    <tr> \n",
       "        <th id=\"T_38ee5906_5651_11e9_9186_b8e85649363clevel0_row0\" class=\"row_heading level0 row0\" >0</th> \n",
       "        <td id=\"T_38ee5906_5651_11e9_9186_b8e85649363crow0_col0\" class=\"data row0 col0\" >0.0718053</td> \n",
       "        <td id=\"T_38ee5906_5651_11e9_9186_b8e85649363crow0_col1\" class=\"data row0 col1\" >0.365517</td> \n",
       "        <td id=\"T_38ee5906_5651_11e9_9186_b8e85649363crow0_col2\" class=\"data row0 col2\" >0.297363</td> \n",
       "        <td id=\"T_38ee5906_5651_11e9_9186_b8e85649363crow0_col3\" class=\"data row0 col3\" >0.734686</td> \n",
       "    </tr>    <tr> \n",
       "        <th id=\"T_38ee5906_5651_11e9_9186_b8e85649363clevel0_row1\" class=\"row_heading level0 row1\" >1</th> \n",
       "        <td id=\"T_38ee5906_5651_11e9_9186_b8e85649363crow1_col0\" class=\"data row1 col0\" >0.0249493</td> \n",
       "        <td id=\"T_38ee5906_5651_11e9_9186_b8e85649363crow1_col1\" class=\"data row1 col1\" >0.121907</td> \n",
       "        <td id=\"T_38ee5906_5651_11e9_9186_b8e85649363crow1_col2\" class=\"data row1 col2\" >0.118458</td> \n",
       "        <td id=\"T_38ee5906_5651_11e9_9186_b8e85649363crow1_col3\" class=\"data row1 col3\" >0.265314</td> \n",
       "    </tr>    <tr> \n",
       "        <th id=\"T_38ee5906_5651_11e9_9186_b8e85649363clevel0_row2\" class=\"row_heading level0 row2\" >All</th> \n",
       "        <td id=\"T_38ee5906_5651_11e9_9186_b8e85649363crow2_col0\" class=\"data row2 col0\" >0.0967546</td> \n",
       "        <td id=\"T_38ee5906_5651_11e9_9186_b8e85649363crow2_col1\" class=\"data row2 col1\" >0.487424</td> \n",
       "        <td id=\"T_38ee5906_5651_11e9_9186_b8e85649363crow2_col2\" class=\"data row2 col2\" >0.415822</td> \n",
       "        <td id=\"T_38ee5906_5651_11e9_9186_b8e85649363crow2_col3\" class=\"data row2 col3\" >1</td> \n",
       "    </tr></tbody> \n",
       "</table> "
      ],
      "text/plain": [
       "<pandas.io.formats.style.Styler at 0x1a1b10f240>"
      ]
     },
     "execution_count": 72,
     "metadata": {},
     "output_type": "execute_result"
    }
   ],
   "source": [
    "pd.crosstab(train_df.churn, train_df.phone_id, margins=True, normalize=True).style.background_gradient(cmap='YlOrRd')"
   ]
  },
  {
   "cell_type": "code",
   "execution_count": 73,
   "metadata": {},
   "outputs": [
    {
     "data": {
      "text/html": [
       "<style  type=\"text/css\" >\n",
       "    #T_38fab3c2_5651_11e9_9186_b8e85649363crow0_col0 {\n",
       "            background-color:  #a80026;\n",
       "        }    #T_38fab3c2_5651_11e9_9186_b8e85649363crow0_col1 {\n",
       "            background-color:  #fff3af;\n",
       "        }    #T_38fab3c2_5651_11e9_9186_b8e85649363crow0_col2 {\n",
       "            background-color:  #df171d;\n",
       "        }    #T_38fab3c2_5651_11e9_9186_b8e85649363crow0_col3 {\n",
       "            background-color:  #fd7836;\n",
       "        }    #T_38fab3c2_5651_11e9_9186_b8e85649363crow0_col4 {\n",
       "            background-color:  #b90026;\n",
       "        }    #T_38fab3c2_5651_11e9_9186_b8e85649363crow0_col5 {\n",
       "            background-color:  #f94828;\n",
       "        }    #T_38fab3c2_5651_11e9_9186_b8e85649363crow1_col0 {\n",
       "            background-color:  #ffffcc;\n",
       "        }    #T_38fab3c2_5651_11e9_9186_b8e85649363crow1_col1 {\n",
       "            background-color:  #ffffcc;\n",
       "        }    #T_38fab3c2_5651_11e9_9186_b8e85649363crow1_col2 {\n",
       "            background-color:  #ffffcc;\n",
       "        }    #T_38fab3c2_5651_11e9_9186_b8e85649363crow1_col3 {\n",
       "            background-color:  #ffffcc;\n",
       "        }    #T_38fab3c2_5651_11e9_9186_b8e85649363crow1_col4 {\n",
       "            background-color:  #ffffcc;\n",
       "        }    #T_38fab3c2_5651_11e9_9186_b8e85649363crow1_col5 {\n",
       "            background-color:  #ffffcc;\n",
       "        }    #T_38fab3c2_5651_11e9_9186_b8e85649363crow2_col0 {\n",
       "            background-color:  #800026;\n",
       "        }    #T_38fab3c2_5651_11e9_9186_b8e85649363crow2_col1 {\n",
       "            background-color:  #800026;\n",
       "        }    #T_38fab3c2_5651_11e9_9186_b8e85649363crow2_col2 {\n",
       "            background-color:  #800026;\n",
       "        }    #T_38fab3c2_5651_11e9_9186_b8e85649363crow2_col3 {\n",
       "            background-color:  #800026;\n",
       "        }    #T_38fab3c2_5651_11e9_9186_b8e85649363crow2_col4 {\n",
       "            background-color:  #800026;\n",
       "        }    #T_38fab3c2_5651_11e9_9186_b8e85649363crow2_col5 {\n",
       "            background-color:  #800026;\n",
       "        }</style>  \n",
       "<table id=\"T_38fab3c2_5651_11e9_9186_b8e85649363c\" > \n",
       "<thead>    <tr> \n",
       "        <th class=\"index_name level0\" >online_security_backup</th> \n",
       "        <th class=\"col_heading level0 col0\" >0</th> \n",
       "        <th class=\"col_heading level0 col1\" >2</th> \n",
       "        <th class=\"col_heading level0 col2\" >3</th> \n",
       "        <th class=\"col_heading level0 col3\" >4</th> \n",
       "        <th class=\"col_heading level0 col4\" >5</th> \n",
       "        <th class=\"col_heading level0 col5\" >All</th> \n",
       "    </tr>    <tr> \n",
       "        <th class=\"index_name level0\" >churn</th> \n",
       "        <th class=\"blank\" ></th> \n",
       "        <th class=\"blank\" ></th> \n",
       "        <th class=\"blank\" ></th> \n",
       "        <th class=\"blank\" ></th> \n",
       "        <th class=\"blank\" ></th> \n",
       "        <th class=\"blank\" ></th> \n",
       "    </tr></thead> \n",
       "<tbody>    <tr> \n",
       "        <th id=\"T_38fab3c2_5651_11e9_9186_b8e85649363clevel0_row0\" class=\"row_heading level0 row0\" >0</th> \n",
       "        <td id=\"T_38fab3c2_5651_11e9_9186_b8e85649363crow0_col0\" class=\"data row0 col0\" >0.200406</td> \n",
       "        <td id=\"T_38fab3c2_5651_11e9_9186_b8e85649363crow0_col1\" class=\"data row0 col1\" >0.162677</td> \n",
       "        <td id=\"T_38fab3c2_5651_11e9_9186_b8e85649363crow0_col2\" class=\"data row0 col2\" >0.10568</td> \n",
       "        <td id=\"T_38fab3c2_5651_11e9_9186_b8e85649363crow0_col3\" class=\"data row0 col3\" >0.124949</td> \n",
       "        <td id=\"T_38fab3c2_5651_11e9_9186_b8e85649363crow0_col4\" class=\"data row0 col4\" >0.140974</td> \n",
       "        <td id=\"T_38fab3c2_5651_11e9_9186_b8e85649363crow0_col5\" class=\"data row0 col5\" >0.734686</td> \n",
       "    </tr>    <tr> \n",
       "        <th id=\"T_38fab3c2_5651_11e9_9186_b8e85649363clevel0_row1\" class=\"row_heading level0 row1\" >1</th> \n",
       "        <td id=\"T_38fab3c2_5651_11e9_9186_b8e85649363crow1_col0\" class=\"data row1 col0\" >0.0166329</td> \n",
       "        <td id=\"T_38fab3c2_5651_11e9_9186_b8e85649363crow1_col1\" class=\"data row1 col1\" >0.14929</td> \n",
       "        <td id=\"T_38fab3c2_5651_11e9_9186_b8e85649363crow1_col2\" class=\"data row1 col2\" >0.0251521</td> \n",
       "        <td id=\"T_38fab3c2_5651_11e9_9186_b8e85649363crow1_col3\" class=\"data row1 col3\" >0.0572008</td> \n",
       "        <td id=\"T_38fab3c2_5651_11e9_9186_b8e85649363crow1_col4\" class=\"data row1 col4\" >0.0170385</td> \n",
       "        <td id=\"T_38fab3c2_5651_11e9_9186_b8e85649363crow1_col5\" class=\"data row1 col5\" >0.265314</td> \n",
       "    </tr>    <tr> \n",
       "        <th id=\"T_38fab3c2_5651_11e9_9186_b8e85649363clevel0_row2\" class=\"row_heading level0 row2\" >All</th> \n",
       "        <td id=\"T_38fab3c2_5651_11e9_9186_b8e85649363crow2_col0\" class=\"data row2 col0\" >0.217039</td> \n",
       "        <td id=\"T_38fab3c2_5651_11e9_9186_b8e85649363crow2_col1\" class=\"data row2 col1\" >0.311968</td> \n",
       "        <td id=\"T_38fab3c2_5651_11e9_9186_b8e85649363crow2_col2\" class=\"data row2 col2\" >0.130832</td> \n",
       "        <td id=\"T_38fab3c2_5651_11e9_9186_b8e85649363crow2_col3\" class=\"data row2 col3\" >0.18215</td> \n",
       "        <td id=\"T_38fab3c2_5651_11e9_9186_b8e85649363crow2_col4\" class=\"data row2 col4\" >0.158012</td> \n",
       "        <td id=\"T_38fab3c2_5651_11e9_9186_b8e85649363crow2_col5\" class=\"data row2 col5\" >1</td> \n",
       "    </tr></tbody> \n",
       "</table> "
      ],
      "text/plain": [
       "<pandas.io.formats.style.Styler at 0x1a1cdf4668>"
      ]
     },
     "execution_count": 73,
     "metadata": {},
     "output_type": "execute_result"
    }
   ],
   "source": [
    "pd.crosstab(train_df.churn, train_df.online_security_backup, margins=True, normalize=True).style.background_gradient(cmap='YlOrRd')"
   ]
  },
  {
   "cell_type": "code",
   "execution_count": 74,
   "metadata": {},
   "outputs": [
    {
     "data": {
      "text/html": [
       "<style  type=\"text/css\" >\n",
       "    #T_39078b74_5651_11e9_9186_b8e85649363crow0_col0 {\n",
       "            background-color:  #fed673;\n",
       "        }    #T_39078b74_5651_11e9_9186_b8e85649363crow0_col1 {\n",
       "            background-color:  #be0126;\n",
       "        }    #T_39078b74_5651_11e9_9186_b8e85649363crow0_col2 {\n",
       "            background-color:  #8d0026;\n",
       "        }    #T_39078b74_5651_11e9_9186_b8e85649363crow0_col3 {\n",
       "            background-color:  #f94828;\n",
       "        }    #T_39078b74_5651_11e9_9186_b8e85649363crow1_col0 {\n",
       "            background-color:  #ffffcc;\n",
       "        }    #T_39078b74_5651_11e9_9186_b8e85649363crow1_col1 {\n",
       "            background-color:  #ffffcc;\n",
       "        }    #T_39078b74_5651_11e9_9186_b8e85649363crow1_col2 {\n",
       "            background-color:  #ffffcc;\n",
       "        }    #T_39078b74_5651_11e9_9186_b8e85649363crow1_col3 {\n",
       "            background-color:  #ffffcc;\n",
       "        }    #T_39078b74_5651_11e9_9186_b8e85649363crow2_col0 {\n",
       "            background-color:  #800026;\n",
       "        }    #T_39078b74_5651_11e9_9186_b8e85649363crow2_col1 {\n",
       "            background-color:  #800026;\n",
       "        }    #T_39078b74_5651_11e9_9186_b8e85649363crow2_col2 {\n",
       "            background-color:  #800026;\n",
       "        }    #T_39078b74_5651_11e9_9186_b8e85649363crow2_col3 {\n",
       "            background-color:  #800026;\n",
       "        }</style>  \n",
       "<table id=\"T_39078b74_5651_11e9_9186_b8e85649363c\" > \n",
       "<thead>    <tr> \n",
       "        <th class=\"index_name level0\" >contract_type_id</th> \n",
       "        <th class=\"col_heading level0 col0\" >1</th> \n",
       "        <th class=\"col_heading level0 col1\" >2</th> \n",
       "        <th class=\"col_heading level0 col2\" >3</th> \n",
       "        <th class=\"col_heading level0 col3\" >All</th> \n",
       "    </tr>    <tr> \n",
       "        <th class=\"index_name level0\" >churn</th> \n",
       "        <th class=\"blank\" ></th> \n",
       "        <th class=\"blank\" ></th> \n",
       "        <th class=\"blank\" ></th> \n",
       "        <th class=\"blank\" ></th> \n",
       "    </tr></thead> \n",
       "<tbody>    <tr> \n",
       "        <th id=\"T_39078b74_5651_11e9_9186_b8e85649363clevel0_row0\" class=\"row_heading level0 row0\" >0</th> \n",
       "        <td id=\"T_39078b74_5651_11e9_9186_b8e85649363crow0_col0\" class=\"data row0 col0\" >0.315619</td> \n",
       "        <td id=\"T_39078b74_5651_11e9_9186_b8e85649363crow0_col1\" class=\"data row0 col1\" >0.189655</td> \n",
       "        <td id=\"T_39078b74_5651_11e9_9186_b8e85649363crow0_col2\" class=\"data row0 col2\" >0.229412</td> \n",
       "        <td id=\"T_39078b74_5651_11e9_9186_b8e85649363crow0_col3\" class=\"data row0 col3\" >0.734686</td> \n",
       "    </tr>    <tr> \n",
       "        <th id=\"T_39078b74_5651_11e9_9186_b8e85649363clevel0_row1\" class=\"row_heading level0 row1\" >1</th> \n",
       "        <td id=\"T_39078b74_5651_11e9_9186_b8e85649363crow1_col0\" class=\"data row1 col0\" >0.233469</td> \n",
       "        <td id=\"T_39078b74_5651_11e9_9186_b8e85649363crow1_col1\" class=\"data row1 col1\" >0.0251521</td> \n",
       "        <td id=\"T_39078b74_5651_11e9_9186_b8e85649363crow1_col2\" class=\"data row1 col2\" >0.00669371</td> \n",
       "        <td id=\"T_39078b74_5651_11e9_9186_b8e85649363crow1_col3\" class=\"data row1 col3\" >0.265314</td> \n",
       "    </tr>    <tr> \n",
       "        <th id=\"T_39078b74_5651_11e9_9186_b8e85649363clevel0_row2\" class=\"row_heading level0 row2\" >All</th> \n",
       "        <td id=\"T_39078b74_5651_11e9_9186_b8e85649363crow2_col0\" class=\"data row2 col0\" >0.549087</td> \n",
       "        <td id=\"T_39078b74_5651_11e9_9186_b8e85649363crow2_col1\" class=\"data row2 col1\" >0.214807</td> \n",
       "        <td id=\"T_39078b74_5651_11e9_9186_b8e85649363crow2_col2\" class=\"data row2 col2\" >0.236105</td> \n",
       "        <td id=\"T_39078b74_5651_11e9_9186_b8e85649363crow2_col3\" class=\"data row2 col3\" >1</td> \n",
       "    </tr></tbody> \n",
       "</table> "
      ],
      "text/plain": [
       "<pandas.io.formats.style.Styler at 0x1a1cdfb128>"
      ]
     },
     "execution_count": 74,
     "metadata": {},
     "output_type": "execute_result"
    }
   ],
   "source": [
    "pd.crosstab(train_df.churn, train_df.contract_type_id, margins=True, normalize=True).style.background_gradient(cmap='YlOrRd')"
   ]
  },
  {
   "cell_type": "markdown",
   "metadata": {},
   "source": [
    "## Based on these features: \n",
    "### 'payment_type', 'tenure_year', 'internet_service_type', 'phone_id','household_type_id', 'streaming_services', 'online_security_backup','device_protection', 'tech_support','contract_type_id'\n",
    "### There is a difference between customers who have the following services:\n",
    "### 'internet_service_type': Fiber optic and DSL customers are more likely to churn.\n",
    "### 'household_type_id': Households without partners and without dependents are more likely to churn.\n",
    "### 'phone_id': Anyone Phone services (1 line or multi-line) are more likely to churn.\n",
    "### 'online_security_backup': Without online security & without online backup services are more likely to churn than with.\n",
    "### 'contract_type_id': Month-to-month customers are most likely to churn"
   ]
  },
  {
   "cell_type": "markdown",
   "metadata": {},
   "source": [
    "# Question 3\n",
    "Is there a price threshold for specific services where the likelihood of churn increases once price for those services goes past that point? If so, what is that point for what service(s)? "
   ]
  },
  {
   "cell_type": "code",
   "execution_count": null,
   "metadata": {},
   "outputs": [],
   "source": [
    "sns.swarmplot(x=\"online_security_backup\", y=\"monthly_charges\", data=train_df, hue=\"churn\", palette=\"Set2\")\n",
    "ax = sns.boxplot(x=\"online_security_backup\", y=\"monthly_charges\", data=train_df,\n",
    "        showcaps=True,boxprops={'facecolor':'None'},\n",
    "        showfliers=True,whiskerprops={'linewidth':0})"
   ]
  },
  {
   "cell_type": "code",
   "execution_count": null,
   "metadata": {},
   "outputs": [],
   "source": [
    "sns.swarmplot(x=\"streaming_services\", y=\"monthly_charges\", data=train_df, hue=\"churn\", palette=\"Set2\")\n",
    "ax = sns.boxplot(x=\"streaming_services\", y=\"monthly_charges\", data=train_df,\n",
    "        showcaps=True,boxprops={'facecolor':'None'},\n",
    "        showfliers=True,whiskerprops={'linewidth':0})"
   ]
  },
  {
   "cell_type": "code",
   "execution_count": null,
   "metadata": {},
   "outputs": [],
   "source": [
    "sns.swarmplot(x=\"phone_id\", y=\"monthly_charges\", data=train_df, hue=\"churn\", palette=\"Set2\")\n",
    "ax = sns.boxplot(x=\"phone_id\", y=\"monthly_charges\", data=train_df,\n",
    "        showcaps=True,boxprops={'facecolor':'None'},\n",
    "        showfliers=True,whiskerprops={'linewidth':0})"
   ]
  },
  {
   "cell_type": "code",
   "execution_count": null,
   "metadata": {},
   "outputs": [],
   "source": [
    "sns.swarmplot(x=\"contract_type_id\", y=\"monthly_charges\", data=train_df, hue=\"churn\", palette=\"Set2\")\n",
    "ax = sns.boxplot(x=\"contract_type_id\", y=\"monthly_charges\", data=train_df,\n",
    "        showcaps=True,boxprops={'facecolor':'None'},\n",
    "        showfliers=True,whiskerprops={'linewidth':0})"
   ]
  },
  {
   "cell_type": "markdown",
   "metadata": {},
   "source": [
    "### There does not seem to be a price threshold for monthly charges where customers are more likely to churn for any one service. "
   ]
  },
  {
   "cell_type": "markdown",
   "metadata": {},
   "source": [
    "# Question 4\n",
    "If we looked at churn rate for month-to-month customers after the 12th month and that of 1-year contract customers after the 12th month, are those rates comparable? "
   ]
  },
  {
   "cell_type": "code",
   "execution_count": 102,
   "metadata": {},
   "outputs": [],
   "source": [
    "mtm = train_df[train_df.contract_type_id == 1]\n",
    "mtm_after12 = mtm[mtm.tenure_year > 1]"
   ]
  },
  {
   "cell_type": "code",
   "execution_count": 124,
   "metadata": {},
   "outputs": [
    {
     "data": {
      "text/plain": [
       "0    886\n",
       "1    444\n",
       "Name: churn, dtype: int64"
      ]
     },
     "execution_count": 124,
     "metadata": {},
     "output_type": "execute_result"
    }
   ],
   "source": [
    "mtmc = mtm_after12.churn.value_counts()\n",
    "mtmc"
   ]
  },
  {
   "cell_type": "code",
   "execution_count": 139,
   "metadata": {},
   "outputs": [
    {
     "name": "stdout",
     "output_type": "stream",
     "text": [
      "Rate of churn for month-to-month after 12th month: 33.38%\n"
     ]
    }
   ],
   "source": [
    "print('Rate of churn for month-to-month after 12th month: {:.2%}'.format(mtmc[1]/(mtmc[0]+mtmc[1])))"
   ]
  },
  {
   "cell_type": "code",
   "execution_count": 105,
   "metadata": {},
   "outputs": [],
   "source": [
    "one_year = train_df[train_df.contract_type_id == 2]\n",
    "one_year_after12 = one_year[one_year.tenure_year > 1]"
   ]
  },
  {
   "cell_type": "code",
   "execution_count": 141,
   "metadata": {},
   "outputs": [
    {
     "data": {
      "text/plain": [
       "0    853\n",
       "1    114\n",
       "Name: churn, dtype: int64"
      ]
     },
     "execution_count": 141,
     "metadata": {},
     "output_type": "execute_result"
    }
   ],
   "source": [
    "one_yearc = one_year_after12.churn.value_counts()\n",
    "one_yearc"
   ]
  },
  {
   "cell_type": "code",
   "execution_count": 149,
   "metadata": {},
   "outputs": [
    {
     "name": "stdout",
     "output_type": "stream",
     "text": [
      "Rate of churn for one_year after 12th month: 11.79%\n"
     ]
    }
   ],
   "source": [
    "print('Rate of churn for one_year after 12th month: {:.2%}'.format(one_yearc[1]/(one_yearc[0]+one_yearc[1])))"
   ]
  },
  {
   "cell_type": "markdown",
   "metadata": {},
   "source": [
    "### The rate for month-to-month customers after the 12th month is 3x higher than the rate for 1-yr customers after the 12th month. "
   ]
  },
  {
   "cell_type": "markdown",
   "metadata": {},
   "source": [
    "# Question 5\n",
    "Controlling for services (phone_id, internet_service_type_id, online_security_backup, device_protection, tech_support, and contract_type_id), is the mean monthly_charges of those who have churned significantly different from that of those who have not churned? (Use a t-test to answer this.) ",
    "\n"
   ]
  },
  {
   "cell_type": "code",
   "execution_count": 122,
   "metadata": {},
   "outputs": [
    {
     "data": {
      "text/html": [
       "<div>\n",
       "<style scoped>\n",
       "    .dataframe tbody tr th:only-of-type {\n",
       "        vertical-align: middle;\n",
       "    }\n",
       "\n",
       "    .dataframe tbody tr th {\n",
       "        vertical-align: top;\n",
       "    }\n",
       "\n",
       "    .dataframe thead th {\n",
       "        text-align: right;\n",
       "    }\n",
       "</style>\n",
       "<table border=\"1\" class=\"dataframe\">\n",
       "  <thead>\n",
       "    <tr style=\"text-align: right;\">\n",
       "      <th></th>\n",
       "      <th>monthly_charges</th>\n",
       "      <th>phone_id</th>\n",
       "      <th>internet_service_type_id</th>\n",
       "      <th>online_security_backup</th>\n",
       "      <th>device_protection</th>\n",
       "      <th>tech_support</th>\n",
       "      <th>contract_type_id</th>\n",
       "    </tr>\n",
       "  </thead>\n",
       "  <tbody>\n",
       "    <tr>\n",
       "      <th>0</th>\n",
       "      <td>59.90</td>\n",
       "      <td>2</td>\n",
       "      <td>1</td>\n",
       "      <td>2</td>\n",
       "      <td>No</td>\n",
       "      <td>No</td>\n",
       "      <td>1</td>\n",
       "    </tr>\n",
       "    <tr>\n",
       "      <th>1</th>\n",
       "      <td>69.40</td>\n",
       "      <td>1</td>\n",
       "      <td>1</td>\n",
       "      <td>2</td>\n",
       "      <td>No</td>\n",
       "      <td>Yes</td>\n",
       "      <td>1</td>\n",
       "    </tr>\n",
       "    <tr>\n",
       "      <th>2</th>\n",
       "      <td>48.20</td>\n",
       "      <td>1</td>\n",
       "      <td>1</td>\n",
       "      <td>3</td>\n",
       "      <td>No</td>\n",
       "      <td>No</td>\n",
       "      <td>1</td>\n",
       "    </tr>\n",
       "    <tr>\n",
       "      <th>3</th>\n",
       "      <td>25.10</td>\n",
       "      <td>0</td>\n",
       "      <td>1</td>\n",
       "      <td>2</td>\n",
       "      <td>No</td>\n",
       "      <td>No</td>\n",
       "      <td>1</td>\n",
       "    </tr>\n",
       "    <tr>\n",
       "      <th>4</th>\n",
       "      <td>30.50</td>\n",
       "      <td>0</td>\n",
       "      <td>1</td>\n",
       "      <td>3</td>\n",
       "      <td>No</td>\n",
       "      <td>No</td>\n",
       "      <td>1</td>\n",
       "    </tr>\n",
       "    <tr>\n",
       "      <th>5</th>\n",
       "      <td>49.25</td>\n",
       "      <td>1</td>\n",
       "      <td>1</td>\n",
       "      <td>3</td>\n",
       "      <td>No</td>\n",
       "      <td>No</td>\n",
       "      <td>1</td>\n",
       "    </tr>\n",
       "    <tr>\n",
       "      <th>6</th>\n",
       "      <td>45.00</td>\n",
       "      <td>0</td>\n",
       "      <td>1</td>\n",
       "      <td>5</td>\n",
       "      <td>Yes</td>\n",
       "      <td>Yes</td>\n",
       "      <td>1</td>\n",
       "    </tr>\n",
       "    <tr>\n",
       "      <th>7</th>\n",
       "      <td>44.30</td>\n",
       "      <td>1</td>\n",
       "      <td>1</td>\n",
       "      <td>2</td>\n",
       "      <td>No</td>\n",
       "      <td>No</td>\n",
       "      <td>1</td>\n",
       "    </tr>\n",
       "    <tr>\n",
       "      <th>8</th>\n",
       "      <td>50.35</td>\n",
       "      <td>2</td>\n",
       "      <td>1</td>\n",
       "      <td>2</td>\n",
       "      <td>No</td>\n",
       "      <td>No</td>\n",
       "      <td>1</td>\n",
       "    </tr>\n",
       "    <tr>\n",
       "      <th>9</th>\n",
       "      <td>64.50</td>\n",
       "      <td>2</td>\n",
       "      <td>1</td>\n",
       "      <td>3</td>\n",
       "      <td>No</td>\n",
       "      <td>No</td>\n",
       "      <td>1</td>\n",
       "    </tr>\n",
       "  </tbody>\n",
       "</table>\n",
       "</div>"
      ],
      "text/plain": [
       "   monthly_charges  phone_id  internet_service_type_id  \\\n",
       "0            59.90         2                         1   \n",
       "1            69.40         1                         1   \n",
       "2            48.20         1                         1   \n",
       "3            25.10         0                         1   \n",
       "4            30.50         0                         1   \n",
       "5            49.25         1                         1   \n",
       "6            45.00         0                         1   \n",
       "7            44.30         1                         1   \n",
       "8            50.35         2                         1   \n",
       "9            64.50         2                         1   \n",
       "\n",
       "   online_security_backup device_protection tech_support  contract_type_id  \n",
       "0                       2                No           No                 1  \n",
       "1                       2                No          Yes                 1  \n",
       "2                       3                No           No                 1  \n",
       "3                       2                No           No                 1  \n",
       "4                       3                No           No                 1  \n",
       "5                       3                No           No                 1  \n",
       "6                       5               Yes          Yes                 1  \n",
       "7                       2                No           No                 1  \n",
       "8                       2                No           No                 1  \n",
       "9                       3                No           No                 1  "
      ]
     },
     "execution_count": 122,
     "metadata": {},
     "output_type": "execute_result"
    }
   ],
   "source": [
    "df[['monthly_charges','phone_id', 'internet_service_type_id', 'online_security_backup', 'device_protection', 'tech_support', 'contract_type_id']].head(10)"
   ]
  },
  {
   "cell_type": "code",
   "execution_count": 123,
   "metadata": {},
   "outputs": [],
   "source": [
    "features = ['phone_id', 'internet_service_type_id', 'online_security_backup', 'device_protection', 'tech_support', 'contract_type_id']"
   ]
  },
  {
   "cell_type": "code",
   "execution_count": 124,
   "metadata": {},
   "outputs": [
    {
     "data": {
      "text/plain": [
       "['phone_id',\n",
       " 'internet_service_type_id',\n",
       " 'online_security_backup',\n",
       " 'device_protection',\n",
       " 'tech_support',\n",
       " 'contract_type_id']"
      ]
     },
     "execution_count": 124,
     "metadata": {},
     "output_type": "execute_result"
    }
   ],
   "source": [
    "features"
   ]
  },
  {
   "cell_type": "code",
   "execution_count": null,
   "metadata": {
    "scrolled": true
   },
   "outputs": [],
   "source": [
    "# for element in features:\n",
    "#     uni_elements = (df[element].unique())\n",
    "#     for i in uni_elements:\n",
    "#         element = features[element]\n",
    "#         print(stats.ttest_ind(df['monthly_charges'], df.element==i))\n",
    "    \n",
    "#     for i in df[features[i]].unique:\n",
    "#         print(stats.ttest_ind(df['monthly_charges'], df[features[i]]))"
   ]
  },
  {
   "cell_type": "markdown",
   "metadata": {},
   "source": [
    "## For phone_id, the t-test shows that there is a large difference between the mean of the monthly charges for those who have NO PHONE SERVICE."
   ]
  },
  {
   "cell_type": "code",
   "execution_count": 125,
   "metadata": {},
   "outputs": [
    {
     "data": {
      "text/plain": [
       "Ttest_indResult(statistic=60.918154437714556, pvalue=0.0)"
      ]
     },
     "execution_count": 125,
     "metadata": {},
     "output_type": "execute_result"
    }
   ],
   "source": [
    "stats.ttest_ind(train_df['monthly_charges'],train_df.phone_id==0)"
   ]
  },
  {
   "cell_type": "code",
   "execution_count": 126,
   "metadata": {},
   "outputs": [
    {
     "data": {
      "text/plain": [
       "Ttest_indResult(statistic=-3.0749700626430325, pvalue=0.0021109962525832538)"
      ]
     },
     "execution_count": 126,
     "metadata": {},
     "output_type": "execute_result"
    }
   ],
   "source": [
    "stats.ttest_ind(train_df['monthly_charges'],train_df.phone_id==1)"
   ]
  },
  {
   "cell_type": "code",
   "execution_count": 127,
   "metadata": {
    "scrolled": true
   },
   "outputs": [
    {
     "data": {
      "text/plain": [
       "Ttest_indResult(statistic=5.6095624908392026, pvalue=2.0831315196171296e-08)"
      ]
     },
     "execution_count": 127,
     "metadata": {},
     "output_type": "execute_result"
    }
   ],
   "source": [
    "stats.ttest_ind(train_df['monthly_charges'],train_df.phone_id==2)"
   ]
  },
  {
   "cell_type": "markdown",
   "metadata": {},
   "source": [
    "## For internet_service_type_id, the t-test shows that the BIGGEST difference between the mean monthly charges is for the customers WITH NO INTERNET SERVICE.\n",
    "\n",
    "## The second largest difference between the monthly charges is with the DSL customers.\n",
    "\n",
    "## The smallest difference between monthly charges is with Fiber Optic customers."
   ]
  },
  {
   "cell_type": "code",
   "execution_count": 128,
   "metadata": {},
   "outputs": [
    {
     "data": {
      "text/plain": [
       "array([1, 2, 3])"
      ]
     },
     "execution_count": 128,
     "metadata": {},
     "output_type": "execute_result"
    }
   ],
   "source": [
    "df['internet_service_type_id'].unique()"
   ]
  },
  {
   "cell_type": "code",
   "execution_count": 129,
   "metadata": {},
   "outputs": [
    {
     "data": {
      "text/plain": [
       "Ttest_indResult(statistic=14.550105059179268, pvalue=1.807360643707193e-47)"
      ]
     },
     "execution_count": 129,
     "metadata": {},
     "output_type": "execute_result"
    }
   ],
   "source": [
    "stats.ttest_ind(train_df['monthly_charges'],train_df.internet_service_type_id==1)"
   ]
  },
  {
   "cell_type": "code",
   "execution_count": 130,
   "metadata": {},
   "outputs": [
    {
     "data": {
      "text/plain": [
       "Ttest_indResult(statistic=2.953386115636789, pvalue=0.0031505053514344914)"
      ]
     },
     "execution_count": 130,
     "metadata": {},
     "output_type": "execute_result"
    }
   ],
   "source": [
    "stats.ttest_ind(train_df['monthly_charges'],train_df.internet_service_type_id==2)"
   ]
  },
  {
   "cell_type": "code",
   "execution_count": 131,
   "metadata": {
    "scrolled": false
   },
   "outputs": [
    {
     "data": {
      "text/plain": [
       "Ttest_indResult(statistic=33.738350176973384, pvalue=3.036993616422523e-236)"
      ]
     },
     "execution_count": 131,
     "metadata": {},
     "output_type": "execute_result"
    }
   ],
   "source": [
    "stats.ttest_ind(train_df['monthly_charges'],train_df.internet_service_type_id==3)"
   ]
  },
  {
   "cell_type": "markdown",
   "metadata": {},
   "source": [
    "## For online_security_backup, the t-test shows that the BIGGEST difference between the mean monthly charges is for the customers WITH EITHER OR BOTH SERVICES (Online security and online backup."
   ]
  },
  {
   "cell_type": "code",
   "execution_count": 132,
   "metadata": {},
   "outputs": [
    {
     "data": {
      "text/plain": [
       "array([2, 3, 5, 4, 0])"
      ]
     },
     "execution_count": 132,
     "metadata": {},
     "output_type": "execute_result"
    }
   ],
   "source": [
    "df['online_security_backup'].unique()"
   ]
  },
  {
   "cell_type": "code",
   "execution_count": 133,
   "metadata": {},
   "outputs": [
    {
     "data": {
      "text/plain": [
       "Ttest_indResult(statistic=33.738350176973384, pvalue=3.036993616422523e-236)"
      ]
     },
     "execution_count": 133,
     "metadata": {},
     "output_type": "execute_result"
    }
   ],
   "source": [
    "stats.ttest_ind(train_df['monthly_charges'],train_df.online_security_backup==0)"
   ]
  },
  {
   "cell_type": "code",
   "execution_count": 134,
   "metadata": {},
   "outputs": [
    {
     "data": {
      "text/plain": [
       "Ttest_indResult(statistic=19.080917531429225, pvalue=9.855956737160408e-80)"
      ]
     },
     "execution_count": 134,
     "metadata": {},
     "output_type": "execute_result"
    }
   ],
   "source": [
    "stats.ttest_ind(train_df['monthly_charges'],train_df.online_security_backup==2)"
   ]
  },
  {
   "cell_type": "code",
   "execution_count": 135,
   "metadata": {
    "scrolled": false
   },
   "outputs": [
    {
     "data": {
      "text/plain": [
       "Ttest_indResult(statistic=51.53574095282298, pvalue=0.0)"
      ]
     },
     "execution_count": 135,
     "metadata": {},
     "output_type": "execute_result"
    }
   ],
   "source": [
    "stats.ttest_ind(train_df['monthly_charges'],train_df.online_security_backup==3)"
   ]
  },
  {
   "cell_type": "code",
   "execution_count": 136,
   "metadata": {},
   "outputs": [
    {
     "data": {
      "text/plain": [
       "Ttest_indResult(statistic=40.20243574124135, pvalue=0.0)"
      ]
     },
     "execution_count": 136,
     "metadata": {},
     "output_type": "execute_result"
    }
   ],
   "source": [
    "stats.ttest_ind(train_df['monthly_charges'],train_df.online_security_backup==4)"
   ]
  },
  {
   "cell_type": "code",
   "execution_count": 137,
   "metadata": {
    "scrolled": false
   },
   "outputs": [
    {
     "data": {
      "text/plain": [
       "Ttest_indResult(statistic=45.20560987263717, pvalue=0.0)"
      ]
     },
     "execution_count": 137,
     "metadata": {},
     "output_type": "execute_result"
    }
   ],
   "source": [
    "stats.ttest_ind(train_df['monthly_charges'],train_df.online_security_backup==5)"
   ]
  },
  {
   "cell_type": "markdown",
   "metadata": {},
   "source": [
    "## For device_protection, the t-test shows that the BIGGEST difference between the mean monthly charges is for the customers WITH NO INTERNET SERVICE."
   ]
  },
  {
   "cell_type": "code",
   "execution_count": 138,
   "metadata": {},
   "outputs": [
    {
     "data": {
      "text/plain": [
       "array(['No', 'Yes', 'No internet service'], dtype=object)"
      ]
     },
     "execution_count": 138,
     "metadata": {},
     "output_type": "execute_result"
    }
   ],
   "source": [
    "df['device_protection'].unique()"
   ]
  },
  {
   "cell_type": "code",
   "execution_count": 139,
   "metadata": {},
   "outputs": [
    {
     "data": {
      "text/plain": [
       "Ttest_indResult(statistic=2.4847346542459636, pvalue=0.012981268975733503)"
      ]
     },
     "execution_count": 139,
     "metadata": {},
     "output_type": "execute_result"
    }
   ],
   "source": [
    "stats.ttest_ind(train_df['monthly_charges'],train_df.device_protection=='No')"
   ]
  },
  {
   "cell_type": "code",
   "execution_count": 140,
   "metadata": {},
   "outputs": [
    {
     "data": {
      "text/plain": [
       "Ttest_indResult(statistic=15.060367698325406, pvalue=1.078987151538876e-50)"
      ]
     },
     "execution_count": 140,
     "metadata": {},
     "output_type": "execute_result"
    }
   ],
   "source": [
    "stats.ttest_ind(train_df['monthly_charges'],train_df.device_protection=='Yes')"
   ]
  },
  {
   "cell_type": "code",
   "execution_count": 141,
   "metadata": {
    "scrolled": true
   },
   "outputs": [
    {
     "data": {
      "text/plain": [
       "Ttest_indResult(statistic=33.738350176973384, pvalue=3.036993616422523e-236)"
      ]
     },
     "execution_count": 141,
     "metadata": {},
     "output_type": "execute_result"
    }
   ],
   "source": [
    "stats.ttest_ind(train_df['monthly_charges'],train_df.device_protection=='No internet service')"
   ]
  },
  {
   "cell_type": "markdown",
   "metadata": {},
   "source": [
    "## For tech_support, the t-test shows that the BIGGEST differences between the mean monthly charges are for the customers WITH TECH SUPPORT OR NO INTERNET SERVICE."
   ]
  },
  {
   "cell_type": "code",
   "execution_count": 142,
   "metadata": {},
   "outputs": [
    {
     "data": {
      "text/plain": [
       "array(['No', 'Yes', 'No internet service'], dtype=object)"
      ]
     },
     "execution_count": 142,
     "metadata": {},
     "output_type": "execute_result"
    }
   ],
   "source": [
    "df['tech_support'].unique()"
   ]
  },
  {
   "cell_type": "code",
   "execution_count": 143,
   "metadata": {},
   "outputs": [
    {
     "data": {
      "text/plain": [
       "Ttest_indResult(statistic=-4.051710216310085, pvalue=5.1234656562537754e-05)"
      ]
     },
     "execution_count": 143,
     "metadata": {},
     "output_type": "execute_result"
    }
   ],
   "source": [
    "stats.ttest_ind(train_df['monthly_charges'],train_df.tech_support=='No')"
   ]
  },
  {
   "cell_type": "code",
   "execution_count": 144,
   "metadata": {},
   "outputs": [
    {
     "data": {
      "text/plain": [
       "Ttest_indResult(statistic=22.571980801589756, pvalue=4.867740062299326e-110)"
      ]
     },
     "execution_count": 144,
     "metadata": {},
     "output_type": "execute_result"
    }
   ],
   "source": [
    "stats.ttest_ind(train_df['monthly_charges'],train_df.tech_support=='Yes')"
   ]
  },
  {
   "cell_type": "code",
   "execution_count": 145,
   "metadata": {
    "scrolled": false
   },
   "outputs": [
    {
     "data": {
      "text/plain": [
       "Ttest_indResult(statistic=33.738350176973384, pvalue=3.036993616422523e-236)"
      ]
     },
     "execution_count": 145,
     "metadata": {},
     "output_type": "execute_result"
    }
   ],
   "source": [
    "stats.ttest_ind(train_df['monthly_charges'],train_df.tech_support=='No internet service')"
   ]
  },
  {
   "cell_type": "markdown",
   "metadata": {},
   "source": [
    "## For contract_type_id, the t-test shows that the BIGGEST differences between the mean monthly charges are for the customers WITH 2 year OR 3 year SERVICE."
   ]
  },
  {
   "cell_type": "code",
   "execution_count": 146,
   "metadata": {},
   "outputs": [
    {
     "data": {
      "text/plain": [
       "array([1, 2, 3])"
      ]
     },
     "execution_count": 146,
     "metadata": {},
     "output_type": "execute_result"
    }
   ],
   "source": [
    "df['contract_type_id'].unique()"
   ]
  },
  {
   "cell_type": "code",
   "execution_count": 147,
   "metadata": {},
   "outputs": [
    {
     "data": {
      "text/plain": [
       "Ttest_indResult(statistic=-10.539463289394869, pvalue=7.795174905139504e-26)"
      ]
     },
     "execution_count": 147,
     "metadata": {},
     "output_type": "execute_result"
    }
   ],
   "source": [
    "stats.ttest_ind(train_df['monthly_charges'],train_df.contract_type_id==1)"
   ]
  },
  {
   "cell_type": "code",
   "execution_count": 148,
   "metadata": {},
   "outputs": [
    {
     "data": {
      "text/plain": [
       "Ttest_indResult(statistic=34.12920104225471, pvalue=2.091105285157649e-241)"
      ]
     },
     "execution_count": 148,
     "metadata": {},
     "output_type": "execute_result"
    }
   ],
   "source": [
    "stats.ttest_ind(train_df['monthly_charges'],train_df.contract_type_id==2)"
   ]
  },
  {
   "cell_type": "code",
   "execution_count": 149,
   "metadata": {
    "scrolled": true
   },
   "outputs": [
    {
     "data": {
      "text/plain": [
       "Ttest_indResult(statistic=30.50472267105949, pvalue=2.2340463668662617e-195)"
      ]
     },
     "execution_count": 149,
     "metadata": {},
     "output_type": "execute_result"
    }
   ],
   "source": [
    "stats.ttest_ind(train_df['monthly_charges'],train_df.contract_type_id==3)"
   ]
  },
  {
   "cell_type": "markdown",
   "metadata": {},
   "source": [
    "# Question 6 \n",
    "How much of monthly_charges can be explained by internet_service_type? (hint: correlation test). State your hypotheses and your conclusion clearly."
   ]
  },
  {
   "cell_type": "code",
   "execution_count": 1,
   "metadata": {},
   "outputs": [
    {
     "ename": "NameError",
     "evalue": "name 'sp' is not defined",
     "output_type": "error",
     "traceback": [
      "\u001b[0;31m---------------------------------------------------------------------------\u001b[0m",
      "\u001b[0;31mNameError\u001b[0m                                 Traceback (most recent call last)",
      "\u001b[0;32m<ipython-input-1-ae39bfbed9af>\u001b[0m in \u001b[0;36m<module>\u001b[0;34m\u001b[0m\n\u001b[0;32m----> 1\u001b[0;31m \u001b[0msp\u001b[0m\u001b[0;34m.\u001b[0m\u001b[0mstats\u001b[0m\u001b[0;34m.\u001b[0m\u001b[0mpearsonr\u001b[0m\u001b[0;34m(\u001b[0m\u001b[0mtrain_df\u001b[0m\u001b[0;34m.\u001b[0m\u001b[0mmonthly_charges\u001b[0m\u001b[0;34m,\u001b[0m \u001b[0mtrain_df\u001b[0m\u001b[0;34m.\u001b[0m\u001b[0minternet_service_type_id\u001b[0m\u001b[0;34m)\u001b[0m\u001b[0;34m\u001b[0m\u001b[0;34m\u001b[0m\u001b[0m\n\u001b[0m",
      "\u001b[0;31mNameError\u001b[0m: name 'sp' is not defined"
     ]
    }
   ],
   "source": [
    "sp.stats.pearsonr(train_df.monthly_charges, train_df.internet_service_type_id)"
   ]
  },
  {
   "cell_type": "code",
   "execution_count": 114,
   "metadata": {
    "scrolled": true
   },
   "outputs": [
    {
     "data": {
      "text/html": [
       "<div>\n",
       "<style scoped>\n",
       "    .dataframe tbody tr th:only-of-type {\n",
       "        vertical-align: middle;\n",
       "    }\n",
       "\n",
       "    .dataframe tbody tr th {\n",
       "        vertical-align: top;\n",
       "    }\n",
       "\n",
       "    .dataframe thead th {\n",
       "        text-align: right;\n",
       "    }\n",
       "</style>\n",
       "<table border=\"1\" class=\"dataframe\">\n",
       "  <thead>\n",
       "    <tr style=\"text-align: right;\">\n",
       "      <th></th>\n",
       "      <th>internet_service_type</th>\n",
       "      <th>internet_service_type_id</th>\n",
       "    </tr>\n",
       "  </thead>\n",
       "  <tbody>\n",
       "    <tr>\n",
       "      <th>5358</th>\n",
       "      <td>Fiber optic</td>\n",
       "      <td>2</td>\n",
       "    </tr>\n",
       "    <tr>\n",
       "      <th>559</th>\n",
       "      <td>DSL</td>\n",
       "      <td>1</td>\n",
       "    </tr>\n",
       "    <tr>\n",
       "      <th>189</th>\n",
       "      <td>DSL</td>\n",
       "      <td>1</td>\n",
       "    </tr>\n",
       "    <tr>\n",
       "      <th>4027</th>\n",
       "      <td>Fiber optic</td>\n",
       "      <td>2</td>\n",
       "    </tr>\n",
       "    <tr>\n",
       "      <th>1589</th>\n",
       "      <td>DSL</td>\n",
       "      <td>1</td>\n",
       "    </tr>\n",
       "    <tr>\n",
       "      <th>6207</th>\n",
       "      <td>None</td>\n",
       "      <td>3</td>\n",
       "    </tr>\n",
       "    <tr>\n",
       "      <th>3762</th>\n",
       "      <td>Fiber optic</td>\n",
       "      <td>2</td>\n",
       "    </tr>\n",
       "    <tr>\n",
       "      <th>5354</th>\n",
       "      <td>Fiber optic</td>\n",
       "      <td>2</td>\n",
       "    </tr>\n",
       "    <tr>\n",
       "      <th>4940</th>\n",
       "      <td>Fiber optic</td>\n",
       "      <td>2</td>\n",
       "    </tr>\n",
       "    <tr>\n",
       "      <th>149</th>\n",
       "      <td>DSL</td>\n",
       "      <td>1</td>\n",
       "    </tr>\n",
       "  </tbody>\n",
       "</table>\n",
       "</div>"
      ],
      "text/plain": [
       "     internet_service_type  internet_service_type_id\n",
       "5358           Fiber optic                         2\n",
       "559                    DSL                         1\n",
       "189                    DSL                         1\n",
       "4027           Fiber optic                         2\n",
       "1589                   DSL                         1\n",
       "6207                  None                         3\n",
       "3762           Fiber optic                         2\n",
       "5354           Fiber optic                         2\n",
       "4940           Fiber optic                         2\n",
       "149                    DSL                         1"
      ]
     },
     "execution_count": 114,
     "metadata": {},
     "output_type": "execute_result"
    }
   ],
   "source": [
    "train_df[['internet_service_type','internet_service_type_id']].head(10)"
   ]
  },
  {
   "cell_type": "code",
   "execution_count": 108,
   "metadata": {},
   "outputs": [
    {
     "data": {
      "text/plain": [
       "array([[ 1.        , -0.32208624],\n",
       "       [-0.32208624,  1.        ]])"
      ]
     },
     "execution_count": 108,
     "metadata": {},
     "output_type": "execute_result"
    }
   ],
   "source": [
    "np.corrcoef(train_df.monthly_charges, train_df.internet_service_type_id)"
   ]
  },
  {
   "cell_type": "code",
   "execution_count": 110,
   "metadata": {
    "scrolled": true
   },
   "outputs": [
    {
     "data": {
      "image/png": "[encoded data removed]",
      "text/plain": [
       "<Figure size 432x288 with 1 Axes>"
      ]
     },
     "metadata": {},
     "output_type": "display_data"
    }
   ],
   "source": [
    "plt.style.use('ggplot')\n",
    "\n",
    "plt.scatter(train_df.monthly_charges, train_df.internet_service_type_id)\n",
    "plt.show()"
   ]
  },
  {
   "cell_type": "markdown",
   "metadata": {},
   "source": [
    "## The scatter plot shows that the internet service types are somewhat spread out in a pattern. \n",
    "### The Fiber Optic customers (2 on y-axis) are some of the highest monthly charges customers. \n",
    "### The DSL customers (1 on y-axis) are very spread out in the middle of the monthly charges.\n",
    "### The no internet customers (3 on y-axis) are the lowest monthly charges customers."
   ]
  },
  {
   "cell_type": "markdown",
   "metadata": {},
   "source": [
    "## The correlation coefficient test shows that there is a weak negative correlation between the two variables. This means that there isn't a clear and strong correlation. This is because we saw a large spread on most of the customers, who are DSL customers. So this is what the correlation test shows us.\n",
    "## The scatter plots tells us more about the monthly charges in that the different internet service types do have 'typical' monthly charges based on their internet service type."
   ]
  },
  {
   "cell_type": "code",
   "execution_count": null,
   "metadata": {},
   "outputs": [],
   "source": []
  },
  {
   "cell_type": "code",
   "execution_count": null,
   "metadata": {},
   "outputs": [],
   "source": []
  },
  {
   "cell_type": "code",
   "execution_count": null,
   "metadata": {},
   "outputs": [],
   "source": []
  },
  {
   "cell_type": "code",
   "execution_count": null,
   "metadata": {},
   "outputs": [],
   "source": []
  },
  {
   "cell_type": "code",
   "execution_count": null,
   "metadata": {},
   "outputs": [],
   "source": []
  },
  {
   "cell_type": "code",
   "execution_count": null,
   "metadata": {},
   "outputs": [],
   "source": []
  },
  {
   "cell_type": "code",
   "execution_count": null,
   "metadata": {},
   "outputs": [],
   "source": []
  },
  {
   "cell_type": "code",
   "execution_count": null,
   "metadata": {},
   "outputs": [],
   "source": []
  },
  {
   "cell_type": "code",
   "execution_count": 107,
   "metadata": {},
   "outputs": [
    {
     "data": {
      "text/plain": [
       "<matplotlib.axes._subplots.AxesSubplot at 0x1a25d5bf60>"
      ]
     },
     "execution_count": 107,
     "metadata": {},
     "output_type": "execute_result"
    },
    {
     "data": {
      "image/png": "[encoded data removed]",
      "text/plain": [
       "<Figure size 1800x1512 with 2 Axes>"
      ]
     },
     "metadata": {
      "needs_background": "light"
     },
     "output_type": "display_data"
    }
   ],
   "source": [
    "train_df_notencoded = train_df.drop(columns=(['gender_encode', 'senior_citizen_encode', 'partner_encode',\n",
    "       'dependents_encode', 'tenure_encode', 'phone_service_encode',\n",
    "       'multiple_lines_encode', 'internet_service_type_id_encode',\n",
    "       'online_security_encode', 'online_backup_encode',\n",
    "       'device_protection_encode', 'tech_support_encode',\n",
    "       'streaming_tv_encode', 'streaming_movies_encode',\n",
    "       'contract_type_id_encode', 'paperless_billing_encode',\n",
    "       'payment_type_id_encode', 'churn_encode', 'contract_type_id.1_encode',\n",
    "       'contract_type_encode', 'internet_service_type_id.1_encode',\n",
    "       'internet_service_type_encode', 'payment_type_id.1_encode',\n",
    "       'payment_type_encode', 'tenure_year_encode', 'phone_id_encode',\n",
    "       'household_type_id_encode', 'streaming_services_encode',\n",
    "       'online_security_backup_encode', 'prediction']))\n",
    "\n",
    "plt.figure(figsize=(25,21))\n",
    "sns.heatmap(train_df_notencoded.corr(), cmap='Blues', annot=True)"
   ]
  },
  {
   "cell_type": "markdown",
   "metadata": {},
   "source": [
    "-contract type, phone id, gender"
   ]
  },
  {
   "cell_type": "markdown",
   "metadata": {},
   "source": [
    "## Data Exploration\n",
    "7. How much of monthly_charges can be explained by internet_service_type + phone service type (0, 1, or multiple lines). State your hypotheses and your conclusion clearly."
   ]
  },
  {
   "cell_type": "markdown",
   "metadata": {},
   "source": [
    "## Hypothesis: Those with Fiber Optic Internet are paying the highest Monthly Charges. Those with DSL, second highest. Those with no internet service are paying the lowest. \n",
    "## The customers with multiple phone lines (2) will pay the most. Those with no phone service will pay the most."
   ]
  },
  {
   "cell_type": "code",
   "execution_count": null,
   "metadata": {},
   "outputs": [],
   "source": [
    "train_df.columns"
   ]
  },
  {
   "cell_type": "code",
   "execution_count": 145,
   "metadata": {},
   "outputs": [
    {
     "data": {
      "text/html": [
       "<div>\n",
       "<style scoped>\n",
       "    .dataframe tbody tr th:only-of-type {\n",
       "        vertical-align: middle;\n",
       "    }\n",
       "\n",
       "    .dataframe tbody tr th {\n",
       "        vertical-align: top;\n",
       "    }\n",
       "\n",
       "    .dataframe thead th {\n",
       "        text-align: right;\n",
       "    }\n",
       "</style>\n",
       "<table border=\"1\" class=\"dataframe\">\n",
       "  <thead>\n",
       "    <tr style=\"text-align: right;\">\n",
       "      <th></th>\n",
       "      <th>phone_id</th>\n",
       "      <th>phone_service</th>\n",
       "    </tr>\n",
       "  </thead>\n",
       "  <tbody>\n",
       "    <tr>\n",
       "      <th>5358</th>\n",
       "      <td>1</td>\n",
       "      <td>1</td>\n",
       "    </tr>\n",
       "    <tr>\n",
       "      <th>559</th>\n",
       "      <td>1</td>\n",
       "      <td>1</td>\n",
       "    </tr>\n",
       "    <tr>\n",
       "      <th>189</th>\n",
       "      <td>2</td>\n",
       "      <td>1</td>\n",
       "    </tr>\n",
       "    <tr>\n",
       "      <th>4027</th>\n",
       "      <td>2</td>\n",
       "      <td>1</td>\n",
       "    </tr>\n",
       "    <tr>\n",
       "      <th>1589</th>\n",
       "      <td>1</td>\n",
       "      <td>1</td>\n",
       "    </tr>\n",
       "  </tbody>\n",
       "</table>\n",
       "</div>"
      ],
      "text/plain": [
       "      phone_id  phone_service\n",
       "5358         1              1\n",
       "559          1              1\n",
       "189          2              1\n",
       "4027         2              1\n",
       "1589         1              1"
      ]
     },
     "execution_count": 145,
     "metadata": {},
     "output_type": "execute_result"
    }
   ],
   "source": [
    "train_df[['phone_id','phone_service']].head()"
   ]
  },
  {
   "cell_type": "code",
   "execution_count": 143,
   "metadata": {
    "scrolled": true
   },
   "outputs": [
    {
     "data": {
      "text/html": [
       "<div>\n",
       "<style scoped>\n",
       "    .dataframe tbody tr th:only-of-type {\n",
       "        vertical-align: middle;\n",
       "    }\n",
       "\n",
       "    .dataframe tbody tr th {\n",
       "        vertical-align: top;\n",
       "    }\n",
       "\n",
       "    .dataframe thead th {\n",
       "        text-align: right;\n",
       "    }\n",
       "</style>\n",
       "<table border=\"1\" class=\"dataframe\">\n",
       "  <thead>\n",
       "    <tr style=\"text-align: right;\">\n",
       "      <th></th>\n",
       "      <th>internet_service_type</th>\n",
       "      <th>internet_service_type_id</th>\n",
       "    </tr>\n",
       "  </thead>\n",
       "  <tbody>\n",
       "    <tr>\n",
       "      <th>5358</th>\n",
       "      <td>Fiber optic</td>\n",
       "      <td>2</td>\n",
       "    </tr>\n",
       "    <tr>\n",
       "      <th>559</th>\n",
       "      <td>DSL</td>\n",
       "      <td>1</td>\n",
       "    </tr>\n",
       "    <tr>\n",
       "      <th>189</th>\n",
       "      <td>DSL</td>\n",
       "      <td>1</td>\n",
       "    </tr>\n",
       "    <tr>\n",
       "      <th>4027</th>\n",
       "      <td>Fiber optic</td>\n",
       "      <td>2</td>\n",
       "    </tr>\n",
       "    <tr>\n",
       "      <th>1589</th>\n",
       "      <td>DSL</td>\n",
       "      <td>1</td>\n",
       "    </tr>\n",
       "    <tr>\n",
       "      <th>6207</th>\n",
       "      <td>None</td>\n",
       "      <td>3</td>\n",
       "    </tr>\n",
       "    <tr>\n",
       "      <th>3762</th>\n",
       "      <td>Fiber optic</td>\n",
       "      <td>2</td>\n",
       "    </tr>\n",
       "    <tr>\n",
       "      <th>5354</th>\n",
       "      <td>Fiber optic</td>\n",
       "      <td>2</td>\n",
       "    </tr>\n",
       "    <tr>\n",
       "      <th>4940</th>\n",
       "      <td>Fiber optic</td>\n",
       "      <td>2</td>\n",
       "    </tr>\n",
       "    <tr>\n",
       "      <th>149</th>\n",
       "      <td>DSL</td>\n",
       "      <td>1</td>\n",
       "    </tr>\n",
       "  </tbody>\n",
       "</table>\n",
       "</div>"
      ],
      "text/plain": [
       "     internet_service_type  internet_service_type_id\n",
       "5358           Fiber optic                         2\n",
       "559                    DSL                         1\n",
       "189                    DSL                         1\n",
       "4027           Fiber optic                         2\n",
       "1589                   DSL                         1\n",
       "6207                  None                         3\n",
       "3762           Fiber optic                         2\n",
       "5354           Fiber optic                         2\n",
       "4940           Fiber optic                         2\n",
       "149                    DSL                         1"
      ]
     },
     "execution_count": 143,
     "metadata": {},
     "output_type": "execute_result"
    }
   ],
   "source": [
    "train_df[['internet_service_type','internet_service_type_id']].head(10)"
   ]
  },
  {
   "cell_type": "code",
   "execution_count": 144,
   "metadata": {},
   "outputs": [
    {
     "data": {
      "text/html": [
       "<div>\n",
       "<style scoped>\n",
       "    .dataframe tbody tr th:only-of-type {\n",
       "        vertical-align: middle;\n",
       "    }\n",
       "\n",
       "    .dataframe tbody tr th {\n",
       "        vertical-align: top;\n",
       "    }\n",
       "\n",
       "    .dataframe thead th {\n",
       "        text-align: right;\n",
       "    }\n",
       "</style>\n",
       "<table border=\"1\" class=\"dataframe\">\n",
       "  <thead>\n",
       "    <tr style=\"text-align: right;\">\n",
       "      <th></th>\n",
       "      <th>monthly_charges</th>\n",
       "      <th>phone_id</th>\n",
       "      <th>internet_service_type_id</th>\n",
       "    </tr>\n",
       "  </thead>\n",
       "  <tbody>\n",
       "    <tr>\n",
       "      <th>monthly_charges</th>\n",
       "      <td>1.00000</td>\n",
       "      <td>0.490700</td>\n",
       "      <td>-0.323260</td>\n",
       "    </tr>\n",
       "    <tr>\n",
       "      <th>phone_id</th>\n",
       "      <td>0.49070</td>\n",
       "      <td>1.000000</td>\n",
       "      <td>0.186826</td>\n",
       "    </tr>\n",
       "    <tr>\n",
       "      <th>internet_service_type_id</th>\n",
       "      <td>-0.32326</td>\n",
       "      <td>0.186826</td>\n",
       "      <td>1.000000</td>\n",
       "    </tr>\n",
       "  </tbody>\n",
       "</table>\n",
       "</div>"
      ],
      "text/plain": [
       "                          monthly_charges  phone_id  internet_service_type_id\n",
       "monthly_charges                   1.00000  0.490700                 -0.323260\n",
       "phone_id                          0.49070  1.000000                  0.186826\n",
       "internet_service_type_id         -0.32326  0.186826                  1.000000"
      ]
     },
     "execution_count": 144,
     "metadata": {},
     "output_type": "execute_result"
    }
   ],
   "source": [
    "df[['monthly_charges','phone_id','internet_service_type_id']].corr()"
   ]
  },
  {
   "cell_type": "code",
   "execution_count": 149,
   "metadata": {
    "scrolled": true
   },
   "outputs": [
    {
     "data": {
      "image/png": "[encoded data removed]",
      "text/plain": [
       "<Figure size 432x288 with 1 Axes>"
      ]
     },
     "metadata": {},
     "output_type": "display_data"
    }
   ],
   "source": [
    "plt.style.use('ggplot')\n",
    "plt.scatter(train_df.monthly_charges, train_df.phone_id, c='Blue', alpha=0.4)\n",
    "plt.scatter(train_df.monthly_charges, train_df.internet_service_type_id, c='Yellow', alpha=0.1)\n",
    "plt.legend()\n",
    "plt.show()"
   ]
  },
  {
   "cell_type": "markdown",
   "metadata": {},
   "source": [
    "## The scatter plot shows that the customers with no phone service tend to have a lower monthly charge. Those with 1 phone line are widely spread out. Those with multiple phone lines tend to pay more than those with no phone service.\n",
    "\n",
    "## The scatter plot shows that the internet service types are somewhat spread out in a pattern. \n",
    "### The Fiber Optic customers (2 on y-axis) are some of the highest monthly charges customers. \n",
    "### The DSL customers (1 on y-axis) are very spread out in the middle of the monthly charges.\n",
    "### The no internet customers (3 on y-axis) are the lowest monthly charges customers."
   ]
  },
  {
   "cell_type": "markdown",
   "metadata": {},
   "source": [
    "## The correlation coefficient test shows that there is a weak positive correlation between the phone service type and monthly charges. \n",
    "\n",
    "## The correlation coefficient test shows that there is a weak negative correlation between the internet service type and monthly charges. This means that there isn't a clear and strong correlation. This is because we saw a large spread on most of the customers, who are DSL customers. So this is what the correlation test shows us.\n",
    "## The scatter plots tells us more about the monthly charges in that the different internet service types do have 'typical' monthly charges based on their internet service type."
   ]
  },
  {
   "cell_type": "code",
   "execution_count": null,
   "metadata": {},
   "outputs": [],
   "source": []
  },
  {
   "cell_type": "markdown",
   "metadata": {},
   "source": [
    "## Data Exploration\n",
    "8. Create visualizations exploring the interactions of variables (independent with independent and independent with dependent). The goal is to identify features that are related to churn, identify any data integrity issues, understand 'how the data works'. For example, we may find that all who have online services also have device protection. In that case, we don't need both of those. (The visualizations done in your analysis for questions 1-5 count towards the requirements below)\n",
    "    * Each independent variable (except for customer_id) should be visualized in at least two plots, and at least 1 of those compares the independent variable with the dependent variable. "
   ]
  },
  {
   "cell_type": "code",
   "execution_count": 150,
   "metadata": {},
   "outputs": [
    {
     "data": {
      "text/plain": [
       "Index(['customer_id', 'gender', 'senior_citizen', 'partner', 'dependents',\n",
       "       'tenure', 'phone_service', 'multiple_lines', 'internet_service_type_id',\n",
       "       'online_security', 'online_backup', 'device_protection', 'tech_support',\n",
       "       'streaming_tv', 'streaming_movies', 'contract_type_id',\n",
       "       'paperless_billing', 'payment_type_id', 'monthly_charges',\n",
       "       'total_charges', 'churn', 'contract_type_id.1', 'contract_type',\n",
       "       'internet_service_type_id.1', 'internet_service_type',\n",
       "       'payment_type_id.1', 'payment_type', 'tenure_year', 'phone_id',\n",
       "       'household_type_id', 'streaming_services', 'online_security_backup',\n",
       "       'gender_encode', 'senior_citizen_encode', 'partner_encode',\n",
       "       'dependents_encode', 'tenure_encode', 'phone_service_encode',\n",
       "       'multiple_lines_encode', 'internet_service_type_id_encode',\n",
       "       'online_security_encode', 'online_backup_encode',\n",
       "       'device_protection_encode', 'tech_support_encode',\n",
       "       'streaming_tv_encode', 'streaming_movies_encode',\n",
       "       'contract_type_id_encode', 'paperless_billing_encode',\n",
       "       'payment_type_id_encode', 'churn_encode', 'contract_type_id.1_encode',\n",
       "       'contract_type_encode', 'internet_service_type_id.1_encode',\n",
       "       'internet_service_type_encode', 'payment_type_id.1_encode',\n",
       "       'payment_type_encode', 'tenure_year_encode', 'phone_id_encode',\n",
       "       'household_type_id_encode', 'streaming_services_encode',\n",
       "       'online_security_backup_encode'],\n",
       "      dtype='object')"
      ]
     },
     "execution_count": 150,
     "metadata": {},
     "output_type": "execute_result"
    }
   ],
   "source": [
    "train_df.columns"
   ]
  },
  {
   "cell_type": "code",
   "execution_count": 157,
   "metadata": {},
   "outputs": [],
   "source": [
    "ind_vars = ['gender', 'senior_citizen', 'partner', 'dependents']"
   ]
  },
  {
   "cell_type": "code",
   "execution_count": 187,
   "metadata": {},
   "outputs": [],
   "source": [
    "dep_vars = ['tenure', 'phone_id','household_type_id', 'streaming_services', \n",
    "            'online_security_backup', 'device_protection', 'tech_support', 'contract_type_id',\n",
    "           'paperless_billing', 'payment_type_id', 'monthly_charges', 'total_charges', 'churn']"
   ]
  },
  {
   "cell_type": "code",
   "execution_count": 188,
   "metadata": {},
   "outputs": [
    {
     "name": "stdout",
     "output_type": "stream",
     "text": [
      "Dependent variables: 13\n",
      "Independent variables: 4\n"
     ]
    }
   ],
   "source": [
    "print('Dependent variables:',len(dep_vars))\n",
    "print('Independent variables:',len(ind_vars))\n"
   ]
  },
  {
   "cell_type": "code",
   "execution_count": null,
   "metadata": {},
   "outputs": [],
   "source": [
    "\n",
    "plt.figure(figsize=(10,130))\n",
    "plt.subplots_adjust(hspace = 0.2, wspace=0.8)\n",
    "\n",
    "plt.subplot(13,1,1)\n",
    "train_df.tenure.value_counts().sort_index().plot(kind = \"bar\",alpha = .5)\n",
    "plt.title(\"Distirbution of tenure\")\n",
    "plt.grid(b = True , which = \"major\")\n",
    "\n",
    "plt.subplot(13,1,2)\n",
    "train_df.phone_id.value_counts().sort_index().plot(kind = \"bar\",alpha = .5)\n",
    "plt.title(\"Distirbution of phone service id\")\n",
    "plt.grid(b = True , which = \"major\")\n",
    "\n",
    "plt.subplot(13,1,3)\n",
    "train_df.household_type_id.value_counts().sort_index().plot(kind = \"bar\",alpha = .5)\n",
    "plt.title(\"Distirbution of household_type_id\")\n",
    "plt.grid(b = True , which = \"major\")\n",
    "\n",
    "plt.subplot(13,1,4)\n",
    "train_df.streaming_services.value_counts().sort_index().plot(kind = \"bar\",alpha = .5)\n",
    "plt.title(\"Distirbution of streaming_services\")\n",
    "plt.grid(b = True , which = \"major\")\n",
    "\n",
    "plt.subplot(13,1,5)\n",
    "train_df.online_security_backup.value_counts().sort_index().plot(kind = \"bar\",alpha = .5)\n",
    "plt.title(\"Distirbution of online_security_backup\")\n",
    "plt.grid(b = True , which = \"major\")\n",
    "\n",
    "plt.subplot(13,1,6)\n",
    "train_df.device_protection.value_counts().sort_index().plot(kind = \"bar\",alpha = .5)\n",
    "plt.title(\"Distirbution of device_protection\")\n",
    "plt.grid(b = True , which = \"major\")\n",
    "\n",
    "plt.subplot(13,1,7)\n",
    "train_df.tech_support.value_counts().sort_index().plot(kind = \"bar\",alpha = .5)\n",
    "plt.title(\"Distirbution of tech_support\")\n",
    "plt.grid(b = True , which = \"major\")\n",
    "\n",
    "plt.subplot(13,1,8)\n",
    "train_df.contract_type_id.value_counts().sort_index().plot(kind = \"bar\",alpha = .5)\n",
    "plt.title(\"Distirbution of contract_type_id\")\n",
    "plt.grid(b = True , which = \"major\")\n",
    "\n",
    "plt.subplot(13,1,9)\n",
    "train_df.paperless_billing.value_counts().sort_index().plot(kind = \"bar\",alpha = .5)\n",
    "plt.title(\"Distirbution of paperless_billing\")\n",
    "plt.grid(b = True , which = \"major\")\n",
    "\n",
    "plt.subplot(13,1,10)\n",
    "train_df.payment_type_id.value_counts().sort_index().plot(kind = \"bar\",alpha = .5)\n",
    "plt.title(\"Distirbution of payment_type_id\")\n",
    "plt.grid(b = True , which = \"major\")\n",
    "\n",
    "plt.subplot(13,1,11)\n",
    "train_df.monthly_charges.value_counts().sort_index().plot(kind = \"bar\",alpha = .5)\n",
    "plt.title(\"Distirbution of monthly_charges\")\n",
    "plt.grid(b = True , which = \"major\")\n",
    "\n",
    "plt.subplot(13,1,12)\n",
    "train_df.total_charges.value_counts().sort_index().plot(kind = \"bar\",alpha = .5)\n",
    "plt.title(\"Distirbution of total_charges\")\n",
    "plt.grid(b = True , which = \"major\")\n",
    "\n",
    "plt.subplot(13,1,13)\n",
    "train_df.churn.value_counts().sort_index().plot(kind = \"bar\",alpha = .5)\n",
    "plt.title(\"Distirbution of churn\")\n",
    "plt.grid(b = True , which = \"major\")"
   ]
  },
  {
   "cell_type": "code",
   "execution_count": null,
   "metadata": {},
   "outputs": [],
   "source": []
  },
  {
   "cell_type": "code",
   "execution_count": null,
   "metadata": {},
   "outputs": [],
   "source": []
  },
  {
   "cell_type": "code",
   "execution_count": null,
   "metadata": {},
   "outputs": [],
   "source": []
  },
  {
   "cell_type": "code",
   "execution_count": null,
   "metadata": {},
   "outputs": [],
   "source": []
  },
  {
   "cell_type": "code",
   "execution_count": null,
   "metadata": {},
   "outputs": [],
   "source": []
  },
  {
   "cell_type": "markdown",
   "metadata": {},
   "source": [
    "# Modeling"
   ]
  },
  {
   "cell_type": "markdown",
   "metadata": {},
   "source": [
    "Feature Selection: Are there any variables that seem to provide limited to no additional information? If so, remove them.\n",
    "\n",
    "Train (fit, transform, evaluate) multiple different models, varying the model type and your meta-parameters.\n",
    "\n",
    "Compare evaluation metrics across all the models, and select the best performing model.\n",
    "\n",
    "Test the final model (transform, evaluate) on your out-of-sample data (the testing data set). Summarize the performance. Interpret your results."
   ]
  },
  {
   "cell_type": "markdown",
   "metadata": {},
   "source": [
    "## Logistic Regression 1"
   ]
  },
  {
   "cell_type": "code",
   "execution_count": 94,
   "metadata": {},
   "outputs": [
    {
     "name": "stdout",
     "output_type": "stream",
     "text": [
      "LogisticRegression(C=1.0, class_weight=None, dual=False, fit_intercept=True,\n",
      "          intercept_scaling=1, max_iter=100, multi_class='warn',\n",
      "          n_jobs=None, penalty='l2', random_state=None, solver='warn',\n",
      "          tol=0.0001, verbose=0, warm_start=False)\n",
      "[[0.97915856 0.02084144]\n",
      " [0.60245292 0.39754708]\n",
      " [0.78485548 0.21514452]\n",
      " ...\n",
      " [0.97793097 0.02206903]\n",
      " [0.41181323 0.58818677]\n",
      " [0.75062259 0.24937741]]\n",
      "0.7888438133874239\n",
      "[[3267  355]\n",
      " [ 686  622]]\n",
      "              precision    recall  f1-score   support\n",
      "\n",
      "           0       0.83      0.90      0.86      3622\n",
      "           1       0.64      0.48      0.54      1308\n",
      "\n",
      "   micro avg       0.79      0.79      0.79      4930\n",
      "   macro avg       0.73      0.69      0.70      4930\n",
      "weighted avg       0.78      0.79      0.78      4930\n",
      "\n",
      "0    3622\n",
      "1    1308\n",
      "Name: churn, dtype: int64\n",
      "0    3953\n",
      "1     977\n",
      "Name: prediction, dtype: int64\n",
      "Accuracy: 0.7888438133874239\n"
     ]
    },
    {
     "name": "stderr",
     "output_type": "stream",
     "text": [
      "/usr/local/anaconda3/lib/python3.7/site-packages/sklearn/linear_model/logistic.py:433: FutureWarning: Default solver will be changed to 'lbfgs' in 0.22. Specify a solver to silence this warning.\n",
      "  FutureWarning)\n",
      "/usr/local/anaconda3/lib/python3.7/site-packages/ipykernel_launcher.py:15: SettingWithCopyWarning: \n",
      "A value is trying to be set on a copy of a slice from a DataFrame.\n",
      "Try using .loc[row_indexer,col_indexer] = value instead\n",
      "\n",
      "See the caveats in the documentation: http://pandas.pydata.org/pandas-docs/stable/indexing.html#indexing-view-versus-copy\n",
      "  from ipykernel import kernelapp as app\n"
     ]
    }
   ],
   "source": [
    "from sklearn.linear_model import LogisticRegression\n",
    "from sklearn.metrics import classification_report\n",
    "from sklearn.metrics import confusion_matrix\n",
    "\n",
    "#create\n",
    "logit = LogisticRegression()\n",
    "print(logit)\n",
    "\n",
    "#fit\n",
    "logit.fit(train_df[['tenure_year', 'internet_service_type_id', 'monthly_charges', 'contract_type_id', 'phone_id']], train_df.churn)\n",
    "\n",
    "#predict\n",
    "print(logit.predict_proba(train_df[['tenure_year', 'internet_service_type_id', 'monthly_charges', 'contract_type_id', 'phone_id']]))\n",
    "\n",
    "train_df['prediction']= logit.predict(train_df[['tenure_year', 'internet_service_type_id', 'monthly_charges', 'contract_type_id', 'phone_id']])\n",
    "\n",
    "#evaluate\n",
    "print(logit.score(train_df[['tenure_year', 'internet_service_type_id', 'monthly_charges', 'contract_type_id', 'phone_id']], train_df.churn))\n",
    "\n",
    "cm = confusion_matrix(train_df.churn, train_df.prediction)\n",
    "print(cm)\n",
    "\n",
    "print(classification_report(train_df.churn, train_df.prediction))\n",
    "\n",
    "print(train_df.churn.value_counts())\n",
    "\n",
    "print(train_df.prediction.value_counts())\n",
    "\n",
    "print('Accuracy:', (train_df.churn == train_df.prediction).sum() / train_df.shape[0])\n"
   ]
  },
  {
   "cell_type": "markdown",
   "metadata": {},
   "source": [
    "## Logistic Regression 2"
   ]
  },
  {
   "cell_type": "code",
   "execution_count": 108,
   "metadata": {},
   "outputs": [
    {
     "name": "stdout",
     "output_type": "stream",
     "text": [
      "LogisticRegression(C=1.0, class_weight=None, dual=False, fit_intercept=True,\n",
      "          intercept_scaling=1, max_iter=100, multi_class='warn',\n",
      "          n_jobs=None, penalty='l2', random_state=None, solver='warn',\n",
      "          tol=0.0001, verbose=0, warm_start=False)\n",
      "[[0.97421959 0.02578041]\n",
      " [0.58525774 0.41474226]\n",
      " [0.76732899 0.23267101]\n",
      " ...\n",
      " [0.97704431 0.02295569]\n",
      " [0.45360549 0.54639451]\n",
      " [0.75382378 0.24617622]]\n"
     ]
    },
    {
     "name": "stderr",
     "output_type": "stream",
     "text": [
      "/usr/local/anaconda3/lib/python3.7/site-packages/sklearn/linear_model/logistic.py:433: FutureWarning: Default solver will be changed to 'lbfgs' in 0.22. Specify a solver to silence this warning.\n",
      "  FutureWarning)\n"
     ]
    },
    {
     "name": "stdout",
     "output_type": "stream",
     "text": [
      "0.7851926977687627\n",
      "[[3248  374]\n",
      " [ 685  623]]\n",
      "              precision    recall  f1-score   support\n",
      "\n",
      "           0       0.83      0.90      0.86      3622\n",
      "           1       0.62      0.48      0.54      1308\n",
      "\n",
      "   micro avg       0.79      0.79      0.79      4930\n",
      "   macro avg       0.73      0.69      0.70      4930\n",
      "weighted avg       0.77      0.79      0.78      4930\n",
      "\n",
      "0    3622\n",
      "1    1308\n",
      "Name: churn, dtype: int64\n",
      "0    3933\n",
      "1     997\n",
      "Name: prediction, dtype: int64\n",
      "Accuracy: 0.7851926977687627\n"
     ]
    },
    {
     "name": "stderr",
     "output_type": "stream",
     "text": [
      "/usr/local/anaconda3/lib/python3.7/site-packages/ipykernel_launcher.py:11: SettingWithCopyWarning: \n",
      "A value is trying to be set on a copy of a slice from a DataFrame.\n",
      "Try using .loc[row_indexer,col_indexer] = value instead\n",
      "\n",
      "See the caveats in the documentation: http://pandas.pydata.org/pandas-docs/stable/indexing.html#indexing-view-versus-copy\n",
      "  # This is added back by InteractiveShellApp.init_path()\n"
     ]
    }
   ],
   "source": [
    "#create\n",
    "logit = LogisticRegression()\n",
    "print(logit)\n",
    "\n",
    "#fit\n",
    "logit.fit(train_df[['online_security_backup', 'tenure_year', 'internet_service_type_id', 'monthly_charges', 'contract_type_id', 'phone_id']], train_df.churn)\n",
    "\n",
    "#predict\n",
    "print(logit.predict_proba(train_df[['online_security_backup', 'tenure_year', 'internet_service_type_id', 'monthly_charges', 'contract_type_id', 'phone_id']]))\n",
    "\n",
    "train_df['prediction']= logit.predict(train_df[['online_security_backup', 'tenure_year', 'internet_service_type_id', 'monthly_charges', 'contract_type_id', 'phone_id']])\n",
    "\n",
    "#evaluate\n",
    "print(logit.score(train_df[['online_security_backup', 'tenure_year', 'internet_service_type_id', 'monthly_charges', 'contract_type_id', 'phone_id']], train_df.churn))\n",
    "\n",
    "cm = confusion_matrix(train_df.churn, train_df.prediction)\n",
    "print(cm)\n",
    "\n",
    "print(classification_report(train_df.churn, train_df.prediction))\n",
    "\n",
    "print(train_df.churn.value_counts())\n",
    "\n",
    "print(train_df.prediction.value_counts())\n",
    "\n",
    "print('Accuracy:', (train_df.churn == train_df.prediction).sum() / train_df.shape[0])"
   ]
  },
  {
   "cell_type": "markdown",
   "metadata": {},
   "source": [
    "## Logistic Regression 3"
   ]
  },
  {
   "cell_type": "code",
   "execution_count": 109,
   "metadata": {},
   "outputs": [
    {
     "name": "stdout",
     "output_type": "stream",
     "text": [
      "LogisticRegression(C=1.0, class_weight=None, dual=False, fit_intercept=True,\n",
      "          intercept_scaling=1, max_iter=100, multi_class='warn',\n",
      "          n_jobs=None, penalty='l2', random_state=None, solver='warn',\n",
      "          tol=0.0001, verbose=0, warm_start=False)\n",
      "[[0.96553121 0.03446879]\n",
      " [0.57178172 0.42821828]\n",
      " [0.80774967 0.19225033]\n",
      " ...\n",
      " [0.93041112 0.06958888]\n",
      " [0.53296388 0.46703612]\n",
      " [0.76680806 0.23319194]]\n"
     ]
    },
    {
     "name": "stderr",
     "output_type": "stream",
     "text": [
      "/usr/local/anaconda3/lib/python3.7/site-packages/sklearn/linear_model/logistic.py:433: FutureWarning: Default solver will be changed to 'lbfgs' in 0.22. Specify a solver to silence this warning.\n",
      "  FutureWarning)\n"
     ]
    },
    {
     "name": "stdout",
     "output_type": "stream",
     "text": [
      "0.7835699797160244\n",
      "[[3302  320]\n",
      " [ 747  561]]\n",
      "              precision    recall  f1-score   support\n",
      "\n",
      "           0       0.82      0.91      0.86      3622\n",
      "           1       0.64      0.43      0.51      1308\n",
      "\n",
      "   micro avg       0.78      0.78      0.78      4930\n",
      "   macro avg       0.73      0.67      0.69      4930\n",
      "weighted avg       0.77      0.78      0.77      4930\n",
      "\n",
      "0    3622\n",
      "1    1308\n",
      "Name: churn, dtype: int64\n",
      "0    4049\n",
      "1     881\n",
      "Name: prediction, dtype: int64\n",
      "Accuracy: 0.7835699797160244\n"
     ]
    },
    {
     "name": "stderr",
     "output_type": "stream",
     "text": [
      "/usr/local/anaconda3/lib/python3.7/site-packages/ipykernel_launcher.py:11: SettingWithCopyWarning: \n",
      "A value is trying to be set on a copy of a slice from a DataFrame.\n",
      "Try using .loc[row_indexer,col_indexer] = value instead\n",
      "\n",
      "See the caveats in the documentation: http://pandas.pydata.org/pandas-docs/stable/indexing.html#indexing-view-versus-copy\n",
      "  # This is added back by InteractiveShellApp.init_path()\n"
     ]
    }
   ],
   "source": [
    "#create\n",
    "logit = LogisticRegression()\n",
    "print(logit)\n",
    "\n",
    "#fit\n",
    "logit.fit(train_df[['online_security_backup', 'tenure_year', 'internet_service_type_id', 'monthly_charges', 'household_type_id', 'streaming_services']], train_df.churn)\n",
    "\n",
    "#predict\n",
    "print(logit.predict_proba(train_df[['online_security_backup', 'tenure_year', 'internet_service_type_id', 'monthly_charges', 'household_type_id', 'streaming_services']]))\n",
    "\n",
    "train_df['prediction']= logit.predict(train_df[['online_security_backup', 'tenure_year', 'internet_service_type_id', 'monthly_charges', 'household_type_id', 'streaming_services']])\n",
    "\n",
    "#evaluate\n",
    "print(logit.score(train_df[['online_security_backup', 'tenure_year', 'internet_service_type_id', 'monthly_charges', 'household_type_id', 'streaming_services']], train_df.churn))\n",
    "\n",
    "cm = confusion_matrix(train_df.churn, train_df.prediction)\n",
    "print(cm)\n",
    "\n",
    "print(classification_report(train_df.churn, train_df.prediction))\n",
    "\n",
    "print(train_df.churn.value_counts())\n",
    "\n",
    "print(train_df.prediction.value_counts())\n",
    "\n",
    "print('Accuracy:', (train_df.churn == train_df.prediction).sum() / train_df.shape[0])"
   ]
  },
  {
   "cell_type": "markdown",
   "metadata": {},
   "source": [
    "## KNN 1"
   ]
  },
  {
   "cell_type": "code",
   "execution_count": 111,
   "metadata": {},
   "outputs": [
    {
     "name": "stdout",
     "output_type": "stream",
     "text": [
      "[[3352  270]\n",
      " [ 538  770]]\n",
      "              precision    recall  f1-score   support\n",
      "\n",
      "           0       0.86      0.93      0.89      3622\n",
      "           1       0.74      0.59      0.66      1308\n",
      "\n",
      "   micro avg       0.84      0.84      0.84      4930\n",
      "   macro avg       0.80      0.76      0.77      4930\n",
      "weighted avg       0.83      0.84      0.83      4930\n",
      "\n",
      "Accuracy of KNN classifier on training set: 0.84\n"
     ]
    }
   ],
   "source": [
    "from sklearn.neighbors import KNeighborsClassifier\n",
    "\n",
    "## MAKE\n",
    "\n",
    "knn = KNeighborsClassifier(n_neighbors=5, weights='uniform')\n",
    "\n",
    "## FIT\n",
    "\n",
    "knn.fit(train_df[['online_security_backup', 'tenure_year', 'internet_service_type_id', 'monthly_charges', 'household_type_id', 'streaming_services']], train_df.churn)\n",
    "\n",
    "## PREDICT\n",
    "\n",
    "y_pred = knn.predict(train_df[['online_security_backup', 'tenure_year', 'internet_service_type_id', 'monthly_charges', 'household_type_id', 'streaming_services']])\n",
    "\n",
    "y_pred_proba = knn.predict_proba(train_df[['online_security_backup', 'tenure_year', 'internet_service_type_id', 'monthly_charges', 'household_type_id', 'streaming_services']])\n",
    "\n",
    "## EVALUATE\n",
    "\n",
    "print(confusion_matrix(train_df.churn, y_pred))\n",
    "\n",
    "print(classification_report(train_df.churn, y_pred))\n",
    "\n",
    "print('Accuracy of KNN classifier on training set: {:.2f}'\n",
    "     .format(knn.score(train_df[['online_security_backup', 'tenure_year', 'internet_service_type_id', 'monthly_charges', 'household_type_id', 'streaming_services']], train_df.churn)))"
   ]
  },
  {
   "cell_type": "markdown",
   "metadata": {},
   "source": [
    "## KNN 2"
   ]
  },
  {
   "cell_type": "code",
   "execution_count": 112,
   "metadata": {
    "scrolled": true
   },
   "outputs": [
    {
     "name": "stdout",
     "output_type": "stream",
     "text": [
      "[[3318  304]\n",
      " [ 545  763]]\n",
      "              precision    recall  f1-score   support\n",
      "\n",
      "           0       0.86      0.92      0.89      3622\n",
      "           1       0.72      0.58      0.64      1308\n",
      "\n",
      "   micro avg       0.83      0.83      0.83      4930\n",
      "   macro avg       0.79      0.75      0.76      4930\n",
      "weighted avg       0.82      0.83      0.82      4930\n",
      "\n",
      "Accuracy of KNN classifier on training set: 0.83\n"
     ]
    }
   ],
   "source": [
    "from sklearn.neighbors import KNeighborsClassifier\n",
    "\n",
    "## MAKE\n",
    "\n",
    "knn = KNeighborsClassifier(n_neighbors=5, weights='uniform')\n",
    "\n",
    "## FIT\n",
    "\n",
    "knn.fit(train_df[['tenure_year', 'monthly_charges']], train_df.churn)\n",
    "\n",
    "## PREDICT\n",
    "\n",
    "y_pred = knn.predict(train_df[['tenure_year', 'monthly_charges']])\n",
    "\n",
    "y_pred_proba = knn.predict_proba(train_df[['tenure_year', 'monthly_charges']])\n",
    "\n",
    "## EVALUATE\n",
    "\n",
    "print(confusion_matrix(train_df.churn, y_pred))\n",
    "\n",
    "print(classification_report(train_df.churn, y_pred))\n",
    "\n",
    "print('Accuracy of KNN classifier on training set: {:.2f}'\n",
    "     .format(knn.score(train_df[['tenure_year', 'monthly_charges']], train_df.churn)))"
   ]
  },
  {
   "cell_type": "code",
   "execution_count": null,
   "metadata": {},
   "outputs": [],
   "source": []
  }
 ],
 "metadata": {
  "kernelspec": {
   "display_name": "Python 3",
   "language": "python",
   "name": "python3"
  },
  "language_info": {
   "codemirror_mode": {
    "name": "ipython",
    "version": 3
   },
   "file_extension": ".py",
   "mimetype": "text/x-python",
   "name": "python",
   "nbconvert_exporter": "python",
   "pygments_lexer": "ipython3",
   "version": "3.7.1"
  }
 },
 "nbformat": 4,
 "nbformat_minor": 2
}
