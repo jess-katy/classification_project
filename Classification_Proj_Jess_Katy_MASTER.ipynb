{
 "cells": [
  {
   "cell_type": "code",
   "execution_count": 1,
   "metadata": {},
   "outputs": [],
   "source": [
    "#MASTER_NOTEBOOK_CLASSIFICATION"
   ]
  },
  {
   "cell_type": "markdown",
   "metadata": {},
   "source": [
    "# Classification Project!"
   ]
  },
  {
   "cell_type": "markdown",
   "metadata": {},
   "source": [
    "Why are our customers churning?\n",
    "Some questions I have include:\n",
    "*\tCould the month in which they signed up influence churn? i.e. if a cohort is identified by tenure, is there a cohort or cohorts who have a higher rate of churn than other cohorts? (Plot the rate of churn on a line chart where x is the tenure and y is the rate of churn (customers churned/total customers))\n",
    "*\tAre there features that indicate a higher propensity to churn? like type of internet service, type of phone service, online security and backup, senior citizens, paying more than x% of customers with the same services, etc.?\n",
    "*\tIs there a price threshold for specific services where the likelihood of churn increases once price for those services goes past that point? If so, what is that point for what service(s)?\n",
    "*\tIf we looked at churn rate for month-to-month customers after the 12th month and that of 1-year contract customers after the 12th month, are those rates comparable?\n",
    "\n",
    "## Deliverables:\n",
    "1.\tI will also need a report (ipynb) answering the question, \"Why are our customers churning?\" I want to see the analysis you did to answer my questions and lead to your findings. Please clearly call out the questions and answers you are analyzing. E.g. If you find that month-to-month customers churn more, I won't be surprised, but I am not getting rid of that plan. The fact that they churn is not because they can, it's because they can and they are motivated to do so. I want some insight into why they are motivated to do so. I realize you will not be able to do a full causal experiment, but I hope to see some solid evidence of your conclusions.\n",
    "2.\tI will need you to deliver to me a csv with the customer_id, probability of churn, and the prediction of churn (1=churn, 0=not_churn). I would also like a single goolgle slide that illustrates how your model works, including the features being used, so that I can deliver this to the SLT when they come with questions about how these values were derived. Please make sure you include how likely your model is to give a high probability of churn when churn doesn't occur, to give a low probability of churn when churn occurs, and to accurately predict churn.\n",
    "3.\tFinally, our development team will need a .py file that will take in a new dataset, (in the exact same form of the one you acquired from telco_churn.customers) and perform all the transformations necessary to run the model you have developed on this new dataset to provide probabilities and predictions.\n"
   ]
  },
  {
   "cell_type": "markdown",
   "metadata": {},
   "source": [
    "## Acquisition\n",
    "1.\tUse the mysql connector to query telco_churn.customers. Assign the output of that query to the dataframe df. You want to include all the fields.\n",
    "2.\tWrite a function, peekatdata(dataframe), that takes a dataframe as input and computes and returns the following:\n",
    "    *\tcreates dataframe object head_df (df of the first 5 rows) and prints contents to screen\n",
    "    *\tcreates dataframe object tail_df (df of the last 5 rows) and prints contents to screen\n",
    "    *\tcreates tuple object shape_tuple (tuple of (nrows, ncols)) and prints tuple to screen\n",
    "    *\tcreates dataframe object describe_df (summary statistics of all numeric variables) and prints contents to screen.\n",
    "    *\tprints to screen the information about a DataFrame including the index dtype and column dtypes, non-null values and memory usage."
   ]
  },
  {
   "cell_type": "code",
   "execution_count": null,
   "metadata": {},
   "outputs": [],
   "source": []
  },
  {
   "cell_type": "code",
   "execution_count": null,
   "metadata": {},
   "outputs": [],
   "source": []
  },
  {
   "cell_type": "markdown",
   "metadata": {},
   "source": [
    "## Data Prep\n",
    "1.\tWrite a function, df_value_counts(dataframe), that takes a dataframe as input and computes and returns the values by frequency for each variable. Use the rule of thumb for your logic on whether or not to use the bins argument. The function will use a for loop and an in statement.\n",
    "for col in df.columns: n = df[col].unique().shape[0] col_bins = min(n,10) print('%s:' % col) if df[col].dtype in ['int64','float64'] and n > 10: print(df[col].value_counts(bins=col_bins, sort=False)) else: print(df[col].value_counts()) print('\\n')\n",
    "1.\tMissing Values:\n",
    "    *\tWrite a function, that returns a dataframe of the column name and the number of missing values and the percentage of missing values (missing records/total records) for each of the columns that have > 0 missing values.\n",
    "df.isnull().sum()\n",
    "    *\tDocument your takeaways. For each variable:\n",
    "    *\tshould you remove the observations with a missing value for that variable?\n",
    "    *\tshould you remove the variable altogether?\n",
    "    *\tis missing equivalent to 0 (or some other constant value) in the specific case of this variable?\n",
    "    *\tshould you replace the missing values with a value it is most likely to represent (e.g. Are the missing values a result of data integrity issues and should be replaced by the most likely value?)\n",
    "    *\tHandle the missing values in the way you recommended above.\n",
    "2.\tTransform churn such that \"yes\" = 1 and \"no\" = 0\n",
    "3.\tCompute a new feature, tenure_year, that is a result of translating tenure from months to years.\n",
    "4.\tFigure out a way to capture the information contained in phone_service and multiple_lines into a single variable of dtype int. Write a function that will transform the data and place in a new column phone_id in df_sql. Be sure you have documented your function and logic well.\n",
    "5.\tFigure out a way to capture the information contained in dependents and partner into a single variable of dtype int. Transform the data and place in a new column household_type_id in df_sql. Be sure you have documented your function and logic well.\n",
    "6.\tFigure out a way to capture the information contained in streaming_tv and streaming_movies into a single variable of dtype int. Transform the data and place in a new column streaming_services in df_sql. Be sure you have documented your function and logic well.\n",
    "7.\tFigure out a way to capture the information contained in online_security and online_backup into a single variable of dtype int. Transform the data and place in a new column online_security_backup in df_sql. Be sure you have documented your function and logic well.\n",
    "8.\tData Split\n",
    "    *\tSplit data into train (70%) & test (30%) samples. You should end with 2 data frames: train_df and test_df\n",
    "train_df, test_df = train_test_split(df_sql, test_size = .30, random_state = 123, stratify = df[['churn']])\n",
    "9.\tVariable Encoding\n",
    "    *\twrite an encoder (fit and transform on train_df) for each non-numeric variable. Use that encoder object to transform on test_df\n",
    "10.\tNumeric Scaling\n",
    "    *\tFit a min_max_scaler to train_df. Transform monthly_charges and total_charges variables in train_df using the scaler. Then use the scaler object to transform test_df.\n"
   ]
  },
  {
   "cell_type": "code",
   "execution_count": null,
   "metadata": {},
   "outputs": [],
   "source": []
  },
  {
   "cell_type": "markdown",
   "metadata": {},
   "source": [
    "## Data Exploration\n",
    "### Deliverable\n",
    "I will also need a report (ipynb) answering the question, \"Why are our customers churning?\" I want to see the analysis you did to answer my questions and lead to your findings. Please clearly call out the questions and answers you are analyzing. E.g. If you find that month-to-month customers churn more, I won't be surprised, but I am not getting rid of that plan. The fact that they churn is not because they can, it's because they can and they are motivated to do so. I want some insight intowhy they are motivated to do so. I realize you will not be able to do a full causal experiment, but I hope to see some solid evidence of your conclusions.\n",
    "1.\tCould the month in which they signed up influence churn? i.e. if a cohort is identified by tenure, is there a cohort or cohorts who have a higher rate of churn than other cohorts? (Plot the rate of churn on a line chart where x is the tenure and y is the rate of churn (customers churned/total customers))\n",
    "2.\tAre there features that indicate a higher propensity to churn? like type of internet service, type of phone service, online security and backup, senior citizens, paying more than x% of customers with the same services, etc.?\n",
    "3.\tIs there a price threshold for specific services where the likelihood of churn increases once price for those services goes past that point? If so, what is that point for what service(s)?\n",
    "4.\tIf we looked at churn rate for month-to-month customers after the 12th month and that of 1-year contract customers after the 12th month, are those rates comparable?\n",
    "5.\tControlling for services (phone_id, internet_service_type_id, online_security_backup, device_protection, tech_support, and contract_type_id), is the mean monthly_charges of those who have churned significantly different from that of those who have not churned?\n",
    "import scipy as sp import numpy as np sp.stats.ttest_ind(df.dropna()[train_df['churn']==1]['monthly_charges'], df.dropna()[train_df['churn']==0]['monthly_charges'])\n",
    "6.\tHow much of monthly_charges can be explained by internet_service_type? (hint: correlation test). State your hypotheses and your conclusion clearly.\n",
    "7.\tHow much of monthly_charges can be explained by internet_service_type + phone service type (0, 1, or multiple lines). State your hypotheses and your conclusion clearly.\n",
    "8.\tCreate visualizations exploring the interactions of variables (independent with independent and independent with dependent). The goal is to identify features that are related to churn, identify any data integrity issues, understand 'how the data works', e.g. we may find that all who have online services also have device protection. In that case, we don't need both of those. (The visualizations done in your analysis for questions 1-5 count towards the requirements below)\n",
    "•\tEach independent variable (except for customer_id) must be visualized in at least two plots, and at least 1 of those compares the independent variable with the dependent variable.\n",
    "•\tFor each plot where x and y are independent variables, add a third dimension (where possible), of churn represented by color.\n",
    "•\tUse subplots when plotting the same type of chart but with different variables.\n",
    "•\tAdjust the axes as necessary to extract information from the visualizations (adjusting the x & y limits, setting the scale where needed, etc.)\n",
    "•\tAdd annotations to at least 5 plots with a key takeaway from that plot.\n",
    "•\tUse plots from matplotlib, pandas and seaborn.\n",
    "•\tUse each of the following:\n",
    "•\tsns.heatmap\n",
    "•\tpd.crosstab (with color)\n",
    "•\tpd.scatter_matrix\n",
    "•\tsns.barplot\n",
    "•\tsns.swarmplot\n",
    "•\tsns.pairplot\n",
    "•\tsns.jointplot\n",
    "•\tsns.relplot or plt.scatter\n",
    "•\tsns.distplot or plt.hist\n",
    "•\tsns.boxplot\n",
    "•\tplt.plot\n",
    "•\tUse at least one more type of plot that is not included in the list above.\n",
    "9.\tWhat can you say about each variable's relationship to churn, based on your initial exploration? If there appears to be some sort of interaction or correlation, assume there is no causal relationship and brainstorm (and document) ideas on reasons there could be correlation.\n",
    "•\tphone_id\n",
    "•\tinternet_service_type_id\n",
    "•\tonline_security_backup\n",
    "•\tdevice_protection\n",
    "•\ttech_support\n",
    "•\tcontract_type_id\n",
    "•\tsenior_citizen\n",
    "•\ttenure\n",
    "•\ttenure_year\n",
    "•\tmonthly_charges\n",
    "•\ttotal_charges\n",
    "•\tpayment_type_id\n",
    "•\tpaperless_billing\n",
    "•\tcontract_type_id\n",
    "•\tgender\n",
    "10.\tSummarize your conclusions, provide clear answers to the specific questions, and summarize any takeaways/action plan from the work above."
   ]
  },
  {
   "cell_type": "code",
   "execution_count": null,
   "metadata": {},
   "outputs": [],
   "source": []
  }
 ],
 "metadata": {
  "kernelspec": {
   "display_name": "Python 3",
   "language": "python",
   "name": "python3"
  },
  "language_info": {
   "codemirror_mode": {
    "name": "ipython",
    "version": 3
   },
   "file_extension": ".py",
   "mimetype": "text/x-python",
   "name": "python",
   "nbconvert_exporter": "python",
   "pygments_lexer": "ipython3",
   "version": "3.7.1"
  }
 },
 "nbformat": 4,
 "nbformat_minor": 2
}
